{
 "cells": [
  {
   "cell_type": "code",
   "execution_count": 175,
   "metadata": {
    "collapsed": false
   },
   "outputs": [],
   "source": [
    "import pandas as pd\n",
    "import scipy.stats\n",
    "import statsmodels.formula.api as sm"
   ]
  },
  {
   "cell_type": "code",
   "execution_count": 114,
   "metadata": {
    "collapsed": true
   },
   "outputs": [],
   "source": [
    "# Read in our files.\n",
    "train_features = pd.read_csv('train_features_2013-03-07.csv')\n",
    "train_salaries = pd.read_csv('train_salaries_2013-03-07.csv')\n",
    "test_data = pd.read_csv('test_features_2013-03-07.csv')"
   ]
  },
  {
   "cell_type": "code",
   "execution_count": 115,
   "metadata": {
    "collapsed": false
   },
   "outputs": [],
   "source": [
    "# Join train_{features, salaries} on jobId as primary key.\n",
    "train_data = pd.merge(train_features, train_salaries, on='jobId', how='inner')"
   ]
  },
  {
   "cell_type": "code",
   "execution_count": 116,
   "metadata": {
    "collapsed": true
   },
   "outputs": [],
   "source": [
    "# In-place drop rows with any NaN value.\n",
    "train_data.dropna(how='any', inplace=True)\n",
    "test_data.dropna(how='any', inplace=True)"
   ]
  },
  {
   "cell_type": "code",
   "execution_count": 79,
   "metadata": {
    "collapsed": true
   },
   "outputs": [],
   "source": [
    "# Drop entries where salary = 0. Keep these in for now.\n",
    "# train_data = train_data[train_data.salary != 0]"
   ]
  },
  {
   "cell_type": "code",
   "execution_count": 117,
   "metadata": {
    "collapsed": true
   },
   "outputs": [],
   "source": [
    "# Dictionary for mapping variable names to integers.\n",
    "mapping = {}"
   ]
  },
  {
   "cell_type": "code",
   "execution_count": 118,
   "metadata": {
    "collapsed": false
   },
   "outputs": [],
   "source": [
    "# Assign integers for these (string) variables.\n",
    "names = ['companyId', 'industry', 'major', 'jobType', 'degree']\n",
    "for name in names:\n",
    "    for i in enumerate(train_data[name].unique()):\n",
    "        if name not in mapping.keys():\n",
    "            mapping[name] = {i[1]: i[0]}\n",
    "        else:\n",
    "            mapping[name].update({i[1]: i[0]})\n",
    "    train_data[name] = train_data[name].replace(mapping[name])\n",
    "    test_data[name] = test_data[name].replace(mapping[name])"
   ]
  },
  {
   "cell_type": "code",
   "execution_count": 119,
   "metadata": {
    "collapsed": false
   },
   "outputs": [
    {
     "name": "stdout",
     "output_type": "stream",
     "text": [
      "companyId 0.00122280692462\n",
      "industry -0.0465353484859\n",
      "major 0.274073629907\n",
      "jobType -0.311428572442\n",
      "degree -0.153723354454\n",
      "yearsExperience 0.375012699594\n",
      "milesFromMetropolis -0.297666352756\n"
     ]
    }
   ],
   "source": [
    "# Look at the Pearson correlation coefficient for each of the 7 non-salary variables with salary.\n",
    "names = ['companyId', 'industry', 'major', 'jobType', 'degree', 'yearsExperience', 'milesFromMetropolis']\n",
    "for name in names:\n",
    "    x = scipy.stats.pearsonr(train_data.salary, train_data[name])\n",
    "    print(name, x[0])"
   ]
  },
  {
   "cell_type": "code",
   "execution_count": 191,
   "metadata": {
    "collapsed": true
   },
   "outputs": [],
   "source": [
    "# Create our linear model with the 5 variables with highest absolute value for correlation coefficient.\n",
    "olsmod = sm.ols(formula=\"salary ~ yearsExperience + major + degree + jobType + milesFromMetropolis\", data=train_data)"
   ]
  },
  {
   "cell_type": "code",
   "execution_count": 192,
   "metadata": {
    "collapsed": true
   },
   "outputs": [],
   "source": [
    "# Fit the model.\n",
    "olsres = olsmod.fit()"
   ]
  },
  {
   "cell_type": "code",
   "execution_count": 193,
   "metadata": {
    "collapsed": false,
    "scrolled": false
   },
   "outputs": [
    {
     "name": "stdout",
     "output_type": "stream",
     "text": [
      "                            OLS Regression Results                            \n",
      "==============================================================================\n",
      "Dep. Variable:                 salary   R-squared:                       0.402\n",
      "Model:                            OLS   Adj. R-squared:                  0.402\n",
      "Method:                 Least Squares   F-statistic:                 1.345e+05\n",
      "Date:                Fri, 01 Jul 2016   Prob (F-statistic):               0.00\n",
      "Time:                        14:13:46   Log-Likelihood:            -4.8181e+06\n",
      "No. Observations:             1000000   AIC:                         9.636e+06\n",
      "Df Residuals:                  999994   BIC:                         9.636e+06\n",
      "Df Model:                           5                                         \n",
      "Covariance Type:            nonrobust                                         \n",
      "=======================================================================================\n",
      "                          coef    std err          t      P>|t|      [95.0% Conf. Int.]\n",
      "---------------------------------------------------------------------------------------\n",
      "Intercept             124.8728      0.108   1154.271      0.000       124.661   125.085\n",
      "yearsExperience         2.0141      0.004    485.211      0.000         2.006     2.022\n",
      "major                   3.8481      0.013    302.742      0.000         3.823     3.873\n",
      "degree                 -2.7560      0.021   -129.828      0.000        -2.798    -2.714\n",
      "jobType                -4.9681      0.013   -379.568      0.000        -4.994    -4.942\n",
      "milesFromMetropolis    -0.3998      0.001   -385.656      0.000        -0.402    -0.398\n",
      "==============================================================================\n",
      "Omnibus:                    28016.699   Durbin-Watson:                   2.002\n",
      "Prob(Omnibus):                  0.000   Jarque-Bera (JB):            30339.505\n",
      "Skew:                           0.424   Prob(JB):                         0.00\n",
      "Kurtosis:                       2.905   Cond. No.                         213.\n",
      "==============================================================================\n",
      "\n",
      "Warnings:\n",
      "[1] Standard Errors assume that the covariance matrix of the errors is correctly specified.\n"
     ]
    }
   ],
   "source": [
    "# Summary of results.\n",
    "print(olsres.summary())"
   ]
  },
  {
   "cell_type": "code",
   "execution_count": 194,
   "metadata": {
    "collapsed": false
   },
   "outputs": [
    {
     "data": {
      "text/plain": [
       "Intercept              124.872827\n",
       "yearsExperience          2.014110\n",
       "major                    3.848141\n",
       "degree                  -2.756044\n",
       "jobType                 -4.968143\n",
       "milesFromMetropolis     -0.399825\n",
       "dtype: float64"
      ]
     },
     "execution_count": 194,
     "metadata": {},
     "output_type": "execute_result"
    }
   ],
   "source": [
    "# This gives us the actual coefficients for the linear model.\n",
    "olsres.params"
   ]
  },
  {
   "cell_type": "code",
   "execution_count": 195,
   "metadata": {
    "collapsed": false
   },
   "outputs": [],
   "source": [
    "# Insert a column in train_data for our predicted values.\n",
    "train_data['salary_predicted'] = pd.Series(olsres.predict()).astype(int)"
   ]
  },
  {
   "cell_type": "code",
   "execution_count": 196,
   "metadata": {
    "collapsed": false
   },
   "outputs": [
    {
     "data": {
      "text/plain": [
       "0.49969000000000002"
      ]
     },
     "execution_count": 196,
     "metadata": {},
     "output_type": "execute_result"
    }
   ],
   "source": [
    "# A quick look at the mean of the difference of the predicted and given salaries.\n",
    "(train_data.salary - train_data.salary_predicted).mean()"
   ]
  },
  {
   "cell_type": "code",
   "execution_count": 197,
   "metadata": {
    "collapsed": false
   },
   "outputs": [
    {
     "data": {
      "text/plain": [
       "29.938780740612881"
      ]
     },
     "execution_count": 197,
     "metadata": {},
     "output_type": "execute_result"
    }
   ],
   "source": [
    "# A quick look at the standard deviation of the difference of the predicted and given salaries.\n",
    "(train_data.salary - train_data.salary_predicted).std()"
   ]
  },
  {
   "cell_type": "code",
   "execution_count": 198,
   "metadata": {
    "collapsed": false
   },
   "outputs": [],
   "source": [
    "# Insert a column in test_data for our predicted salary values as ints.\n",
    "test_data['salary'] = pd.Series(olsres.predict()).astype(int)"
   ]
  },
  {
   "cell_type": "code",
   "execution_count": 170,
   "metadata": {
    "collapsed": true
   },
   "outputs": [],
   "source": [
    "# Save our results to file.\n",
    "header = ['jobId', 'salary']\n",
    "test_data.to_csv('test_salaries.csv', columns=header)"
   ]
  }
 ],
 "metadata": {
  "kernelspec": {
   "display_name": "Python 3",
   "language": "python",
   "name": "python3"
  },
  "language_info": {
   "codemirror_mode": {
    "name": "ipython",
    "version": 3
   },
   "file_extension": ".py",
   "mimetype": "text/x-python",
   "name": "python",
   "nbconvert_exporter": "python",
   "pygments_lexer": "ipython3",
   "version": "3.5.1"
  }
 },
 "nbformat": 4,
 "nbformat_minor": 0
}
