{
 "cells": [
  {
   "cell_type": "code",
   "execution_count": 1,
   "metadata": {
    "collapsed": true
   },
   "outputs": [],
   "source": [
    "import pandas as pd\n",
    "import numpy as np\n",
    "import matplotlib.pyplot as plt\n",
    "import seaborn\n",
    "import scipy.stats\n",
    "%matplotlib inline"
   ]
  },
  {
   "cell_type": "code",
   "execution_count": 2,
   "metadata": {
    "collapsed": false
   },
   "outputs": [],
   "source": [
    "train_features = pd.read_csv('train_features_2013-03-07.csv')"
   ]
  },
  {
   "cell_type": "code",
   "execution_count": 3,
   "metadata": {
    "collapsed": false
   },
   "outputs": [],
   "source": [
    "train_salaries = pd.read_csv('train_salaries_2013-03-07.csv')"
   ]
  },
  {
   "cell_type": "code",
   "execution_count": 4,
   "metadata": {
    "collapsed": false
   },
   "outputs": [],
   "source": [
    "train_data = pd.merge(train_features, train_salaries, on='jobId', how='inner')"
   ]
  },
  {
   "cell_type": "code",
   "execution_count": 5,
   "metadata": {
    "collapsed": true
   },
   "outputs": [],
   "source": [
    "train_data.dropna(how='any', inplace=True)"
   ]
  },
  {
   "cell_type": "code",
   "execution_count": 6,
   "metadata": {
    "collapsed": true
   },
   "outputs": [],
   "source": [
    "train_data = train_data[train_data.salary != 0]"
   ]
  },
  {
   "cell_type": "code",
   "execution_count": 7,
   "metadata": {
    "collapsed": true
   },
   "outputs": [],
   "source": [
    "mapping = {}"
   ]
  },
  {
   "cell_type": "code",
   "execution_count": 8,
   "metadata": {
    "collapsed": true
   },
   "outputs": [],
   "source": [
    "names = ['companyId', 'industry', 'major', 'jobType', 'degree']\n",
    "for name in names:\n",
    "    for i in enumerate(train_data[name].unique()):\n",
    "        if name not in mapping.keys():\n",
    "            mapping[name] = {i[1]: i[0]}\n",
    "        else:\n",
    "            mapping[name].update({i[1]: i[0]})\n",
    "    train_data[name] = train_data[name].replace(mapping[name])"
   ]
  },
  {
   "cell_type": "code",
   "execution_count": 11,
   "metadata": {
    "collapsed": false
   },
   "outputs": [
    {
     "name": "stdout",
     "output_type": "stream",
     "text": [
      "companyId 0.00122166019753\n",
      "industry -0.0465394404019\n",
      "major 0.27408782583\n",
      "jobType -0.311433915312\n",
      "degree -0.153729883167\n",
      "yearsExperience 0.375013402\n",
      "milesFromMetropolis -0.29768642705\n"
     ]
    }
   ],
   "source": [
    "names = ['companyId', 'industry', 'major', 'jobType', 'degree', 'yearsExperience', 'milesFromMetropolis']\n",
    "for name in names:\n",
    "    x = scipy.stats.pearsonr(train_data.salary, train_data[name])\n",
    "    print(name, x[0])"
   ]
  },
  {
   "cell_type": "code",
   "execution_count": 15,
   "metadata": {
    "collapsed": true
   },
   "outputs": [],
   "source": [
    "import statsmodels.formula.api as sm"
   ]
  },
  {
   "cell_type": "code",
   "execution_count": 32,
   "metadata": {
    "collapsed": true
   },
   "outputs": [],
   "source": [
    "result = sm.ols(formula=\"salary ~ yearsExperience + major + degree + jobType + milesFromMetropolis\", data=train_data[:200000]).fit()"
   ]
  },
  {
   "cell_type": "code",
   "execution_count": 33,
   "metadata": {
    "collapsed": false,
    "scrolled": true
   },
   "outputs": [
    {
     "data": {
      "text/html": [
       "<table class=\"simpletable\">\n",
       "<caption>OLS Regression Results</caption>\n",
       "<tr>\n",
       "  <th>Dep. Variable:</th>         <td>salary</td>      <th>  R-squared:         </th>  <td>   0.402</td>  \n",
       "</tr>\n",
       "<tr>\n",
       "  <th>Model:</th>                   <td>OLS</td>       <th>  Adj. R-squared:    </th>  <td>   0.402</td>  \n",
       "</tr>\n",
       "<tr>\n",
       "  <th>Method:</th>             <td>Least Squares</td>  <th>  F-statistic:       </th>  <td>2.685e+04</td> \n",
       "</tr>\n",
       "<tr>\n",
       "  <th>Date:</th>             <td>Thu, 30 Jun 2016</td> <th>  Prob (F-statistic):</th>   <td>  0.00</td>   \n",
       "</tr>\n",
       "<tr>\n",
       "  <th>Time:</th>                 <td>15:38:58</td>     <th>  Log-Likelihood:    </th> <td>-9.6393e+05</td>\n",
       "</tr>\n",
       "<tr>\n",
       "  <th>No. Observations:</th>      <td>200000</td>      <th>  AIC:               </th>  <td>1.928e+06</td> \n",
       "</tr>\n",
       "<tr>\n",
       "  <th>Df Residuals:</th>          <td>199994</td>      <th>  BIC:               </th>  <td>1.928e+06</td> \n",
       "</tr>\n",
       "<tr>\n",
       "  <th>Df Model:</th>              <td>     5</td>      <th>                     </th>      <td> </td>     \n",
       "</tr>\n",
       "<tr>\n",
       "  <th>Covariance Type:</th>      <td>nonrobust</td>    <th>                     </th>      <td> </td>     \n",
       "</tr>\n",
       "</table>\n",
       "<table class=\"simpletable\">\n",
       "<tr>\n",
       "           <td></td>              <th>coef</th>     <th>std err</th>      <th>t</th>      <th>P>|t|</th> <th>[95.0% Conf. Int.]</th> \n",
       "</tr>\n",
       "<tr>\n",
       "  <th>Intercept</th>           <td>  124.8346</td> <td>    0.242</td> <td>  516.282</td> <td> 0.000</td> <td>  124.361   125.309</td>\n",
       "</tr>\n",
       "<tr>\n",
       "  <th>yearsExperience</th>     <td>    2.0176</td> <td>    0.009</td> <td>  216.927</td> <td> 0.000</td> <td>    1.999     2.036</td>\n",
       "</tr>\n",
       "<tr>\n",
       "  <th>major</th>               <td>    3.8290</td> <td>    0.028</td> <td>  134.412</td> <td> 0.000</td> <td>    3.773     3.885</td>\n",
       "</tr>\n",
       "<tr>\n",
       "  <th>degree</th>              <td>   -2.7314</td> <td>    0.047</td> <td>  -57.512</td> <td> 0.000</td> <td>   -2.825    -2.638</td>\n",
       "</tr>\n",
       "<tr>\n",
       "  <th>jobType</th>             <td>   -4.9502</td> <td>    0.029</td> <td> -168.799</td> <td> 0.000</td> <td>   -5.008    -4.893</td>\n",
       "</tr>\n",
       "<tr>\n",
       "  <th>milesFromMetropolis</th> <td>   -0.4022</td> <td>    0.002</td> <td> -173.383</td> <td> 0.000</td> <td>   -0.407    -0.398</td>\n",
       "</tr>\n",
       "</table>\n",
       "<table class=\"simpletable\">\n",
       "<tr>\n",
       "  <th>Omnibus:</th>       <td>5786.900</td> <th>  Durbin-Watson:     </th> <td>   2.007</td>\n",
       "</tr>\n",
       "<tr>\n",
       "  <th>Prob(Omnibus):</th>  <td> 0.000</td>  <th>  Jarque-Bera (JB):  </th> <td>6286.502</td>\n",
       "</tr>\n",
       "<tr>\n",
       "  <th>Skew:</th>           <td> 0.432</td>  <th>  Prob(JB):          </th> <td>    0.00</td>\n",
       "</tr>\n",
       "<tr>\n",
       "  <th>Kurtosis:</th>       <td> 2.910</td>  <th>  Cond. No.          </th> <td>    212.</td>\n",
       "</tr>\n",
       "</table>"
      ],
      "text/plain": [
       "<class 'statsmodels.iolib.summary.Summary'>\n",
       "\"\"\"\n",
       "                            OLS Regression Results                            \n",
       "==============================================================================\n",
       "Dep. Variable:                 salary   R-squared:                       0.402\n",
       "Model:                            OLS   Adj. R-squared:                  0.402\n",
       "Method:                 Least Squares   F-statistic:                 2.685e+04\n",
       "Date:                Thu, 30 Jun 2016   Prob (F-statistic):               0.00\n",
       "Time:                        15:38:58   Log-Likelihood:            -9.6393e+05\n",
       "No. Observations:              200000   AIC:                         1.928e+06\n",
       "Df Residuals:                  199994   BIC:                         1.928e+06\n",
       "Df Model:                           5                                         \n",
       "Covariance Type:            nonrobust                                         \n",
       "=======================================================================================\n",
       "                          coef    std err          t      P>|t|      [95.0% Conf. Int.]\n",
       "---------------------------------------------------------------------------------------\n",
       "Intercept             124.8346      0.242    516.282      0.000       124.361   125.309\n",
       "yearsExperience         2.0176      0.009    216.927      0.000         1.999     2.036\n",
       "major                   3.8290      0.028    134.412      0.000         3.773     3.885\n",
       "degree                 -2.7314      0.047    -57.512      0.000        -2.825    -2.638\n",
       "jobType                -4.9502      0.029   -168.799      0.000        -5.008    -4.893\n",
       "milesFromMetropolis    -0.4022      0.002   -173.383      0.000        -0.407    -0.398\n",
       "==============================================================================\n",
       "Omnibus:                     5786.900   Durbin-Watson:                   2.007\n",
       "Prob(Omnibus):                  0.000   Jarque-Bera (JB):             6286.502\n",
       "Skew:                           0.432   Prob(JB):                         0.00\n",
       "Kurtosis:                       2.910   Cond. No.                         212.\n",
       "==============================================================================\n",
       "\n",
       "Warnings:\n",
       "[1] Standard Errors assume that the covariance matrix of the errors is correctly specified.\n",
       "\"\"\""
      ]
     },
     "execution_count": 33,
     "metadata": {},
     "output_type": "execute_result"
    }
   ],
   "source": [
    "result.summary()"
   ]
  },
  {
   "cell_type": "code",
   "execution_count": null,
   "metadata": {
    "collapsed": true
   },
   "outputs": [],
   "source": []
  }
 ],
 "metadata": {
  "kernelspec": {
   "display_name": "Python 3",
   "language": "python",
   "name": "python3"
  },
  "language_info": {
   "codemirror_mode": {
    "name": "ipython",
    "version": 3
   },
   "file_extension": ".py",
   "mimetype": "text/x-python",
   "name": "python",
   "nbconvert_exporter": "python",
   "pygments_lexer": "ipython3",
   "version": "3.5.1"
  }
 },
 "nbformat": 4,
 "nbformat_minor": 0
}
