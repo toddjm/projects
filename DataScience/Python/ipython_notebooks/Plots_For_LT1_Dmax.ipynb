{
 "cells": [
  {
   "cell_type": "code",
   "execution_count": 1,
   "metadata": {
    "collapsed": false
   },
   "outputs": [],
   "source": [
    "import glob\n",
    "import matplotlib.pyplot as plt\n",
    "import numpy as np\n",
    "import os\n",
    "import sys\n",
    "\n",
    "# Set data directory. Are we on Linux or Mac OS X?\n",
    "if sys.platform == 'linux':\n",
    "    data_dir = '/home/todd/data/lt1_dmax/clean/LT1/cycling'\n",
    "elif sys.platform == 'darwin':\n",
    "    data_dir = '/Users/todd/data/lt1_dmax/clean/LT1/cycling'"
   ]
  },
  {
   "cell_type": "code",
   "execution_count": 44,
   "metadata": {
    "collapsed": false
   },
   "outputs": [],
   "source": [
    "%matplotlib inline\n",
    "#plt.rcParams['figure.figsize'] = 8, 6\n",
    "plt.rcParams['legend.loc'] = 'best'"
   ]
  },
  {
   "cell_type": "code",
   "execution_count": 3,
   "metadata": {
    "collapsed": true
   },
   "outputs": [],
   "source": [
    "data = np.genfromtxt(os.path.join(data_dir, 'Subject_625_Cycling.csv'), delimiter=',')"
   ]
  },
  {
   "cell_type": "code",
   "execution_count": 4,
   "metadata": {
    "collapsed": false
   },
   "outputs": [],
   "source": [
    "xs = data[1:, 0]\n",
    "ys = data[1:, 1]"
   ]
  },
  {
   "cell_type": "code",
   "execution_count": 45,
   "metadata": {
    "collapsed": false
   },
   "outputs": [
    {
     "data": {
      "image/png": "[encoded data removed]",
      "text/plain": [
       "<matplotlib.figure.Figure at 0x1126ae908>"
      ]
     },
     "metadata": {},
     "output_type": "display_data"
    }
   ],
   "source": [
    "plt.ylim(0,8)\n",
    "plt.xlim(75, 350)\n",
    "plt.xlabel('power (W)')\n",
    "plt.ylabel('[lactate] (mmol/L)')\n",
    "plt.vlines(260, ymin=0, ymax=2.3, color='green', lw=3, label='aerobic transition (AeT)')\n",
    "plt.vlines(320, ymin=0, ymax=5.1, color='red', lw=3, label='anaerobic transition (AT)')\n",
    "plt.fill_between(xs[7:11], ys[7:11], color='yellow', alpha=0.5, label='aerobic-anaerobic transition zone (AAT)')\n",
    "plt.plot(xs, ys, marker='o', label='[lactate]')\n",
    "plt.legend()\n",
    "plt.savefig('General_Plot_LT_AeT_AT.png')"
   ]
  },
  {
   "cell_type": "code",
   "execution_count": 33,
   "metadata": {
    "collapsed": false
   },
   "outputs": [
    {
     "data": {
      "text/plain": [
       "array([ 100.,  140.,  160.,  180.,  200.,  220.,  240.,  260.,  280.,\n",
       "        300.,  320.,  340.])"
      ]
     },
     "execution_count": 33,
     "metadata": {},
     "output_type": "execute_result"
    }
   ],
   "source": [
    "xs"
   ]
  },
  {
   "cell_type": "code",
   "execution_count": null,
   "metadata": {
    "collapsed": true
   },
   "outputs": [],
   "source": []
  }
 ],
 "metadata": {
  "kernelspec": {
   "display_name": "Python 3",
   "language": "python",
   "name": "python3"
  },
  "language_info": {
   "codemirror_mode": {
    "name": "ipython",
    "version": 3
   },
   "file_extension": ".py",
   "mimetype": "text/x-python",
   "name": "python",
   "nbconvert_exporter": "python",
   "pygments_lexer": "ipython3",
   "version": "3.5.1"
  }
 },
 "nbformat": 4,
 "nbformat_minor": 0
}
