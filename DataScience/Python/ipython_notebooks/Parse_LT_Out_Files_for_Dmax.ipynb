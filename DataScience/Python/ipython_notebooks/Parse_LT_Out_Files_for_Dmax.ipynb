{
 "cells": [
  {
   "cell_type": "code",
   "execution_count": 2,
   "metadata": {
    "collapsed": false
   },
   "outputs": [
    {
     "name": "stdout",
     "output_type": "stream",
     "text": [
      "/Users/todd/data/oxy_files_to_reprocess\n"
     ]
    }
   ],
   "source": [
    "cd ~/data/oxy_files_to_reprocess/"
   ]
  },
  {
   "cell_type": "code",
   "execution_count": 4,
   "metadata": {
    "collapsed": true
   },
   "outputs": [],
   "source": [
    "import assessmentModule as amod\n",
    "import glob\n",
    "import json\n",
    "import matplotlib.pyplot as plt\n",
    "import numpy as np\n",
    "import scipy.io as sio\n",
    "%matplotlib inline"
   ]
  },
  {
   "cell_type": "code",
   "execution_count": 235,
   "metadata": {
    "collapsed": false
   },
   "outputs": [],
   "source": [
    "out_files = glob.glob('*.out')"
   ]
  },
  {
   "cell_type": "code",
   "execution_count": 236,
   "metadata": {
    "collapsed": false
   },
   "outputs": [],
   "source": [
    "bike_dict = {}\n",
    "run_dict = {}\n",
    "for fn in out_files:\n",
    "    fn_split = fn.split('_')\n",
    "    subject = fn_split[1]\n",
    "    device = fn_split[3]\n",
    "    sport = fn_split[6]\n",
    "    if sport == 'run':\n",
    "        with open(fn) as in_file:\n",
    "            data = json.load(in_file)\n",
    "        run_dict[subject + '_' + device] = data\n",
    "    elif sport == 'cycle':\n",
    "        with open(fn) as in_file:\n",
    "            data = json.load(in_file)\n",
    "        bike_dict[subject + '_' + device] = data       "
   ]
  },
  {
   "cell_type": "code",
   "execution_count": 237,
   "metadata": {
    "collapsed": false
   },
   "outputs": [],
   "source": [
    "run_keys = list(run_dict['649_65515'].keys())"
   ]
  },
  {
   "cell_type": "code",
   "execution_count": 238,
   "metadata": {
    "collapsed": true
   },
   "outputs": [],
   "source": [
    "bike_keys = list(bike_dict['661_65511'].keys())"
   ]
  },
  {
   "cell_type": "code",
   "execution_count": 239,
   "metadata": {
    "collapsed": true
   },
   "outputs": [],
   "source": [
    "# Keys to remove from the bike list.\n",
    "bike_keys_to_remove = ['CONFIG', 'PDF', 'protocolHeartRates',\n",
    "                      'dataStats', 'paceMarkers', 'Error',\n",
    "                      'Quality30', 'protocolData', 'Quality15',\n",
    "                      'protocolPowers', 'LTpowerNoHr']"
   ]
  },
  {
   "cell_type": "code",
   "execution_count": 240,
   "metadata": {
    "collapsed": true
   },
   "outputs": [],
   "source": [
    "# Keys to remove from the run list.\n",
    "run_keys_to_remove = ['CONFIG', 'PDF', 'protocolHeartRates',\n",
    "                      'dataStats', 'paceMarkers', 'Error',\n",
    "                      'Quality30', 'protocolData', 'Quality15',\n",
    "                      'protocolPowers']"
   ]
  },
  {
   "cell_type": "code",
   "execution_count": 241,
   "metadata": {
    "collapsed": true
   },
   "outputs": [],
   "source": [
    "for k in bike_keys_to_remove:\n",
    "    bike_keys.remove(k)"
   ]
  },
  {
   "cell_type": "code",
   "execution_count": 242,
   "metadata": {
    "collapsed": false
   },
   "outputs": [],
   "source": [
    "for k in run_keys_to_remove:\n",
    "    run_keys.remove(k)"
   ]
  },
  {
   "cell_type": "code",
   "execution_count": 243,
   "metadata": {
    "collapsed": false
   },
   "outputs": [
    {
     "data": {
      "text/plain": [
       "['LTpower',\n",
       " 'SmO2DmaxC30',\n",
       " 'HRatDmax',\n",
       " 'peakOxy15',\n",
       " 'maxLikOutput',\n",
       " 'exhaustionPower',\n",
       " 'SmO2DmaxD30',\n",
       " 'Dmaxpower',\n",
       " 'SmO2DmaxC15',\n",
       " 'minHRincrease',\n",
       " 'peakOxy30used',\n",
       " 'HRatLT',\n",
       " 'peakOxy15used',\n",
       " 'maxHR',\n",
       " 'HRpower',\n",
       " 'maxLikCont',\n",
       " 'peakOxy30',\n",
       " 'SmO2DmaxD15',\n",
       " 'modelName']"
      ]
     },
     "execution_count": 243,
     "metadata": {},
     "output_type": "execute_result"
    }
   ],
   "source": [
    "bike_keys"
   ]
  },
  {
   "cell_type": "code",
   "execution_count": 267,
   "metadata": {
    "collapsed": false
   },
   "outputs": [
    {
     "name": "stdout",
     "output_type": "stream",
     "text": [
      "bikeElite\n",
      "bikeElite\n",
      "bikeStandard\n",
      "bikeStandard\n",
      "bikeStandard\n",
      "bikeStandard\n",
      "bikeStandard\n",
      "bikeStandard\n",
      "bikeStandard\n",
      "bikeElite\n",
      "bikeStandard\n",
      "bikeStandard\n",
      "bikeStandard\n",
      "bikeElite\n",
      "bikeElite\n",
      "bikeStandard\n",
      "bikeStandard\n",
      "bikeStandard\n",
      "bikeStandard\n",
      "bikeStandard\n",
      "bikeElite\n",
      "bikeStandard\n",
      "bikeStandard\n",
      "bikeElite\n",
      "bikeElite\n",
      "bikeElite\n",
      "bikeElite\n",
      "bikeStandard\n",
      "bikeStandard\n",
      "bikeStandard\n",
      "bikeStandard\n",
      "bikeElite\n",
      "bikeElite\n",
      "bikeElite\n",
      "bikeElite\n",
      "bikeStandard\n",
      "bikeStandard\n",
      "bikeElite\n",
      "bikeElite\n",
      "bikeElite\n",
      "bikeElite\n",
      "bikeElite\n",
      "bikeElite\n",
      "bikeStandard\n",
      "bikeStandard\n",
      "bikeStandard\n",
      "bikeStandard\n",
      "bikeStandard\n",
      "bikeStandard\n",
      "bikeStandard\n",
      "bikeStandard\n",
      "bikeElite\n",
      "bikeElite\n",
      "bikeElite\n",
      "bikeElite\n",
      "bikeElite\n",
      "bikeElite\n",
      "bikeElite\n",
      "bikeElite\n",
      "bikeStandard\n",
      "bikeStandard\n",
      "bikeElite\n",
      "bikeElite\n",
      "bikeElite\n",
      "bikeElite\n",
      "bikeStandard\n",
      "bikeStandard\n",
      "bikeElite\n",
      "bikeElite\n",
      "bikeElite\n",
      "bikeStandard\n",
      "bikeStandard\n",
      "bikeStandard\n",
      "bikeStandard\n",
      "bikeStandard\n",
      "bikeStandard\n",
      "bikeElite\n",
      "bikeElite\n",
      "bikeElite\n",
      "bikeElite\n"
     ]
    }
   ],
   "source": [
    "target_key = 'modelName'\n",
    "tmp_list= []\n",
    "for key in bike_dict.keys():\n",
    "    if target_key in bike_dict[key]:\n",
    "        tmp_list.append([key.split('_')[0],\n",
    "              key.split('_')[1],\n",
    "              bike_dict[key][target_key]])\n",
    "tmp_list.sort(key=lambda x: x[0])\n",
    "\n",
    "#print(len(tmp_list))\n",
    "for line in tmp_list:\n",
    "    print(line[2])"
   ]
  },
  {
   "cell_type": "code",
   "execution_count": 212,
   "metadata": {
    "collapsed": true
   },
   "outputs": [
    {
     "name": "stdout",
     "output_type": "stream",
     "text": [
      "3.1293\n",
      "2.7716\n",
      "2.9952\n",
      "3.1293\n",
      "2.8611\n",
      "3.3975\n",
      "3.2634\n",
      "4.6939\n",
      "4.0234\n",
      "2.9952\n",
      "2.9952\n",
      "3.2634\n",
      "4.4257\n",
      "4.4257\n",
      "2.5928\n",
      "2.9952\n",
      "2.7716\n",
      "3.3975\n",
      "2.7716\n",
      "2.9952\n",
      "3.1293\n",
      "2.9952\n",
      "3.7998\n",
      "2.5928\n",
      "2.8611\n",
      "2.5034\n",
      "2.414\n",
      "3.3975\n",
      "3.5763\n",
      "3.1293\n",
      "2.6822\n",
      "3.7998\n",
      "4.0234\n",
      "4.2022\n",
      "3.7998\n",
      "3.1293\n",
      "2.5034\n",
      "2.9952\n",
      "3.2634\n",
      "2.9952\n",
      "3.1293\n",
      "4.6939\n",
      "5.3198\n",
      "4.0234\n",
      "4.0234\n",
      "1.967\n",
      "2.3246\n",
      "3.1293\n",
      "2.3246\n",
      "3.2634\n",
      "3.2634\n",
      "3.5763\n",
      "3.3975\n",
      "3.5763\n",
      "3.3975\n",
      "3.1293\n",
      "4.2022\n",
      "3.3975\n",
      "2.9952\n",
      "3.5763\n",
      "4.4257\n",
      "3.2634\n",
      "2.7716\n",
      "3.7998\n",
      "3.2634\n",
      "4.6939\n",
      "4.6939\n",
      "4.4257\n",
      "4.4257\n",
      "4.2022\n",
      "4.2022\n",
      "3.7998\n",
      "4.0234\n",
      "4.4257\n",
      "5.0068\n",
      "3.2634\n",
      "3.3975\n",
      "3.5763\n",
      "3.5763\n",
      "2.5928\n",
      "3.5763\n",
      "3.5763\n",
      "3.5763\n",
      "2.7716\n",
      "3.3975\n",
      "3.7998\n",
      "3.3975\n",
      "3.2634\n",
      "3.1293\n",
      "3.2634\n",
      "3.1293\n",
      "2.7716\n",
      "2.9952\n",
      "3.1293\n",
      "2.9952\n",
      "2.7716\n",
      "4.0234\n",
      "3.3975\n",
      "2.5034\n",
      "2.7716\n",
      "3.7998\n",
      "3.5763\n"
     ]
    }
   ],
   "source": [
    "target_key = 'SmO2DmaxD15'\n",
    "tmp_list= []\n",
    "for key in run_dict.keys():\n",
    "    if target_key in run_dict[key]:\n",
    "        tmp_list.append([key.split('_')[0],\n",
    "              key.split('_')[1],\n",
    "              run_dict[key][target_key]])\n",
    "tmp_list.sort(key=lambda x: x[0])\n",
    "\n",
    "#print(len(tmp_list))\n",
    "for line in tmp_list:\n",
    "    print(line[2])"
   ]
  },
  {
   "cell_type": "code",
   "execution_count": 244,
   "metadata": {
    "collapsed": false
   },
   "outputs": [],
   "source": [
    "for k in bike_dict.keys():\n",
    "    for kk in bike_keys:\n",
    "        if kk not in bike_dict[k].keys():\n",
    "            print(kk, k)"
   ]
  }
 ],
 "metadata": {
  "kernelspec": {
   "display_name": "Python 3",
   "language": "python",
   "name": "python3"
  },
  "language_info": {
   "codemirror_mode": {
    "name": "ipython",
    "version": 3
   },
   "file_extension": ".py",
   "mimetype": "text/x-python",
   "name": "python",
   "nbconvert_exporter": "python",
   "pygments_lexer": "ipython3",
   "version": "3.5.1"
  }
 },
 "nbformat": 4,
 "nbformat_minor": 0
}
