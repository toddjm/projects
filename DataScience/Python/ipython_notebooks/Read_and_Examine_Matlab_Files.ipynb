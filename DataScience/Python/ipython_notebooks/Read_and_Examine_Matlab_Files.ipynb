{
 "cells": [
  {
   "cell_type": "code",
   "execution_count": 76,
   "metadata": {
    "collapsed": false
   },
   "outputs": [],
   "source": [
    "import assessmentModule as amod\n",
    "import base64\n",
    "import datetime as dt\n",
    "import glob\n",
    "import numpy as np\n",
    "import matplotlib.pyplot as plt\n",
    "import os\n",
    "import pandas as pd\n",
    "import requests\n",
    "import scipy.io\n",
    "import sys\n",
    "%matplotlib inline\n",
    "%reload_ext autoreload\n",
    "%autoreload 2"
   ]
  },
  {
   "cell_type": "code",
   "execution_count": 290,
   "metadata": {
    "collapsed": true
   },
   "outputs": [],
   "source": [
    "data_dir = '/Users/todd/Google Drive/LT Assessments/COMPLETE/test'"
   ]
  },
  {
   "cell_type": "code",
   "execution_count": 291,
   "metadata": {
    "collapsed": false
   },
   "outputs": [],
   "source": [
    "out_dir = '/Users/todd/data/Assessment_ID_task'"
   ]
  },
  {
   "cell_type": "code",
   "execution_count": 292,
   "metadata": {
    "collapsed": true
   },
   "outputs": [],
   "source": [
    "os.chdir(data_dir)\n",
    "process_files = glob.glob('*_process.mat')\n",
    "assessment_ids = [i.split('_', 1)[0] for i in process_files]"
   ]
  },
  {
   "cell_type": "code",
   "execution_count": 293,
   "metadata": {
    "collapsed": true
   },
   "outputs": [],
   "source": [
    "exclude_file = '/Users/todd/code/AnalysisTools/config/exclude_assessments.txt'\n",
    "with open(exclude_file, 'r') as fn:\n",
    "    exclude_list = []\n",
    "    for line in fn:\n",
    "        exclude_list.append(line)\n",
    "exclude_list = [i.strip('\\n') for i in exclude_list]"
   ]
  },
  {
   "cell_type": "code",
   "execution_count": 294,
   "metadata": {
    "collapsed": false
   },
   "outputs": [],
   "source": [
    "for assess_id in assessment_ids:\n",
    "    if assess_id in exclude_list:\n",
    "        assessment_ids.remove(assess_id)"
   ]
  },
  {
   "cell_type": "code",
   "execution_count": 349,
   "metadata": {
    "collapsed": false
   },
   "outputs": [],
   "source": [
    "data = {}\n",
    "for assess_id in assessment_ids:\n",
    "    #data_process = amod.getMatlabData(assess_id + '_process.mat')\n",
    "    data_sweep = amod.getMatlabData(assess_id + '_sweep.mat')\n",
    "    data[assess_id] = data_sweep\n",
    "    #data[assess_id].update(data_process)"
   ]
  },
  {
   "cell_type": "code",
   "execution_count": 350,
   "metadata": {
    "collapsed": true
   },
   "outputs": [],
   "source": [
    "exclude_keys = ['worker_details', 'protocol', 'links', 'training_zones', 'checkouts']\n",
    "include_keys = ['user_id', 'sport', 'months_training',\n",
    "                'days_per_week', 'distance_per_week',\n",
    "                'stage_at_lt', 'created_at']"
   ]
  },
  {
   "cell_type": "code",
   "execution_count": 466,
   "metadata": {
    "collapsed": false,
    "scrolled": true
   },
   "outputs": [
    {
     "name": "stdout",
     "output_type": "stream",
     "text": [
      "54d748f5adac18f20e8b4abf user_id ['529']\n",
      "54d748f5adac18f20e8b4abf sport ['bike']\n",
      "54d748f5adac18f20e8b4abf months_training 999\n",
      "54d748f5adac18f20e8b4abf days_per_week 999\n",
      "54d748f5adac18f20e8b4abf distance_per_week 999\n",
      "54d748f5adac18f20e8b4abf stage_at_lt [[7]]\n",
      "54d748f5adac18f20e8b4abf created_at ['2015-02-08 11:31:01']\n",
      "54c033adadac18db278b497c user_id ['322']\n",
      "54c033adadac18db278b497c sport ['bike']\n",
      "54c033adadac18db278b497c months_training 999\n",
      "54c033adadac18db278b497c days_per_week 999\n",
      "54c033adadac18db278b497c distance_per_week 999\n",
      "54c033adadac18db278b497c stage_at_lt [[8]]\n",
      "54c033adadac18db278b497c created_at ['2015-01-21 23:18:05']\n",
      "54c13196adac18f10e8b492a user_id ['322']\n",
      "54c13196adac18f10e8b492a sport ['bike']\n",
      "54c13196adac18f10e8b492a months_training 999\n",
      "54c13196adac18f10e8b492a days_per_week 999\n",
      "54c13196adac18f10e8b492a distance_per_week 999\n",
      "54c13196adac18f10e8b492a stage_at_lt [[5]]\n",
      "54c13196adac18f10e8b492a created_at ['2015-01-22 17:21:26']\n",
      "54c185c6adac18db278b4990 user_id ['322']\n",
      "54c185c6adac18db278b4990 sport ['bike']\n",
      "54c185c6adac18db278b4990 months_training 999\n",
      "54c185c6adac18db278b4990 days_per_week 999\n",
      "54c185c6adac18db278b4990 distance_per_week 999\n",
      "54c185c6adac18db278b4990 stage_at_lt [[8]]\n",
      "54c185c6adac18db278b4990 created_at ['2015-01-22 23:20:38']\n",
      "54d9165fadac18f20e8b4ad8 user_id ['533']\n",
      "54d9165fadac18f20e8b4ad8 sport ['run']\n",
      "54d9165fadac18f20e8b4ad8 months_training 999\n",
      "54d9165fadac18f20e8b4ad8 days_per_week 999\n",
      "54d9165fadac18f20e8b4ad8 distance_per_week 999\n",
      "54d9165fadac18f20e8b4ad8 stage_at_lt [[7]]\n",
      "54d9165fadac18f20e8b4ad8 created_at ['2015-02-09 20:19:43']\n",
      "54c15c5dadac18f10e8b492f user_id ['322']\n",
      "54c15c5dadac18f10e8b492f sport ['bike']\n",
      "54c15c5dadac18f10e8b492f months_training 999\n",
      "54c15c5dadac18f10e8b492f days_per_week 999\n",
      "54c15c5dadac18f10e8b492f distance_per_week 999\n",
      "54c15c5dadac18f10e8b492f stage_at_lt [[8]]\n",
      "54c15c5dadac18f10e8b492f created_at ['2015-01-22 20:23:57']\n",
      "54c022d6adac18db278b496d user_id ['322']\n",
      "54c022d6adac18db278b496d sport ['run']\n",
      "54c022d6adac18db278b496d months_training 999\n",
      "54c022d6adac18db278b496d days_per_week 999\n",
      "54c022d6adac18db278b496d distance_per_week 999\n",
      "54c022d6adac18db278b496d stage_at_lt [[7]]\n",
      "54c022d6adac18db278b496d created_at ['2015-01-21 22:06:14']\n",
      "54d96a6badac18f10e8b4a5a user_id ['555']\n",
      "54d96a6badac18f10e8b4a5a sport ['run']\n",
      "54d96a6badac18f10e8b4a5a months_training 999\n",
      "54d96a6badac18f10e8b4a5a days_per_week 999\n",
      "54d96a6badac18f10e8b4a5a distance_per_week 999\n",
      "54d96a6badac18f10e8b4a5a stage_at_lt [[8]]\n",
      "54d96a6badac18f10e8b4a5a created_at ['2015-02-10 02:18:19']\n",
      "54c1212dadac18db278b4986 user_id ['322']\n",
      "54c1212dadac18db278b4986 sport ['run']\n",
      "54c1212dadac18db278b4986 months_training 999\n",
      "54c1212dadac18db278b4986 days_per_week 999\n",
      "54c1212dadac18db278b4986 distance_per_week 999\n",
      "54c1212dadac18db278b4986 stage_at_lt [[7]]\n",
      "54c1212dadac18db278b4986 created_at ['2015-01-22 16:11:25']\n"
     ]
    }
   ],
   "source": [
    "total_dict = {}\n",
    "months_training = 999\n",
    "days_per_week = 999\n",
    "distance_per_week = 999\n",
    "tags = ['user_id', 'sport', 'months_training',\n",
    "        'days_per_week', 'distance_per_week',\n",
    "        'stage_at_lt', 'created_at']\n",
    "for assess_id in data.keys():\n",
    "    minor_keys = tags\n",
    "    tmp_dict = {}\n",
    "    tmp_list = []\n",
    "    for key in minor_keys:\n",
    "        try:\n",
    "            quantity = data[assess_id]['assessment'][key]\n",
    "        except:\n",
    "            quantity = np.array(999)\n",
    "        tmp_dict[key] = quantity\n",
    "        #if key == 'stage_at_lt':\n",
    "        #    quantity = int(quantity)\n",
    "        #if key == 'user_id':\n",
    "        #    quantity = np.asscalar(quantity)\n",
    "        #if key == 'sport':\n",
    "        #    quantity = repr(quantity[0])\n",
    "        #if key == 'created_at':\n",
    "        #    quantity = repr(quantity[0])\n",
    "        # Look at SmO2.\n",
    "        #if major_key == 'process' and key == 'SmO2':\n",
    "        #    smo2_mean = np.nanmean(quantity)\n",
    "        #    smo2_median = np.nanmedian(quantity)\n",
    "        #    print('SmO2 mean', smo2_mean,\n",
    "        #          'SmO2 median', smo2_median)\n",
    "        print(assess_id, key, quantity)\n",
    "        tmp_list.append(quantity)\n",
    "    total_dict[assess_id] = tmp_dict"
   ]
  },
  {
   "cell_type": "code",
   "execution_count": 383,
   "metadata": {
    "collapsed": false
   },
   "outputs": [
    {
     "data": {
      "text/plain": [
       "'/Users/todd/Google Drive/LT Assessments/COMPLETE/test'"
      ]
     },
     "execution_count": 383,
     "metadata": {},
     "output_type": "execute_result"
    }
   ],
   "source": [
    "pwd"
   ]
  },
  {
   "cell_type": "code",
   "execution_count": 384,
   "metadata": {
    "collapsed": false
   },
   "outputs": [
    {
     "data": {
      "text/plain": [
       "'/Users/todd/data/Assessment_ID_task'"
      ]
     },
     "execution_count": 384,
     "metadata": {},
     "output_type": "execute_result"
    }
   ],
   "source": [
    "out_dir"
   ]
  },
  {
   "cell_type": "code",
   "execution_count": 388,
   "metadata": {
    "collapsed": true
   },
   "outputs": [],
   "source": [
    "import csv"
   ]
  },
  {
   "cell_type": "code",
   "execution_count": 467,
   "metadata": {
    "collapsed": false
   },
   "outputs": [
    {
     "name": "stdout",
     "output_type": "stream",
     "text": [
      "['322'] <class 'numpy.ndarray'>\n",
      "['run'] <class 'numpy.ndarray'>\n",
      "999 <class 'numpy.ndarray'>\n",
      "999 <class 'numpy.ndarray'>\n",
      "999 <class 'numpy.ndarray'>\n",
      "[[7]] <class 'numpy.ndarray'>\n",
      "['2015-01-22 16:11:25'] <class 'numpy.ndarray'>\n"
     ]
    }
   ],
   "source": [
    "for i in tmp_list:\n",
    "    print(i, type(i))"
   ]
  },
  {
   "cell_type": "code",
   "execution_count": 468,
   "metadata": {
    "collapsed": false
   },
   "outputs": [
    {
     "name": "stdout",
     "output_type": "stream",
     "text": [
      "['54c022d6adac18db278b496d', array(['2015-01-21 22:06:14'], \n",
      "      dtype='<U19'), array(999), array([[7]], dtype=uint8), array(999), array(['322'], \n",
      "      dtype='<U3'), array(999), array(['run'], \n",
      "      dtype='<U3')]\n"
     ]
    },
    {
     "ename": "ValueError",
     "evalue": "setting an array element with a sequence",
     "output_type": "error",
     "traceback": [
      "\u001b[0;31m---------------------------------------------------------------------------\u001b[0m",
      "\u001b[0;31mValueError\u001b[0m                                Traceback (most recent call last)",
      "\u001b[0;32m<ipython-input-468-5779e8ff50ef>\u001b[0m in \u001b[0;36m<module>\u001b[0;34m()\u001b[0m\n\u001b[1;32m      6\u001b[0m             \u001b[0mline\u001b[0m\u001b[0;34m.\u001b[0m\u001b[0mappend\u001b[0m\u001b[0;34m(\u001b[0m\u001b[0mv\u001b[0m\u001b[0;34m)\u001b[0m\u001b[0;34m\u001b[0m\u001b[0m\n\u001b[1;32m      7\u001b[0m         \u001b[0mprint\u001b[0m\u001b[0;34m(\u001b[0m\u001b[0mline\u001b[0m\u001b[0;34m)\u001b[0m\u001b[0;34m\u001b[0m\u001b[0m\n\u001b[0;32m----> 8\u001b[0;31m         \u001b[0mnp\u001b[0m\u001b[0;34m.\u001b[0m\u001b[0msavetxt\u001b[0m\u001b[0;34m(\u001b[0m\u001b[0mfn\u001b[0m\u001b[0;34m,\u001b[0m \u001b[0mline\u001b[0m\u001b[0;34m)\u001b[0m\u001b[0;34m\u001b[0m\u001b[0m\n\u001b[0m",
      "\u001b[0;32m/Users/todd/anaconda/lib/python3.5/site-packages/numpy/lib/npyio.py\u001b[0m in \u001b[0;36msavetxt\u001b[0;34m(fname, X, fmt, delimiter, newline, header, footer, comments)\u001b[0m\n\u001b[1;32m   1101\u001b[0m \u001b[0;34m\u001b[0m\u001b[0m\n\u001b[1;32m   1102\u001b[0m     \u001b[0;32mtry\u001b[0m\u001b[0;34m:\u001b[0m\u001b[0;34m\u001b[0m\u001b[0m\n\u001b[0;32m-> 1103\u001b[0;31m         \u001b[0mX\u001b[0m \u001b[0;34m=\u001b[0m \u001b[0mnp\u001b[0m\u001b[0;34m.\u001b[0m\u001b[0masarray\u001b[0m\u001b[0;34m(\u001b[0m\u001b[0mX\u001b[0m\u001b[0;34m)\u001b[0m\u001b[0;34m\u001b[0m\u001b[0m\n\u001b[0m\u001b[1;32m   1104\u001b[0m \u001b[0;34m\u001b[0m\u001b[0m\n\u001b[1;32m   1105\u001b[0m         \u001b[0;31m# Handle 1-dimensional arrays\u001b[0m\u001b[0;34m\u001b[0m\u001b[0;34m\u001b[0m\u001b[0m\n",
      "\u001b[0;32m/Users/todd/anaconda/lib/python3.5/site-packages/numpy/core/numeric.py\u001b[0m in \u001b[0;36masarray\u001b[0;34m(a, dtype, order)\u001b[0m\n\u001b[1;32m    472\u001b[0m \u001b[0;34m\u001b[0m\u001b[0m\n\u001b[1;32m    473\u001b[0m     \"\"\"\n\u001b[0;32m--> 474\u001b[0;31m     \u001b[0;32mreturn\u001b[0m \u001b[0marray\u001b[0m\u001b[0;34m(\u001b[0m\u001b[0ma\u001b[0m\u001b[0;34m,\u001b[0m \u001b[0mdtype\u001b[0m\u001b[0;34m,\u001b[0m \u001b[0mcopy\u001b[0m\u001b[0;34m=\u001b[0m\u001b[0;32mFalse\u001b[0m\u001b[0;34m,\u001b[0m \u001b[0morder\u001b[0m\u001b[0;34m=\u001b[0m\u001b[0morder\u001b[0m\u001b[0;34m)\u001b[0m\u001b[0;34m\u001b[0m\u001b[0m\n\u001b[0m\u001b[1;32m    475\u001b[0m \u001b[0;34m\u001b[0m\u001b[0m\n\u001b[1;32m    476\u001b[0m \u001b[0;32mdef\u001b[0m \u001b[0masanyarray\u001b[0m\u001b[0;34m(\u001b[0m\u001b[0ma\u001b[0m\u001b[0;34m,\u001b[0m \u001b[0mdtype\u001b[0m\u001b[0;34m=\u001b[0m\u001b[0;32mNone\u001b[0m\u001b[0;34m,\u001b[0m \u001b[0morder\u001b[0m\u001b[0;34m=\u001b[0m\u001b[0;32mNone\u001b[0m\u001b[0;34m)\u001b[0m\u001b[0;34m:\u001b[0m\u001b[0;34m\u001b[0m\u001b[0m\n",
      "\u001b[0;31mValueError\u001b[0m: setting an array element with a sequence"
     ]
    }
   ],
   "source": [
    "with open(out_dir + 'test.csv', 'wb') as fn:\n",
    "    for assess_id in assessment_ids:\n",
    "        line = []\n",
    "        line.append(assess_id)\n",
    "        for k, v in total_dict[assess_id].items():\n",
    "            line.append(v)\n",
    "        print(line)\n",
    "        np.savetxt(fn, line)"
   ]
  },
  {
   "cell_type": "code",
   "execution_count": 476,
   "metadata": {
    "collapsed": false
   },
   "outputs": [
    {
     "data": {
      "text/plain": [
       "dict_keys(['samp_rate', 'Acc_z', 'PacePower', 'UTCtime', 'date', 'cpuTemp', 'cHhb_27mm', 'count27', 'cHbO2_15mm', 'cHhb_15mm', 'Gyro_x', 'count15', 'HR', 'FW_version', 'ccode15', 'Pace_on_dev', 'Gyro_y', 'ambient', 'imu_time', 'cHbO2_27mm', 'battVolt', 'assessment', 'imu_samp_rate', 'sport', 'time', 'ccode27', 'device_id', 'Acc_y', 'flash_schema'])"
      ]
     },
     "execution_count": 476,
     "metadata": {},
     "output_type": "execute_result"
    }
   ],
   "source": [
    "data['54c022d6adac18db278b496d']['sweep'].keys()"
   ]
  },
  {
   "cell_type": "code",
   "execution_count": 477,
   "metadata": {
    "collapsed": true
   },
   "outputs": [],
   "source": [
    "proc = amod.getMatlabData('54c022d6adac18db278b496d_process.mat')"
   ]
  },
  {
   "cell_type": "code",
   "execution_count": 484,
   "metadata": {
    "collapsed": false
   },
   "outputs": [
    {
     "data": {
      "image/png": "[encoded data removed]",
      "text/plain": [
       "<matplotlib.figure.Figure at 0x5278b1ac8>"
      ]
     },
     "metadata": {},
     "output_type": "display_data"
    }
   ],
   "source": [
    "plt.plot(proc['process']['SmO2'][:900])\n",
    "plt.show()"
   ]
  },
  {
   "cell_type": "code",
   "execution_count": null,
   "metadata": {
    "collapsed": true
   },
   "outputs": [],
   "source": []
  }
 ],
 "metadata": {
  "kernelspec": {
   "display_name": "Python 3",
   "language": "python",
   "name": "python3"
  },
  "language_info": {
   "codemirror_mode": {
    "name": "ipython",
    "version": 3
   },
   "file_extension": ".py",
   "mimetype": "text/x-python",
   "name": "python",
   "nbconvert_exporter": "python",
   "pygments_lexer": "ipython3",
   "version": "3.5.1"
  }
 },
 "nbformat": 4,
 "nbformat_minor": 0
}
