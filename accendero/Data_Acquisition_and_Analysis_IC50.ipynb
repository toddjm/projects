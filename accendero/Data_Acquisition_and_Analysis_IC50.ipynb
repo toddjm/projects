{
 "cells": [
  {
   "cell_type": "markdown",
   "id": "0d0f081d-8892-4e6e-b323-f7faacb56183",
   "metadata": {},
   "source": [
    "### Identification of compounds that target the reference sequence of the tyrosine-protein kinase active site.\n",
    "### Following identification of PDB 2HYY as an ABL tyrosine kinase inhibitor, I took the UniProt ID from that entry for the target.\n",
    "### nglview is a really great module for visualing structures of many types in a Jupyter notebook, so we have a look at imatinib and the PDB entry 2HYY.\n",
    "### I go through the process of getting bioactivity data for compounds ranked by pIC50 for the target.\n",
    "### There is a summary of my conclusions at the bottom of this notebook.\n",
    "### This and other notebooks all follow the CADD tutorials for using ChEMBL and RDKit [here](https://projects.volkamerlab.org/teachopencadd/index.html).\n",
    "### Please note that I make liberal use of well-written code that already exists, especially from the link immediately above."
   ]
  },
  {
   "cell_type": "code",
   "execution_count": 52,
   "id": "24e88c93-a2b6-4662-9c8e-74b3e54fabcd",
   "metadata": {
    "tags": []
   },
   "outputs": [
    {
     "data": {
      "application/vnd.jupyter.widget-view+json": {
       "model_id": "0c34db90e1f24767947198759adc63ba",
       "version_major": 2,
       "version_minor": 0
      },
      "text/plain": []
     },
     "metadata": {},
     "output_type": "display_data"
    }
   ],
   "source": [
    "import math\n",
    "import nglview as nv\n",
    "import pandas as pd\n",
    "import rdkit.Chem as Chem\n",
    "import rdkit.Chem.AllChem as AllChem\n",
    "\n",
    "from rdkit.Chem import PandasTools\n",
    "from chembl_webresource_client.new_client import new_client\n",
    "from tqdm.auto import tqdm"
   ]
  },
  {
   "cell_type": "code",
   "execution_count": 53,
   "id": "7f5cb986-36fc-445d-89a9-3ab6ccd9e9f8",
   "metadata": {},
   "outputs": [],
   "source": [
    "# SMILES format for ligand from assignment document\n",
    "smiles_code = \"CC1=C(C=C(C=C1)NC(=O)C2=CC=C(C=C2)CN3CCN(CC3)C)NC4=NC=CC(=N4)C5=CN=CC=C5\""
   ]
  },
  {
   "cell_type": "code",
   "execution_count": 54,
   "id": "26acb9f7-aa2b-44c6-83b9-c95640b29368",
   "metadata": {},
   "outputs": [],
   "source": [
    "# Add hydrogens to the skeleton\n",
    "molecule = Chem.AddHs(Chem.MolFromSmiles(smiles_code))"
   ]
  },
  {
   "cell_type": "code",
   "execution_count": 55,
   "id": "93117f76-0069-451a-a4ed-aa9d8a02801d",
   "metadata": {},
   "outputs": [
    {
     "data": {
      "text/plain": [
       "68"
      ]
     },
     "execution_count": 55,
     "metadata": {},
     "output_type": "execute_result"
    }
   ],
   "source": [
    "# Sanity check, imatinib should have 68 atoms after adding hydrogens\n",
    "molecule.GetNumAtoms()"
   ]
  },
  {
   "cell_type": "code",
   "execution_count": 56,
   "id": "75ce40da-4626-4385-a373-bd126aaea351",
   "metadata": {},
   "outputs": [
    {
     "data": {
      "application/vnd.jupyter.widget-view+json": {
       "model_id": "54a6748b68274a458688b83d431544b2",
       "version_major": 2,
       "version_minor": 0
      },
      "text/plain": [
       "NGLWidget()"
      ]
     },
     "metadata": {},
     "output_type": "display_data"
    }
   ],
   "source": [
    "# We need to create an embedded molecule instance in order to use nglview\n",
    "AllChem.EmbedMolecule(molecule)\n",
    "view = nv.show_rdkit(molecule)\n",
    "view"
   ]
  },
  {
   "cell_type": "code",
   "execution_count": 59,
   "id": "123ed67d-5075-485e-b793-83c7d8c70f19",
   "metadata": {},
   "outputs": [
    {
     "data": {
      "application/vnd.jupyter.widget-view+json": {
       "model_id": "2747563637bf4a76baec7b1e9a540254",
       "version_major": 2,
       "version_minor": 0
      },
      "text/plain": [
       "NGLWidget()"
      ]
     },
     "metadata": {},
     "output_type": "display_data"
    }
   ],
   "source": [
    "# Let's look at PDB ID 2HYY, this is very cool to do in a Jupyter notebook!\n",
    "view = nv.show_pdbid('2HYY')\n",
    "view"
   ]
  },
  {
   "cell_type": "code",
   "execution_count": 2,
   "id": "c79f2edf-77f1-439d-8fc1-343214a787c7",
   "metadata": {},
   "outputs": [],
   "source": [
    "# Instantiate handles for interacting with ChEMBL\n",
    "targets_api = new_client.target\n",
    "compounds_api = new_client.molecule\n",
    "bioactivities_api = new_client.activity"
   ]
  },
  {
   "cell_type": "code",
   "execution_count": 51,
   "id": "bc90e650-018d-48c6-ae75-a233071a599a",
   "metadata": {},
   "outputs": [],
   "source": [
    "# After looking at RCSB for imatinib crystallized with a tyrosine kinase inhibitor (imatinib),\n",
    "# I chose a target from PDB ID 2HYY, which has a UniProt ID P00519\n",
    "uniprot_id = 'P00519'"
   ]
  },
  {
   "cell_type": "code",
   "execution_count": 4,
   "id": "82b3ae6c-c5bd-40df-844a-751ad2fef43b",
   "metadata": {},
   "outputs": [
    {
     "name": "stdout",
     "output_type": "stream",
     "text": [
      "The type of the targets is \"<class 'chembl_webresource_client.query_set.QuerySet'>\"\n"
     ]
    }
   ],
   "source": [
    "# Get target information from ChEMBL but restrict it to specified values only\n",
    "targets = targets_api.get(target_components__accession=uniprot_id).only(\n",
    "    \"target_chembl_id\", \"organism\", \"pref_name\", \"target_type\"\n",
    ")"
   ]
  },
  {
   "cell_type": "code",
   "execution_count": 5,
   "id": "139e4d7b-3942-444c-a01e-736e6254d09b",
   "metadata": {},
   "outputs": [
    {
     "data": {
      "text/html": [
       "<div>\n",
       "<style scoped>\n",
       "    .dataframe tbody tr th:only-of-type {\n",
       "        vertical-align: middle;\n",
       "    }\n",
       "\n",
       "    .dataframe tbody tr th {\n",
       "        vertical-align: top;\n",
       "    }\n",
       "\n",
       "    .dataframe thead th {\n",
       "        text-align: right;\n",
       "    }\n",
       "</style>\n",
       "<table border=\"1\" class=\"dataframe\">\n",
       "  <thead>\n",
       "    <tr style=\"text-align: right;\">\n",
       "      <th></th>\n",
       "      <th>organism</th>\n",
       "      <th>pref_name</th>\n",
       "      <th>target_chembl_id</th>\n",
       "      <th>target_type</th>\n",
       "    </tr>\n",
       "  </thead>\n",
       "  <tbody>\n",
       "    <tr>\n",
       "      <th>0</th>\n",
       "      <td>Homo sapiens</td>\n",
       "      <td>Tyrosine-protein kinase ABL</td>\n",
       "      <td>CHEMBL1862</td>\n",
       "      <td>SINGLE PROTEIN</td>\n",
       "    </tr>\n",
       "    <tr>\n",
       "      <th>1</th>\n",
       "      <td>Homo sapiens</td>\n",
       "      <td>Tyrosine-protein kinase ABL</td>\n",
       "      <td>CHEMBL1862</td>\n",
       "      <td>SINGLE PROTEIN</td>\n",
       "    </tr>\n",
       "    <tr>\n",
       "      <th>2</th>\n",
       "      <td>Homo sapiens</td>\n",
       "      <td>Bcr/Abl fusion protein</td>\n",
       "      <td>CHEMBL2096618</td>\n",
       "      <td>CHIMERIC PROTEIN</td>\n",
       "    </tr>\n",
       "    <tr>\n",
       "      <th>3</th>\n",
       "      <td>Homo sapiens</td>\n",
       "      <td>Tyrosine-protein kinase ABL</td>\n",
       "      <td>CHEMBL2111414</td>\n",
       "      <td>PROTEIN FAMILY</td>\n",
       "    </tr>\n",
       "    <tr>\n",
       "      <th>4</th>\n",
       "      <td>Homo sapiens</td>\n",
       "      <td>Ras and Rab interactor 1/Tyrosine-protein kina...</td>\n",
       "      <td>CHEMBL3885630</td>\n",
       "      <td>PROTEIN-PROTEIN INTERACTION</td>\n",
       "    </tr>\n",
       "    <tr>\n",
       "      <th>5</th>\n",
       "      <td>Homo sapiens</td>\n",
       "      <td>Transcription factor ETV6/Tyrosine-protein kin...</td>\n",
       "      <td>CHEMBL3885645</td>\n",
       "      <td>CHIMERIC PROTEIN</td>\n",
       "    </tr>\n",
       "    <tr>\n",
       "      <th>6</th>\n",
       "      <td>Homo sapiens</td>\n",
       "      <td>Baculoviral IAP repeat-containing protein 2/BC...</td>\n",
       "      <td>CHEMBL4296119</td>\n",
       "      <td>PROTEIN-PROTEIN INTERACTION</td>\n",
       "    </tr>\n",
       "    <tr>\n",
       "      <th>7</th>\n",
       "      <td>Homo sapiens</td>\n",
       "      <td>E3 ubiquitin-protein ligase XIAP/BCR/ABL</td>\n",
       "      <td>CHEMBL4296120</td>\n",
       "      <td>PROTEIN-PROTEIN INTERACTION</td>\n",
       "    </tr>\n",
       "    <tr>\n",
       "      <th>8</th>\n",
       "      <td>Homo sapiens</td>\n",
       "      <td>Cereblon/BCR/ABL</td>\n",
       "      <td>CHEMBL4296137</td>\n",
       "      <td>PROTEIN-PROTEIN INTERACTION</td>\n",
       "    </tr>\n",
       "    <tr>\n",
       "      <th>9</th>\n",
       "      <td>Homo sapiens</td>\n",
       "      <td>VHL/ABL1</td>\n",
       "      <td>CHEMBL4523725</td>\n",
       "      <td>PROTEIN-PROTEIN INTERACTION</td>\n",
       "    </tr>\n",
       "    <tr>\n",
       "      <th>10</th>\n",
       "      <td>Homo sapiens</td>\n",
       "      <td>Protein cereblon/Tyrosine-protein kinase ABL1</td>\n",
       "      <td>CHEMBL4523750</td>\n",
       "      <td>PROTEIN-PROTEIN INTERACTION</td>\n",
       "    </tr>\n",
       "    <tr>\n",
       "      <th>11</th>\n",
       "      <td>Homo sapiens</td>\n",
       "      <td>VHL/BCR-ABL1</td>\n",
       "      <td>CHEMBL4523751</td>\n",
       "      <td>PROTEIN-PROTEIN INTERACTION</td>\n",
       "    </tr>\n",
       "  </tbody>\n",
       "</table>\n",
       "</div>"
      ],
      "text/plain": [
       "        organism                                          pref_name  \\\n",
       "0   Homo sapiens                        Tyrosine-protein kinase ABL   \n",
       "1   Homo sapiens                        Tyrosine-protein kinase ABL   \n",
       "2   Homo sapiens                             Bcr/Abl fusion protein   \n",
       "3   Homo sapiens                        Tyrosine-protein kinase ABL   \n",
       "4   Homo sapiens  Ras and Rab interactor 1/Tyrosine-protein kina...   \n",
       "5   Homo sapiens  Transcription factor ETV6/Tyrosine-protein kin...   \n",
       "6   Homo sapiens  Baculoviral IAP repeat-containing protein 2/BC...   \n",
       "7   Homo sapiens           E3 ubiquitin-protein ligase XIAP/BCR/ABL   \n",
       "8   Homo sapiens                                   Cereblon/BCR/ABL   \n",
       "9   Homo sapiens                                           VHL/ABL1   \n",
       "10  Homo sapiens      Protein cereblon/Tyrosine-protein kinase ABL1   \n",
       "11  Homo sapiens                                       VHL/BCR-ABL1   \n",
       "\n",
       "   target_chembl_id                  target_type  \n",
       "0        CHEMBL1862               SINGLE PROTEIN  \n",
       "1        CHEMBL1862               SINGLE PROTEIN  \n",
       "2     CHEMBL2096618             CHIMERIC PROTEIN  \n",
       "3     CHEMBL2111414               PROTEIN FAMILY  \n",
       "4     CHEMBL3885630  PROTEIN-PROTEIN INTERACTION  \n",
       "5     CHEMBL3885645             CHIMERIC PROTEIN  \n",
       "6     CHEMBL4296119  PROTEIN-PROTEIN INTERACTION  \n",
       "7     CHEMBL4296120  PROTEIN-PROTEIN INTERACTION  \n",
       "8     CHEMBL4296137  PROTEIN-PROTEIN INTERACTION  \n",
       "9     CHEMBL4523725  PROTEIN-PROTEIN INTERACTION  \n",
       "10    CHEMBL4523750  PROTEIN-PROTEIN INTERACTION  \n",
       "11    CHEMBL4523751  PROTEIN-PROTEIN INTERACTION  "
      ]
     },
     "execution_count": 5,
     "metadata": {},
     "output_type": "execute_result"
    }
   ],
   "source": [
    "# Get potential targets from ChEMBL\n",
    "targets = pd.DataFrame.from_records(targets)\n",
    "targets"
   ]
  },
  {
   "cell_type": "code",
   "execution_count": 6,
   "id": "9e757ed7-b9fe-4313-8290-30c4d71eee08",
   "metadata": {},
   "outputs": [
    {
     "data": {
      "text/plain": [
       "organism                           Homo sapiens\n",
       "pref_name           Tyrosine-protein kinase ABL\n",
       "target_chembl_id                     CHEMBL1862\n",
       "target_type                      SINGLE PROTEIN\n",
       "Name: 0, dtype: object"
      ]
     },
     "execution_count": 6,
     "metadata": {},
     "output_type": "execute_result"
    }
   ],
   "source": [
    "# I'm choosing CHEMBL1862, it's single protein and representative of the Bcr-Abl TKI\n",
    "target = targets.iloc[0]\n",
    "target"
   ]
  },
  {
   "cell_type": "code",
   "execution_count": 7,
   "id": "c380ee12-2c53-4711-8cb3-a8cc3b4fd7a9",
   "metadata": {},
   "outputs": [
    {
     "name": "stdout",
     "output_type": "stream",
     "text": [
      "The target ChEMBL ID is CHEMBL1862\n"
     ]
    }
   ],
   "source": [
    "chembl_id = target.target_chembl_id\n",
    "print(f\"The target ChEMBL ID is {chembl_id}\")"
   ]
  },
  {
   "cell_type": "code",
   "execution_count": 8,
   "id": "dfaf6b04-bdc3-4455-ba06-70c05c3ded70",
   "metadata": {},
   "outputs": [
    {
     "name": "stdout",
     "output_type": "stream",
     "text": [
      "Length and type of bioactivities object: 2197, <class 'chembl_webresource_client.query_set.QuerySet'>\n"
     ]
    }
   ],
   "source": [
    "# Get binding assay data\n",
    "bioactivities = bioactivities_api.filter(\n",
    "    target_chembl_id=chembl_id, type=\"IC50\", relation=\"=\", assay_type=\"B\"\n",
    ").only(\n",
    "    \"activity_id\",\n",
    "    \"assay_chembl_id\",\n",
    "    \"assay_description\",\n",
    "    \"assay_type\",\n",
    "    \"molecule_chembl_id\",\n",
    "    \"type\",\n",
    "    \"standard_units\",\n",
    "    \"relation\",\n",
    "    \"standard_value\",\n",
    "    \"target_chembl_id\",\n",
    "    \"target_organism\",\n",
    ")\n",
    "\n",
    "print(f\"Length and type of bioactivities object: {len(bioactivities)}, {type(bioactivities)}\")"
   ]
  },
  {
   "cell_type": "code",
   "execution_count": 9,
   "id": "a9898523-b69e-4ecb-b18a-61017d99f550",
   "metadata": {},
   "outputs": [
    {
     "name": "stdout",
     "output_type": "stream",
     "text": [
      "Length and type of first element: 13, <class 'dict'>\n"
     ]
    },
    {
     "data": {
      "text/plain": [
       "{'activity_id': 146141,\n",
       " 'assay_chembl_id': 'CHEMBL806527',\n",
       " 'assay_description': 'Radioligand displacement assay for the binding of [125I]Glu-Pro-Gln-pTyr-Glu-Glu-Ile-Pro-Ile-Tyr-Leu to ABL SH2 domain',\n",
       " 'assay_type': 'B',\n",
       " 'molecule_chembl_id': 'CHEMBL13462',\n",
       " 'relation': '=',\n",
       " 'standard_units': 'nM',\n",
       " 'standard_value': '4000.0',\n",
       " 'target_chembl_id': 'CHEMBL1862',\n",
       " 'target_organism': 'Homo sapiens',\n",
       " 'type': 'IC50',\n",
       " 'units': 'uM',\n",
       " 'value': '4.0'}"
      ]
     },
     "execution_count": 9,
     "metadata": {},
     "output_type": "execute_result"
    }
   ],
   "source": [
    "# Look at an entry in bioactivities\n",
    "print(f\"Length and type of first element: {len(bioactivities[0])}, {type(bioactivities[0])}\")\n",
    "bioactivities[0]"
   ]
  },
  {
   "cell_type": "code",
   "execution_count": 10,
   "id": "b37c709f-2b00-46f5-836b-5591ac4b0379",
   "metadata": {},
   "outputs": [
    {
     "name": "stdout",
     "output_type": "stream",
     "text": [
      "DataFrame shape: (2198, 13)\n"
     ]
    },
    {
     "data": {
      "text/html": [
       "<div>\n",
       "<style scoped>\n",
       "    .dataframe tbody tr th:only-of-type {\n",
       "        vertical-align: middle;\n",
       "    }\n",
       "\n",
       "    .dataframe tbody tr th {\n",
       "        vertical-align: top;\n",
       "    }\n",
       "\n",
       "    .dataframe thead th {\n",
       "        text-align: right;\n",
       "    }\n",
       "</style>\n",
       "<table border=\"1\" class=\"dataframe\">\n",
       "  <thead>\n",
       "    <tr style=\"text-align: right;\">\n",
       "      <th></th>\n",
       "      <th>activity_id</th>\n",
       "      <th>assay_chembl_id</th>\n",
       "      <th>assay_description</th>\n",
       "      <th>assay_type</th>\n",
       "      <th>molecule_chembl_id</th>\n",
       "      <th>relation</th>\n",
       "      <th>standard_units</th>\n",
       "      <th>standard_value</th>\n",
       "      <th>target_chembl_id</th>\n",
       "      <th>target_organism</th>\n",
       "      <th>type</th>\n",
       "      <th>units</th>\n",
       "      <th>value</th>\n",
       "    </tr>\n",
       "  </thead>\n",
       "  <tbody>\n",
       "    <tr>\n",
       "      <th>0</th>\n",
       "      <td>146141</td>\n",
       "      <td>CHEMBL806527</td>\n",
       "      <td>Radioligand displacement assay for the binding...</td>\n",
       "      <td>B</td>\n",
       "      <td>CHEMBL13462</td>\n",
       "      <td>=</td>\n",
       "      <td>nM</td>\n",
       "      <td>4000.0</td>\n",
       "      <td>CHEMBL1862</td>\n",
       "      <td>Homo sapiens</td>\n",
       "      <td>IC50</td>\n",
       "      <td>uM</td>\n",
       "      <td>4.0</td>\n",
       "    </tr>\n",
       "    <tr>\n",
       "      <th>1</th>\n",
       "      <td>146141</td>\n",
       "      <td>CHEMBL806527</td>\n",
       "      <td>Radioligand displacement assay for the binding...</td>\n",
       "      <td>B</td>\n",
       "      <td>CHEMBL13462</td>\n",
       "      <td>=</td>\n",
       "      <td>nM</td>\n",
       "      <td>4000.0</td>\n",
       "      <td>CHEMBL1862</td>\n",
       "      <td>Homo sapiens</td>\n",
       "      <td>IC50</td>\n",
       "      <td>uM</td>\n",
       "      <td>4.0</td>\n",
       "    </tr>\n",
       "    <tr>\n",
       "      <th>2</th>\n",
       "      <td>146143</td>\n",
       "      <td>CHEMBL762575</td>\n",
       "      <td>Inhibition of [35S]-labeled SH2-GST Abl bindin...</td>\n",
       "      <td>B</td>\n",
       "      <td>CHEMBL13462</td>\n",
       "      <td>=</td>\n",
       "      <td>nM</td>\n",
       "      <td>16000.0</td>\n",
       "      <td>CHEMBL1862</td>\n",
       "      <td>Homo sapiens</td>\n",
       "      <td>IC50</td>\n",
       "      <td>uM</td>\n",
       "      <td>16.0</td>\n",
       "    </tr>\n",
       "    <tr>\n",
       "      <th>3</th>\n",
       "      <td>148569</td>\n",
       "      <td>CHEMBL806527</td>\n",
       "      <td>Radioligand displacement assay for the binding...</td>\n",
       "      <td>B</td>\n",
       "      <td>CHEMBL414123</td>\n",
       "      <td>=</td>\n",
       "      <td>nM</td>\n",
       "      <td>15000.0</td>\n",
       "      <td>CHEMBL1862</td>\n",
       "      <td>Homo sapiens</td>\n",
       "      <td>IC50</td>\n",
       "      <td>uM</td>\n",
       "      <td>15.0</td>\n",
       "    </tr>\n",
       "    <tr>\n",
       "      <th>4</th>\n",
       "      <td>148571</td>\n",
       "      <td>CHEMBL762575</td>\n",
       "      <td>Inhibition of [35S]-labeled SH2-GST Abl bindin...</td>\n",
       "      <td>B</td>\n",
       "      <td>CHEMBL414123</td>\n",
       "      <td>=</td>\n",
       "      <td>nM</td>\n",
       "      <td>2900.0</td>\n",
       "      <td>CHEMBL1862</td>\n",
       "      <td>Homo sapiens</td>\n",
       "      <td>IC50</td>\n",
       "      <td>uM</td>\n",
       "      <td>2.9</td>\n",
       "    </tr>\n",
       "  </tbody>\n",
       "</table>\n",
       "</div>"
      ],
      "text/plain": [
       "   activity_id assay_chembl_id  \\\n",
       "0       146141    CHEMBL806527   \n",
       "1       146141    CHEMBL806527   \n",
       "2       146143    CHEMBL762575   \n",
       "3       148569    CHEMBL806527   \n",
       "4       148571    CHEMBL762575   \n",
       "\n",
       "                                   assay_description assay_type  \\\n",
       "0  Radioligand displacement assay for the binding...          B   \n",
       "1  Radioligand displacement assay for the binding...          B   \n",
       "2  Inhibition of [35S]-labeled SH2-GST Abl bindin...          B   \n",
       "3  Radioligand displacement assay for the binding...          B   \n",
       "4  Inhibition of [35S]-labeled SH2-GST Abl bindin...          B   \n",
       "\n",
       "  molecule_chembl_id relation standard_units standard_value target_chembl_id  \\\n",
       "0        CHEMBL13462        =             nM         4000.0       CHEMBL1862   \n",
       "1        CHEMBL13462        =             nM         4000.0       CHEMBL1862   \n",
       "2        CHEMBL13462        =             nM        16000.0       CHEMBL1862   \n",
       "3       CHEMBL414123        =             nM        15000.0       CHEMBL1862   \n",
       "4       CHEMBL414123        =             nM         2900.0       CHEMBL1862   \n",
       "\n",
       "  target_organism  type units value  \n",
       "0    Homo sapiens  IC50    uM   4.0  \n",
       "1    Homo sapiens  IC50    uM   4.0  \n",
       "2    Homo sapiens  IC50    uM  16.0  \n",
       "3    Homo sapiens  IC50    uM  15.0  \n",
       "4    Homo sapiens  IC50    uM   2.9  "
      ]
     },
     "execution_count": 10,
     "metadata": {},
     "output_type": "execute_result"
    }
   ],
   "source": [
    "# Get the query set from ChEMBL\n",
    "bioactivities_df = pd.DataFrame.from_records(bioactivities)\n",
    "print(f\"DataFrame shape: {bioactivities_df.shape}\")\n",
    "bioactivities_df.head()"
   ]
  },
  {
   "cell_type": "code",
   "execution_count": 11,
   "id": "82eabf66-0797-4b7d-b49b-eac9b60611f1",
   "metadata": {},
   "outputs": [
    {
     "data": {
      "text/html": [
       "<div>\n",
       "<style scoped>\n",
       "    .dataframe tbody tr th:only-of-type {\n",
       "        vertical-align: middle;\n",
       "    }\n",
       "\n",
       "    .dataframe tbody tr th {\n",
       "        vertical-align: top;\n",
       "    }\n",
       "\n",
       "    .dataframe thead th {\n",
       "        text-align: right;\n",
       "    }\n",
       "</style>\n",
       "<table border=\"1\" class=\"dataframe\">\n",
       "  <thead>\n",
       "    <tr style=\"text-align: right;\">\n",
       "      <th></th>\n",
       "      <th>activity_id</th>\n",
       "      <th>assay_chembl_id</th>\n",
       "      <th>assay_description</th>\n",
       "      <th>assay_type</th>\n",
       "      <th>molecule_chembl_id</th>\n",
       "      <th>relation</th>\n",
       "      <th>standard_units</th>\n",
       "      <th>standard_value</th>\n",
       "      <th>target_chembl_id</th>\n",
       "      <th>target_organism</th>\n",
       "      <th>type</th>\n",
       "    </tr>\n",
       "  </thead>\n",
       "  <tbody>\n",
       "    <tr>\n",
       "      <th>0</th>\n",
       "      <td>146141</td>\n",
       "      <td>CHEMBL806527</td>\n",
       "      <td>Radioligand displacement assay for the binding...</td>\n",
       "      <td>B</td>\n",
       "      <td>CHEMBL13462</td>\n",
       "      <td>=</td>\n",
       "      <td>nM</td>\n",
       "      <td>4000.0</td>\n",
       "      <td>CHEMBL1862</td>\n",
       "      <td>Homo sapiens</td>\n",
       "      <td>IC50</td>\n",
       "    </tr>\n",
       "    <tr>\n",
       "      <th>1</th>\n",
       "      <td>146141</td>\n",
       "      <td>CHEMBL806527</td>\n",
       "      <td>Radioligand displacement assay for the binding...</td>\n",
       "      <td>B</td>\n",
       "      <td>CHEMBL13462</td>\n",
       "      <td>=</td>\n",
       "      <td>nM</td>\n",
       "      <td>4000.0</td>\n",
       "      <td>CHEMBL1862</td>\n",
       "      <td>Homo sapiens</td>\n",
       "      <td>IC50</td>\n",
       "    </tr>\n",
       "    <tr>\n",
       "      <th>2</th>\n",
       "      <td>146143</td>\n",
       "      <td>CHEMBL762575</td>\n",
       "      <td>Inhibition of [35S]-labeled SH2-GST Abl bindin...</td>\n",
       "      <td>B</td>\n",
       "      <td>CHEMBL13462</td>\n",
       "      <td>=</td>\n",
       "      <td>nM</td>\n",
       "      <td>16000.0</td>\n",
       "      <td>CHEMBL1862</td>\n",
       "      <td>Homo sapiens</td>\n",
       "      <td>IC50</td>\n",
       "    </tr>\n",
       "    <tr>\n",
       "      <th>3</th>\n",
       "      <td>148569</td>\n",
       "      <td>CHEMBL806527</td>\n",
       "      <td>Radioligand displacement assay for the binding...</td>\n",
       "      <td>B</td>\n",
       "      <td>CHEMBL414123</td>\n",
       "      <td>=</td>\n",
       "      <td>nM</td>\n",
       "      <td>15000.0</td>\n",
       "      <td>CHEMBL1862</td>\n",
       "      <td>Homo sapiens</td>\n",
       "      <td>IC50</td>\n",
       "    </tr>\n",
       "    <tr>\n",
       "      <th>4</th>\n",
       "      <td>148571</td>\n",
       "      <td>CHEMBL762575</td>\n",
       "      <td>Inhibition of [35S]-labeled SH2-GST Abl bindin...</td>\n",
       "      <td>B</td>\n",
       "      <td>CHEMBL414123</td>\n",
       "      <td>=</td>\n",
       "      <td>nM</td>\n",
       "      <td>2900.0</td>\n",
       "      <td>CHEMBL1862</td>\n",
       "      <td>Homo sapiens</td>\n",
       "      <td>IC50</td>\n",
       "    </tr>\n",
       "  </tbody>\n",
       "</table>\n",
       "</div>"
      ],
      "text/plain": [
       "   activity_id assay_chembl_id  \\\n",
       "0       146141    CHEMBL806527   \n",
       "1       146141    CHEMBL806527   \n",
       "2       146143    CHEMBL762575   \n",
       "3       148569    CHEMBL806527   \n",
       "4       148571    CHEMBL762575   \n",
       "\n",
       "                                   assay_description assay_type  \\\n",
       "0  Radioligand displacement assay for the binding...          B   \n",
       "1  Radioligand displacement assay for the binding...          B   \n",
       "2  Inhibition of [35S]-labeled SH2-GST Abl bindin...          B   \n",
       "3  Radioligand displacement assay for the binding...          B   \n",
       "4  Inhibition of [35S]-labeled SH2-GST Abl bindin...          B   \n",
       "\n",
       "  molecule_chembl_id relation standard_units standard_value target_chembl_id  \\\n",
       "0        CHEMBL13462        =             nM         4000.0       CHEMBL1862   \n",
       "1        CHEMBL13462        =             nM         4000.0       CHEMBL1862   \n",
       "2        CHEMBL13462        =             nM        16000.0       CHEMBL1862   \n",
       "3       CHEMBL414123        =             nM        15000.0       CHEMBL1862   \n",
       "4       CHEMBL414123        =             nM         2900.0       CHEMBL1862   \n",
       "\n",
       "  target_organism  type  \n",
       "0    Homo sapiens  IC50  \n",
       "1    Homo sapiens  IC50  \n",
       "2    Homo sapiens  IC50  \n",
       "3    Homo sapiens  IC50  \n",
       "4    Homo sapiens  IC50  "
      ]
     },
     "execution_count": 11,
     "metadata": {},
     "output_type": "execute_result"
    }
   ],
   "source": [
    "# We need to clean-up the bioactivites data and do some pandas calisthenics\n",
    "bioactivities_df[\"units\"].unique()  # Illustrated here, see output\n",
    "bioactivities_df.drop([\"units\", \"value\"], axis=1, inplace=True)\n",
    "bioactivities_df.head()"
   ]
  },
  {
   "cell_type": "code",
   "execution_count": 12,
   "id": "9d25d67f-1373-4368-a2ce-7f73490a37c7",
   "metadata": {},
   "outputs": [
    {
     "data": {
      "text/html": [
       "<div>\n",
       "<style scoped>\n",
       "    .dataframe tbody tr th:only-of-type {\n",
       "        vertical-align: middle;\n",
       "    }\n",
       "\n",
       "    .dataframe tbody tr th {\n",
       "        vertical-align: top;\n",
       "    }\n",
       "\n",
       "    .dataframe thead th {\n",
       "        text-align: right;\n",
       "    }\n",
       "</style>\n",
       "<table border=\"1\" class=\"dataframe\">\n",
       "  <thead>\n",
       "    <tr style=\"text-align: right;\">\n",
       "      <th></th>\n",
       "      <th>activity_id</th>\n",
       "      <th>assay_chembl_id</th>\n",
       "      <th>assay_description</th>\n",
       "      <th>assay_type</th>\n",
       "      <th>molecule_chembl_id</th>\n",
       "      <th>relation</th>\n",
       "      <th>standard_units</th>\n",
       "      <th>standard_value</th>\n",
       "      <th>target_chembl_id</th>\n",
       "      <th>target_organism</th>\n",
       "      <th>type</th>\n",
       "    </tr>\n",
       "  </thead>\n",
       "  <tbody>\n",
       "    <tr>\n",
       "      <th>0</th>\n",
       "      <td>146141</td>\n",
       "      <td>CHEMBL806527</td>\n",
       "      <td>Radioligand displacement assay for the binding...</td>\n",
       "      <td>B</td>\n",
       "      <td>CHEMBL13462</td>\n",
       "      <td>=</td>\n",
       "      <td>nM</td>\n",
       "      <td>4000.0</td>\n",
       "      <td>CHEMBL1862</td>\n",
       "      <td>Homo sapiens</td>\n",
       "      <td>IC50</td>\n",
       "    </tr>\n",
       "    <tr>\n",
       "      <th>1</th>\n",
       "      <td>148569</td>\n",
       "      <td>CHEMBL806527</td>\n",
       "      <td>Radioligand displacement assay for the binding...</td>\n",
       "      <td>B</td>\n",
       "      <td>CHEMBL414123</td>\n",
       "      <td>=</td>\n",
       "      <td>nM</td>\n",
       "      <td>15000.0</td>\n",
       "      <td>CHEMBL1862</td>\n",
       "      <td>Homo sapiens</td>\n",
       "      <td>IC50</td>\n",
       "    </tr>\n",
       "    <tr>\n",
       "      <th>2</th>\n",
       "      <td>152122</td>\n",
       "      <td>CHEMBL806527</td>\n",
       "      <td>Radioligand displacement assay for the binding...</td>\n",
       "      <td>B</td>\n",
       "      <td>CHEMBL413629</td>\n",
       "      <td>=</td>\n",
       "      <td>nM</td>\n",
       "      <td>1800.0</td>\n",
       "      <td>CHEMBL1862</td>\n",
       "      <td>Homo sapiens</td>\n",
       "      <td>IC50</td>\n",
       "    </tr>\n",
       "    <tr>\n",
       "      <th>3</th>\n",
       "      <td>154553</td>\n",
       "      <td>CHEMBL806527</td>\n",
       "      <td>Radioligand displacement assay for the binding...</td>\n",
       "      <td>B</td>\n",
       "      <td>CHEMBL301845</td>\n",
       "      <td>=</td>\n",
       "      <td>nM</td>\n",
       "      <td>15000.0</td>\n",
       "      <td>CHEMBL1862</td>\n",
       "      <td>Homo sapiens</td>\n",
       "      <td>IC50</td>\n",
       "    </tr>\n",
       "    <tr>\n",
       "      <th>4</th>\n",
       "      <td>159483</td>\n",
       "      <td>CHEMBL806527</td>\n",
       "      <td>Radioligand displacement assay for the binding...</td>\n",
       "      <td>B</td>\n",
       "      <td>CHEMBL58478</td>\n",
       "      <td>=</td>\n",
       "      <td>nM</td>\n",
       "      <td>1700.0</td>\n",
       "      <td>CHEMBL1862</td>\n",
       "      <td>Homo sapiens</td>\n",
       "      <td>IC50</td>\n",
       "    </tr>\n",
       "  </tbody>\n",
       "</table>\n",
       "</div>"
      ],
      "text/plain": [
       "   activity_id assay_chembl_id  \\\n",
       "0       146141    CHEMBL806527   \n",
       "1       148569    CHEMBL806527   \n",
       "2       152122    CHEMBL806527   \n",
       "3       154553    CHEMBL806527   \n",
       "4       159483    CHEMBL806527   \n",
       "\n",
       "                                   assay_description assay_type  \\\n",
       "0  Radioligand displacement assay for the binding...          B   \n",
       "1  Radioligand displacement assay for the binding...          B   \n",
       "2  Radioligand displacement assay for the binding...          B   \n",
       "3  Radioligand displacement assay for the binding...          B   \n",
       "4  Radioligand displacement assay for the binding...          B   \n",
       "\n",
       "  molecule_chembl_id relation standard_units  standard_value target_chembl_id  \\\n",
       "0        CHEMBL13462        =             nM          4000.0       CHEMBL1862   \n",
       "1       CHEMBL414123        =             nM         15000.0       CHEMBL1862   \n",
       "2       CHEMBL413629        =             nM          1800.0       CHEMBL1862   \n",
       "3       CHEMBL301845        =             nM         15000.0       CHEMBL1862   \n",
       "4        CHEMBL58478        =             nM          1700.0       CHEMBL1862   \n",
       "\n",
       "  target_organism  type  \n",
       "0    Homo sapiens  IC50  \n",
       "1    Homo sapiens  IC50  \n",
       "2    Homo sapiens  IC50  \n",
       "3    Homo sapiens  IC50  \n",
       "4    Homo sapiens  IC50  "
      ]
     },
     "execution_count": 12,
     "metadata": {},
     "output_type": "execute_result"
    }
   ],
   "source": [
    "# These steps are required per T001 to further manage the dataframe\n",
    "bioactivities_df = bioactivities_df.astype({\"standard_value\": \"float64\"})  # This needs to be a float, not an object\n",
    "bioactivities_df.dropna(axis=0, how=\"any\", inplace=True)  # Delete entries with missing values\n",
    "bioactivities_df = bioactivities_df[bioactivities_df[\"standard_units\"] == \"nM\"]  # Keep only entries with nM units\n",
    "bioactivities_df.drop_duplicates(\"molecule_chembl_id\", keep=\"first\", inplace=True)  # Delete duplicate molecules\n",
    "bioactivities_df.reset_index(drop=True, inplace=True)  # Reset the index\n",
    "bioactivities_df.head()"
   ]
  },
  {
   "cell_type": "code",
   "execution_count": 13,
   "id": "66463dbc-9781-44a4-8658-d9395ebe2289",
   "metadata": {},
   "outputs": [],
   "source": [
    "# Rename the columns\n",
    "bioactivities_df.rename(\n",
    "    columns={\"standard_value\": \"IC50\", \"standard_units\": \"units\"}, inplace=True\n",
    ")"
   ]
  },
  {
   "cell_type": "code",
   "execution_count": 14,
   "id": "f06ec772-be77-4056-9576-f19de7f4ef2b",
   "metadata": {},
   "outputs": [
    {
     "data": {
      "text/html": [
       "<div>\n",
       "<style scoped>\n",
       "    .dataframe tbody tr th:only-of-type {\n",
       "        vertical-align: middle;\n",
       "    }\n",
       "\n",
       "    .dataframe tbody tr th {\n",
       "        vertical-align: top;\n",
       "    }\n",
       "\n",
       "    .dataframe thead th {\n",
       "        text-align: right;\n",
       "    }\n",
       "</style>\n",
       "<table border=\"1\" class=\"dataframe\">\n",
       "  <thead>\n",
       "    <tr style=\"text-align: right;\">\n",
       "      <th></th>\n",
       "      <th>activity_id</th>\n",
       "      <th>assay_chembl_id</th>\n",
       "      <th>assay_description</th>\n",
       "      <th>assay_type</th>\n",
       "      <th>molecule_chembl_id</th>\n",
       "      <th>relation</th>\n",
       "      <th>units</th>\n",
       "      <th>IC50</th>\n",
       "      <th>target_chembl_id</th>\n",
       "      <th>target_organism</th>\n",
       "      <th>type</th>\n",
       "    </tr>\n",
       "  </thead>\n",
       "  <tbody>\n",
       "    <tr>\n",
       "      <th>0</th>\n",
       "      <td>146141</td>\n",
       "      <td>CHEMBL806527</td>\n",
       "      <td>Radioligand displacement assay for the binding...</td>\n",
       "      <td>B</td>\n",
       "      <td>CHEMBL13462</td>\n",
       "      <td>=</td>\n",
       "      <td>nM</td>\n",
       "      <td>4000.0</td>\n",
       "      <td>CHEMBL1862</td>\n",
       "      <td>Homo sapiens</td>\n",
       "      <td>IC50</td>\n",
       "    </tr>\n",
       "    <tr>\n",
       "      <th>1</th>\n",
       "      <td>148569</td>\n",
       "      <td>CHEMBL806527</td>\n",
       "      <td>Radioligand displacement assay for the binding...</td>\n",
       "      <td>B</td>\n",
       "      <td>CHEMBL414123</td>\n",
       "      <td>=</td>\n",
       "      <td>nM</td>\n",
       "      <td>15000.0</td>\n",
       "      <td>CHEMBL1862</td>\n",
       "      <td>Homo sapiens</td>\n",
       "      <td>IC50</td>\n",
       "    </tr>\n",
       "    <tr>\n",
       "      <th>2</th>\n",
       "      <td>152122</td>\n",
       "      <td>CHEMBL806527</td>\n",
       "      <td>Radioligand displacement assay for the binding...</td>\n",
       "      <td>B</td>\n",
       "      <td>CHEMBL413629</td>\n",
       "      <td>=</td>\n",
       "      <td>nM</td>\n",
       "      <td>1800.0</td>\n",
       "      <td>CHEMBL1862</td>\n",
       "      <td>Homo sapiens</td>\n",
       "      <td>IC50</td>\n",
       "    </tr>\n",
       "    <tr>\n",
       "      <th>3</th>\n",
       "      <td>154553</td>\n",
       "      <td>CHEMBL806527</td>\n",
       "      <td>Radioligand displacement assay for the binding...</td>\n",
       "      <td>B</td>\n",
       "      <td>CHEMBL301845</td>\n",
       "      <td>=</td>\n",
       "      <td>nM</td>\n",
       "      <td>15000.0</td>\n",
       "      <td>CHEMBL1862</td>\n",
       "      <td>Homo sapiens</td>\n",
       "      <td>IC50</td>\n",
       "    </tr>\n",
       "    <tr>\n",
       "      <th>4</th>\n",
       "      <td>159483</td>\n",
       "      <td>CHEMBL806527</td>\n",
       "      <td>Radioligand displacement assay for the binding...</td>\n",
       "      <td>B</td>\n",
       "      <td>CHEMBL58478</td>\n",
       "      <td>=</td>\n",
       "      <td>nM</td>\n",
       "      <td>1700.0</td>\n",
       "      <td>CHEMBL1862</td>\n",
       "      <td>Homo sapiens</td>\n",
       "      <td>IC50</td>\n",
       "    </tr>\n",
       "  </tbody>\n",
       "</table>\n",
       "</div>"
      ],
      "text/plain": [
       "   activity_id assay_chembl_id  \\\n",
       "0       146141    CHEMBL806527   \n",
       "1       148569    CHEMBL806527   \n",
       "2       152122    CHEMBL806527   \n",
       "3       154553    CHEMBL806527   \n",
       "4       159483    CHEMBL806527   \n",
       "\n",
       "                                   assay_description assay_type  \\\n",
       "0  Radioligand displacement assay for the binding...          B   \n",
       "1  Radioligand displacement assay for the binding...          B   \n",
       "2  Radioligand displacement assay for the binding...          B   \n",
       "3  Radioligand displacement assay for the binding...          B   \n",
       "4  Radioligand displacement assay for the binding...          B   \n",
       "\n",
       "  molecule_chembl_id relation units     IC50 target_chembl_id target_organism  \\\n",
       "0        CHEMBL13462        =    nM   4000.0       CHEMBL1862    Homo sapiens   \n",
       "1       CHEMBL414123        =    nM  15000.0       CHEMBL1862    Homo sapiens   \n",
       "2       CHEMBL413629        =    nM   1800.0       CHEMBL1862    Homo sapiens   \n",
       "3       CHEMBL301845        =    nM  15000.0       CHEMBL1862    Homo sapiens   \n",
       "4        CHEMBL58478        =    nM   1700.0       CHEMBL1862    Homo sapiens   \n",
       "\n",
       "   type  \n",
       "0  IC50  \n",
       "1  IC50  \n",
       "2  IC50  \n",
       "3  IC50  \n",
       "4  IC50  "
      ]
     },
     "execution_count": 14,
     "metadata": {},
     "output_type": "execute_result"
    }
   ],
   "source": [
    "bioactivities_df.head()"
   ]
  },
  {
   "cell_type": "code",
   "execution_count": 16,
   "id": "b52d9983-90f6-410b-8c7f-6a877aa946fa",
   "metadata": {},
   "outputs": [
    {
     "name": "stdout",
     "output_type": "stream",
     "text": [
      "DataFrame shape: (1420, 11)\n"
     ]
    }
   ],
   "source": [
    "# This yields 1420 molecules and IC50 values for the target\n",
    "print(f\"DataFrame shape: {bioactivities_df.shape}\")"
   ]
  },
  {
   "cell_type": "code",
   "execution_count": 17,
   "id": "8c2377f8-9074-44de-a923-070c75831064",
   "metadata": {},
   "outputs": [],
   "source": [
    "# Make a filter to get ID and structures only from ChEMBL\n",
    "compounds_provider = compounds_api.filter(\n",
    "    molecule_chembl_id__in=list(bioactivities_df[\"molecule_chembl_id\"])\n",
    ").only(\"molecule_chembl_id\", \"molecule_structures\")"
   ]
  },
  {
   "cell_type": "code",
   "execution_count": 18,
   "id": "b0fd1a9f-b008-4424-84c9-6c83bd83ec7c",
   "metadata": {},
   "outputs": [
    {
     "data": {
      "application/vnd.jupyter.widget-view+json": {
       "model_id": "efabbb6ec2a941779271e6afb8aea979",
       "version_major": 2,
       "version_minor": 0
      },
      "text/plain": [
       "  0%|          | 0/1420 [00:00<?, ?it/s]"
      ]
     },
     "metadata": {},
     "output_type": "display_data"
    }
   ],
   "source": [
    "# Download compounds, display progress bar\n",
    "compounds = list(tqdm(compounds_provider))"
   ]
  },
  {
   "cell_type": "code",
   "execution_count": 20,
   "id": "06d5c1ce-059d-4871-aa23-17ba9060f1cb",
   "metadata": {},
   "outputs": [
    {
     "data": {
      "text/html": [
       "<div>\n",
       "<style scoped>\n",
       "    .dataframe tbody tr th:only-of-type {\n",
       "        vertical-align: middle;\n",
       "    }\n",
       "\n",
       "    .dataframe tbody tr th {\n",
       "        vertical-align: top;\n",
       "    }\n",
       "\n",
       "    .dataframe thead th {\n",
       "        text-align: right;\n",
       "    }\n",
       "</style>\n",
       "<table border=\"1\" class=\"dataframe\">\n",
       "  <thead>\n",
       "    <tr style=\"text-align: right;\">\n",
       "      <th></th>\n",
       "      <th>molecule_chembl_id</th>\n",
       "      <th>molecule_structures</th>\n",
       "    </tr>\n",
       "  </thead>\n",
       "  <tbody>\n",
       "    <tr>\n",
       "      <th>0</th>\n",
       "      <td>CHEMBL44</td>\n",
       "      <td>{'canonical_smiles': 'O=c1c(-c2ccc(O)cc2)coc2c...</td>\n",
       "    </tr>\n",
       "    <tr>\n",
       "      <th>1</th>\n",
       "      <td>CHEMBL9514</td>\n",
       "      <td>{'canonical_smiles': 'COC(=O)Nc1nc2ccc(C(=O)c3...</td>\n",
       "    </tr>\n",
       "    <tr>\n",
       "      <th>2</th>\n",
       "      <td>CHEMBL13462</td>\n",
       "      <td>{'canonical_smiles': 'CC(=O)N[C@@H](Cc1ccc(OP(...</td>\n",
       "    </tr>\n",
       "    <tr>\n",
       "      <th>3</th>\n",
       "      <td>CHEMBL276711</td>\n",
       "      <td>{'canonical_smiles': 'Cc1cc(C)c(/C=C2\\C(=O)Nc3...</td>\n",
       "    </tr>\n",
       "    <tr>\n",
       "      <th>4</th>\n",
       "      <td>CHEMBL535</td>\n",
       "      <td>{'canonical_smiles': 'CCN(CC)CCNC(=O)c1c(C)[nH...</td>\n",
       "    </tr>\n",
       "  </tbody>\n",
       "</table>\n",
       "</div>"
      ],
      "text/plain": [
       "  molecule_chembl_id                                molecule_structures\n",
       "0           CHEMBL44  {'canonical_smiles': 'O=c1c(-c2ccc(O)cc2)coc2c...\n",
       "1         CHEMBL9514  {'canonical_smiles': 'COC(=O)Nc1nc2ccc(C(=O)c3...\n",
       "2        CHEMBL13462  {'canonical_smiles': 'CC(=O)N[C@@H](Cc1ccc(OP(...\n",
       "3       CHEMBL276711  {'canonical_smiles': 'Cc1cc(C)c(/C=C2\\C(=O)Nc3...\n",
       "4          CHEMBL535  {'canonical_smiles': 'CCN(CC)CCNC(=O)c1c(C)[nH..."
      ]
     },
     "execution_count": 20,
     "metadata": {},
     "output_type": "execute_result"
    }
   ],
   "source": [
    "# Have a look at the compounds\n",
    "compounds_df = pd.DataFrame.from_records(\n",
    "    compounds,\n",
    ")\n",
    "compounds_df.head()"
   ]
  },
  {
   "cell_type": "code",
   "execution_count": 21,
   "id": "7be80b7c-5aef-4d75-a97e-1035d7bbda1d",
   "metadata": {},
   "outputs": [],
   "source": [
    "# As before, clean the data\n",
    "compounds_df.dropna(axis=0, how=\"any\", inplace=True)  # Drop rows with no structure\n",
    "compounds_df.drop_duplicates(\"molecule_chembl_id\", keep=\"first\", inplace=True)  # Remove duplicates"
   ]
  },
  {
   "cell_type": "code",
   "execution_count": 22,
   "id": "af3d40cc-6c1c-44b2-9a7c-0db3fc3d73ca",
   "metadata": {},
   "outputs": [
    {
     "data": {
      "text/plain": [
       "dict_keys(['canonical_smiles', 'molfile', 'standard_inchi', 'standard_inchi_key'])"
      ]
     },
     "execution_count": 22,
     "metadata": {},
     "output_type": "execute_result"
    }
   ],
   "source": [
    "# What representations do we have?\n",
    "compounds_df.iloc[0].molecule_structures.keys()"
   ]
  },
  {
   "cell_type": "code",
   "execution_count": 23,
   "id": "3defa6b5-7d2c-4fb5-b9ae-67c72295f37d",
   "metadata": {},
   "outputs": [
    {
     "name": "stdout",
     "output_type": "stream",
     "text": [
      "DataFrame shape: (1418, 2)\n"
     ]
    }
   ],
   "source": [
    "# We want to keep only those of the form 'canonical_smiles'\n",
    "canonical_smiles = []\n",
    "\n",
    "for i, compounds in compounds_df.iterrows():\n",
    "    try:\n",
    "        canonical_smiles.append(compounds[\"molecule_structures\"][\"canonical_smiles\"])\n",
    "    except KeyError:\n",
    "        canonical_smiles.append(None)\n",
    "\n",
    "compounds_df[\"smiles\"] = canonical_smiles\n",
    "compounds_df.drop(\"molecule_structures\", axis=1, inplace=True)\n",
    "print(f\"DataFrame shape: {compounds_df.shape}\")"
   ]
  },
  {
   "cell_type": "code",
   "execution_count": 24,
   "id": "8907b658-6442-421a-a570-c832ccc8d9e1",
   "metadata": {},
   "outputs": [
    {
     "name": "stdout",
     "output_type": "stream",
     "text": [
      "DataFrame shape: (1418, 2)\n"
     ]
    }
   ],
   "source": [
    "# Make sure we got them all\n",
    "compounds_df.dropna(axis=0, how=\"any\", inplace=True)\n",
    "print(f\"DataFrame shape: {compounds_df.shape}\")"
   ]
  },
  {
   "cell_type": "code",
   "execution_count": 36,
   "id": "9c68d3d4-6656-40ba-9540-8fa9bee60345",
   "metadata": {},
   "outputs": [
    {
     "name": "stdout",
     "output_type": "stream",
     "text": [
      "Dataset with 1418 entries.\n"
     ]
    }
   ],
   "source": [
    "# Join bioactivites and compounds on the 'molecule_chembl_id'; keep IC50, ID, units\n",
    "output_df = pd.merge(\n",
    "    bioactivities_df[[\"molecule_chembl_id\", \"IC50\", \"units\"]],\n",
    "    compounds_df,\n",
    "    on=\"molecule_chembl_id\",\n",
    ")\n",
    "\n",
    "# Reset row indices\n",
    "output_df.reset_index(drop=True, inplace=True)\n",
    "\n",
    "print(f\"Dataset with {output_df.shape[0]} entries.\")  # Our output dataset has 1418 entries"
   ]
  },
  {
   "cell_type": "code",
   "execution_count": 37,
   "id": "d9a050fe-6efa-4f75-a2cd-1afbbb9de917",
   "metadata": {},
   "outputs": [
    {
     "name": "stdout",
     "output_type": "stream",
     "text": [
      "molecule_chembl_id     object\n",
      "IC50                  float64\n",
      "units                  object\n",
      "smiles                 object\n",
      "dtype: object\n"
     ]
    },
    {
     "data": {
      "text/html": [
       "<div>\n",
       "<style scoped>\n",
       "    .dataframe tbody tr th:only-of-type {\n",
       "        vertical-align: middle;\n",
       "    }\n",
       "\n",
       "    .dataframe tbody tr th {\n",
       "        vertical-align: top;\n",
       "    }\n",
       "\n",
       "    .dataframe thead th {\n",
       "        text-align: right;\n",
       "    }\n",
       "</style>\n",
       "<table border=\"1\" class=\"dataframe\">\n",
       "  <thead>\n",
       "    <tr style=\"text-align: right;\">\n",
       "      <th></th>\n",
       "      <th>molecule_chembl_id</th>\n",
       "      <th>IC50</th>\n",
       "      <th>units</th>\n",
       "      <th>smiles</th>\n",
       "    </tr>\n",
       "  </thead>\n",
       "  <tbody>\n",
       "    <tr>\n",
       "      <th>0</th>\n",
       "      <td>CHEMBL13462</td>\n",
       "      <td>4000.0</td>\n",
       "      <td>nM</td>\n",
       "      <td>CC(=O)N[C@@H](Cc1ccc(OP(=O)(O)O)cc1)C(=O)N[C@@...</td>\n",
       "    </tr>\n",
       "    <tr>\n",
       "      <th>1</th>\n",
       "      <td>CHEMBL414123</td>\n",
       "      <td>15000.0</td>\n",
       "      <td>nM</td>\n",
       "      <td>CC[C@H](C)[C@H](NC(=O)[C@@H]1CCCN1C(=O)[C@@H](...</td>\n",
       "    </tr>\n",
       "    <tr>\n",
       "      <th>2</th>\n",
       "      <td>CHEMBL413629</td>\n",
       "      <td>1800.0</td>\n",
       "      <td>nM</td>\n",
       "      <td>CC[C@H](C)[C@H](NC(=O)[C@@H]1CCCN1C(=O)[C@@H](...</td>\n",
       "    </tr>\n",
       "    <tr>\n",
       "      <th>3</th>\n",
       "      <td>CHEMBL301845</td>\n",
       "      <td>15000.0</td>\n",
       "      <td>nM</td>\n",
       "      <td>CC[C@H](NC(=O)[C@H](Cc1ccc(OP(=O)(O)O)cc1)NC(C...</td>\n",
       "    </tr>\n",
       "    <tr>\n",
       "      <th>4</th>\n",
       "      <td>CHEMBL58478</td>\n",
       "      <td>1700.0</td>\n",
       "      <td>nM</td>\n",
       "      <td>CC(=O)N[C@@H](Cc1ccc(C(F)(F)P(=O)(O)O)cc1)C(=O...</td>\n",
       "    </tr>\n",
       "    <tr>\n",
       "      <th>5</th>\n",
       "      <td>CHEMBL298813</td>\n",
       "      <td>1600.0</td>\n",
       "      <td>nM</td>\n",
       "      <td>CC[C@H](NC(=O)[C@H](Cc1ccc(C(F)(F)P(=O)(O)O)cc...</td>\n",
       "    </tr>\n",
       "    <tr>\n",
       "      <th>6</th>\n",
       "      <td>CHEMBL293803</td>\n",
       "      <td>4900.0</td>\n",
       "      <td>nM</td>\n",
       "      <td>CC(=O)N[C@@H](Cc1ccc(OP(=O)(O)O)cc1)C(=O)N[C@@...</td>\n",
       "    </tr>\n",
       "    <tr>\n",
       "      <th>7</th>\n",
       "      <td>CHEMBL294692</td>\n",
       "      <td>1200.0</td>\n",
       "      <td>nM</td>\n",
       "      <td>CC(=O)N[C@@H](Cc1ccc(C(F)(F)P(=O)(O)O)cc1)C(=O...</td>\n",
       "    </tr>\n",
       "    <tr>\n",
       "      <th>8</th>\n",
       "      <td>CHEMBL294420</td>\n",
       "      <td>1200.0</td>\n",
       "      <td>nM</td>\n",
       "      <td>CC[C@H](C)[C@H](NC(=O)[C@H](CCC(=O)O)NC(=O)[C@...</td>\n",
       "    </tr>\n",
       "    <tr>\n",
       "      <th>9</th>\n",
       "      <td>CHEMBL299477</td>\n",
       "      <td>7900.0</td>\n",
       "      <td>nM</td>\n",
       "      <td>CC[C@H](C)[C@H](NC(=O)[C@H](CCC(=O)O)NC(=O)[C@...</td>\n",
       "    </tr>\n",
       "  </tbody>\n",
       "</table>\n",
       "</div>"
      ],
      "text/plain": [
       "  molecule_chembl_id     IC50 units  \\\n",
       "0        CHEMBL13462   4000.0    nM   \n",
       "1       CHEMBL414123  15000.0    nM   \n",
       "2       CHEMBL413629   1800.0    nM   \n",
       "3       CHEMBL301845  15000.0    nM   \n",
       "4        CHEMBL58478   1700.0    nM   \n",
       "5       CHEMBL298813   1600.0    nM   \n",
       "6       CHEMBL293803   4900.0    nM   \n",
       "7       CHEMBL294692   1200.0    nM   \n",
       "8       CHEMBL294420   1200.0    nM   \n",
       "9       CHEMBL299477   7900.0    nM   \n",
       "\n",
       "                                              smiles  \n",
       "0  CC(=O)N[C@@H](Cc1ccc(OP(=O)(O)O)cc1)C(=O)N[C@@...  \n",
       "1  CC[C@H](C)[C@H](NC(=O)[C@@H]1CCCN1C(=O)[C@@H](...  \n",
       "2  CC[C@H](C)[C@H](NC(=O)[C@@H]1CCCN1C(=O)[C@@H](...  \n",
       "3  CC[C@H](NC(=O)[C@H](Cc1ccc(OP(=O)(O)O)cc1)NC(C...  \n",
       "4  CC(=O)N[C@@H](Cc1ccc(C(F)(F)P(=O)(O)O)cc1)C(=O...  \n",
       "5  CC[C@H](NC(=O)[C@H](Cc1ccc(C(F)(F)P(=O)(O)O)cc...  \n",
       "6  CC(=O)N[C@@H](Cc1ccc(OP(=O)(O)O)cc1)C(=O)N[C@@...  \n",
       "7  CC(=O)N[C@@H](Cc1ccc(C(F)(F)P(=O)(O)O)cc1)C(=O...  \n",
       "8  CC[C@H](C)[C@H](NC(=O)[C@H](CCC(=O)O)NC(=O)[C@...  \n",
       "9  CC[C@H](C)[C@H](NC(=O)[C@H](CCC(=O)O)NC(=O)[C@...  "
      ]
     },
     "execution_count": 37,
     "metadata": {},
     "output_type": "execute_result"
    }
   ],
   "source": [
    "# Have a look at data types and the output\n",
    "print(output_df.dtypes)\n",
    "output_df.head(10)"
   ]
  },
  {
   "cell_type": "code",
   "execution_count": 38,
   "id": "c7252e05-cd7e-4253-8451-f1ad8429425a",
   "metadata": {},
   "outputs": [],
   "source": [
    "# Function for getting pIC50 values from IC50 values, easier to compare log values\n",
    "def convert_ic50_to_pic50(IC50_value):\n",
    "    pIC50_value = 9 - math.log10(IC50_value)  # Subtract from 9 due to units being in nM\n",
    "    return pIC50_value"
   ]
  },
  {
   "cell_type": "code",
   "execution_count": 39,
   "id": "69c0134f-184e-4356-9282-181822db7c73",
   "metadata": {},
   "outputs": [],
   "source": [
    "# Previous experience (mine) shows that we get a value expception when we take the base-10 log\n",
    "# of the IC50 values, interestingly there are 3 cases so we will drop them as follows\n",
    "output_df = output_df[output_df['IC50'] > 0.0].copy(deep=True)"
   ]
  },
  {
   "cell_type": "code",
   "execution_count": 40,
   "id": "5e4e45ea-2baa-4984-bd55-ca285e45e267",
   "metadata": {},
   "outputs": [],
   "source": [
    "# Apply conversion to each row of the compounds DataFrame\n",
    "output_df[\"pIC50\"] = output_df.apply(lambda x: convert_ic50_to_pic50(x.IC50), axis=1)"
   ]
  },
  {
   "cell_type": "code",
   "execution_count": 41,
   "id": "49e076fb-9711-46e0-bb2f-ecfb6ede94c1",
   "metadata": {},
   "outputs": [
    {
     "data": {
      "text/html": [
       "<div>\n",
       "<style scoped>\n",
       "    .dataframe tbody tr th:only-of-type {\n",
       "        vertical-align: middle;\n",
       "    }\n",
       "\n",
       "    .dataframe tbody tr th {\n",
       "        vertical-align: top;\n",
       "    }\n",
       "\n",
       "    .dataframe thead th {\n",
       "        text-align: right;\n",
       "    }\n",
       "</style>\n",
       "<table border=\"1\" class=\"dataframe\">\n",
       "  <thead>\n",
       "    <tr style=\"text-align: right;\">\n",
       "      <th></th>\n",
       "      <th>molecule_chembl_id</th>\n",
       "      <th>IC50</th>\n",
       "      <th>units</th>\n",
       "      <th>smiles</th>\n",
       "      <th>pIC50</th>\n",
       "    </tr>\n",
       "  </thead>\n",
       "  <tbody>\n",
       "    <tr>\n",
       "      <th>0</th>\n",
       "      <td>CHEMBL13462</td>\n",
       "      <td>4000.0</td>\n",
       "      <td>nM</td>\n",
       "      <td>CC(=O)N[C@@H](Cc1ccc(OP(=O)(O)O)cc1)C(=O)N[C@@...</td>\n",
       "      <td>5.397940</td>\n",
       "    </tr>\n",
       "    <tr>\n",
       "      <th>1</th>\n",
       "      <td>CHEMBL414123</td>\n",
       "      <td>15000.0</td>\n",
       "      <td>nM</td>\n",
       "      <td>CC[C@H](C)[C@H](NC(=O)[C@@H]1CCCN1C(=O)[C@@H](...</td>\n",
       "      <td>4.823909</td>\n",
       "    </tr>\n",
       "    <tr>\n",
       "      <th>2</th>\n",
       "      <td>CHEMBL413629</td>\n",
       "      <td>1800.0</td>\n",
       "      <td>nM</td>\n",
       "      <td>CC[C@H](C)[C@H](NC(=O)[C@@H]1CCCN1C(=O)[C@@H](...</td>\n",
       "      <td>5.744727</td>\n",
       "    </tr>\n",
       "    <tr>\n",
       "      <th>3</th>\n",
       "      <td>CHEMBL301845</td>\n",
       "      <td>15000.0</td>\n",
       "      <td>nM</td>\n",
       "      <td>CC[C@H](NC(=O)[C@H](Cc1ccc(OP(=O)(O)O)cc1)NC(C...</td>\n",
       "      <td>4.823909</td>\n",
       "    </tr>\n",
       "    <tr>\n",
       "      <th>4</th>\n",
       "      <td>CHEMBL58478</td>\n",
       "      <td>1700.0</td>\n",
       "      <td>nM</td>\n",
       "      <td>CC(=O)N[C@@H](Cc1ccc(C(F)(F)P(=O)(O)O)cc1)C(=O...</td>\n",
       "      <td>5.769551</td>\n",
       "    </tr>\n",
       "  </tbody>\n",
       "</table>\n",
       "</div>"
      ],
      "text/plain": [
       "  molecule_chembl_id     IC50 units  \\\n",
       "0        CHEMBL13462   4000.0    nM   \n",
       "1       CHEMBL414123  15000.0    nM   \n",
       "2       CHEMBL413629   1800.0    nM   \n",
       "3       CHEMBL301845  15000.0    nM   \n",
       "4        CHEMBL58478   1700.0    nM   \n",
       "\n",
       "                                              smiles     pIC50  \n",
       "0  CC(=O)N[C@@H](Cc1ccc(OP(=O)(O)O)cc1)C(=O)N[C@@...  5.397940  \n",
       "1  CC[C@H](C)[C@H](NC(=O)[C@@H]1CCCN1C(=O)[C@@H](...  4.823909  \n",
       "2  CC[C@H](C)[C@H](NC(=O)[C@@H]1CCCN1C(=O)[C@@H](...  5.744727  \n",
       "3  CC[C@H](NC(=O)[C@H](Cc1ccc(OP(=O)(O)O)cc1)NC(C...  4.823909  \n",
       "4  CC(=O)N[C@@H](Cc1ccc(C(F)(F)P(=O)(O)O)cc1)C(=O...  5.769551  "
      ]
     },
     "execution_count": 41,
     "metadata": {},
     "output_type": "execute_result"
    }
   ],
   "source": [
    "# Have a look\n",
    "output_df.head()"
   ]
  },
  {
   "cell_type": "code",
   "execution_count": 42,
   "id": "1d84a206-f668-4941-9219-eb7cdd31de2c",
   "metadata": {},
   "outputs": [
    {
     "data": {
      "text/plain": [
       "array([[<AxesSubplot: title={'center': 'pIC50'}>]], dtype=object)"
      ]
     },
     "execution_count": 42,
     "metadata": {},
     "output_type": "execute_result"
    },
    {
     "data": {
      "image/png": "[encoded data removed]",
      "text/plain": [
       "<Figure size 640x480 with 1 Axes>"
      ]
     },
     "metadata": {},
     "output_type": "display_data"
    }
   ],
   "source": [
    "# Look at the distribution of pIC50 values\n",
    "output_df.hist(column=\"pIC50\")  # Looks like two normal distributions overlapping"
   ]
  },
  {
   "cell_type": "code",
   "execution_count": 43,
   "id": "eb98b73c-c1dd-444c-a3d6-aeea9fd3f19b",
   "metadata": {},
   "outputs": [],
   "source": [
    "# Bring in RDKit and look at structures with highest pIC50 values\n",
    "\n",
    "# Add molecule column\n",
    "PandasTools.AddMoleculeColumnToFrame(output_df, smilesCol=\"smiles\")\n",
    "\n",
    "# Sort molecules by pIC50\n",
    "output_df.sort_values(by=\"pIC50\", ascending=False, inplace=True)\n",
    "\n",
    "# Reset index\n",
    "output_df.reset_index(drop=True, inplace=True)"
   ]
  },
  {
   "cell_type": "code",
   "execution_count": 45,
   "id": "3f21f9ba-bc1f-4967-add0-6d5b65c7cb8e",
   "metadata": {},
   "outputs": [
    {
     "data": {
      "text/html": [
       "<div>\n",
       "<style scoped>\n",
       "    .dataframe tbody tr th:only-of-type {\n",
       "        vertical-align: middle;\n",
       "    }\n",
       "\n",
       "    .dataframe tbody tr th {\n",
       "        vertical-align: top;\n",
       "    }\n",
       "\n",
       "    .dataframe thead th {\n",
       "        text-align: right;\n",
       "    }\n",
       "</style>\n",
       "<table border=\"1\" class=\"dataframe\">\n",
       "  <thead>\n",
       "    <tr style=\"text-align: right;\">\n",
       "      <th></th>\n",
       "      <th>molecule_chembl_id</th>\n",
       "      <th>IC50</th>\n",
       "      <th>units</th>\n",
       "      <th>pIC50</th>\n",
       "      <th>ROMol</th>\n",
       "    </tr>\n",
       "  </thead>\n",
       "  <tbody>\n",
       "    <tr>\n",
       "      <th>0</th>\n",
       "      <td>CHEMBL2347725</td>\n",
       "      <td>0.015</td>\n",
       "      <td>nM</td>\n",
       "      <td>10.823909</td>\n",
       "      <td style=\"text-align: center;\"><img data-content=\"rdkit/molecule\" src=\"data:image/png;base64,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\" alt=\"Mol\"/></td>\n",
       "    </tr>\n",
       "    <tr>\n",
       "      <th>1</th>\n",
       "      <td>CHEMBL2347722</td>\n",
       "      <td>0.021</td>\n",
       "      <td>nM</td>\n",
       "      <td>10.677781</td>\n",
       "      <td style=\"text-align: center;\"><img data-content=\"rdkit/molecule\" src=\"data:image/png;base64,iVBORw0KGgoAAAANSUhEUgAAAMgAAADICAIAAAAiOjnJAAAABmJLR0QA/wD/AP+gvaeTAAAWAElEQVR4nO3de1yUVf4H8O9cuMwoyEXUEFFAw1uuhGGru6g5v0KBpTR0De/SJNqSisVvjSC8NWkXFlmVVJJeJRfNEspUXDPFzGUAryhy9QIqqCnXgWH47h+HF0sKcz8r6ff9h695Dc9zzhn4zHnOc57zPAoQEQgxN+GjbgB5PFGwCBcULMIFBYtwQcEiXFCwCBcULMIFBYtwQcEiXFCwCBcULMIFBYtwQcEiXFCwCBcULMIFBYtwQcEiXFCwCBcULMIFBYtwQcEiXFCwCBcULMIFBYtwQcEiXFCwCBcULMIFBYtwQcEiXFCwCBcULMIFBYtwQcEiXFCwCBcULMIFBYtwQcEiXFCwCBcULMIFBYtwQcEiXFCwCBcULMIFBYtwQcEiXFCwCBcULMIFBYtwQcEiXFCwCBcULMIFBYtwQcEiXFCwCBcULMIFBYtwQcEiXFCwCBcULMIFBYtwQcEiXFCwCBcULMIFBYtwQcEiXFCwCBcULMIFBYtwQcEiXFCwCBcULMIFBcsk0dFQVwcAsGzZo25KNyN+1A34fWtpgYICkEqhtvZRN6WbeUKD1dJyp77+pEQy2tLSxcSiysrA2hpUKrO06/HxhB4Kr11bJhb3aW2tMb2oqVMhKAjs7U0qJCGh7cWmTaa3qFt4QoNlZTWwpuaAWNzbxHImToSaGgAAmcykcgoLH3zxe2fwofDWrVuXL19OSUnx8PBwd3dn//bs2ZNH43hoaioWi/s4O69tbr5SURFlaekCIOjX7x2BwMqI0nJzYfdu2LYNjh6Fl182vlVqNaxfDwBw/77xhXQrhgWrsbHRz8+vtra2pKSk4/v29vbuDxk0aJBQ2L16xLq6EyUlr0ilz9rY/J9Gc9vCov+NG+sQm+/e3eXqutnGZpJBpd28CQAwdix8+62pDbOwgFWrAADefNPUoroLNMSCBQsAwNXVVaFQhIeH+/v7Dxs2zMqq8++6VCrdtm3b/fv3DaqCn9u3k3JzLZVKKC4O0mjq2Zu1tccuXBihVIJSCSUlwWr1LZ3lqFSYno4yGdrYYEwMVldjWBjK5Xj9OjY0GNm2r79GjabtxePBgGAlJiYCgEQiyc/Pf+BHd+/eVSqV6enpCoVCLpfLZDJ3d3eBQODk5LR48WKzNtg4rRUVMSw9V6+GI2p+87PWpsrKNXl5EqUSMjL8PvvsM41G02kpxcX49tvYuzcCIAD26oXh4Xj7NpaUYFAQPvssjh6NRUXGtG/ZMoyPb3vxeNA3WKdPn5ZIJACwc+fO0NDQlJQUnbucOnVKIBD07Nnz0XZa9fX1a9YszckR5eZaVFd/1tVmKlVxQcEMJ6ceADBu3LgzZ860/0ij0WRlZQUHB0+adJRFytsbExOxru6/u5eU4JAhCIB2drhvn8GNjIjA6Gi8cuUJC9bdu3fd3d0BYOnSpfHx8QBgY2Nz65aOo8adO3cmTJgAAFu2bDFHU9s0NTXpv3FFRcWYMWMA4K23/GpqDuvcPiMjY8CAAQAgFovDw8MLCwtjY2NdXNrmugYNGrdgAf77353vW1ODwcEIgAIBhodjc7Pu5hUWYmQkvvACRkRgTQ3+7W+4bBmq1fp/vu5Ld7A0Gs3UqVMBwMfH5/jx45aWlgCQlpamZZfi4mIvL6/Ro0enpqYCwKhRo8zS1qqqqvj4eKlUam9v7+3tHRwcHBkZmZiYmJWVVVJS0tra+sD2Z8+edXV1BQB3d/eCggI9a7l3796bb74pEokAwNramkXK09Pz008/vXv3rvZ9W1txwwYUi/Gpp64FBc3o6rvX1ISpqThxYtshFQDnzUNETE3FkBB88UV9c9md6Q5WbGwsADg4OCiVSvbdXb58ufZdmpqa+vTpAwDHjh3r27cvAJw4ccLEhra0tEyePBkAujrTtLW19fLymj59+jvvvLN169YNGzbY2tqy45rOzrWjmpoaRMzJyZFIJPb29oGBgf/6178eTq0WR4+ir+/LANC/f/8HPnh5efmqVatkskqWJxsbXLwYz5zBa9faNkhLQ7EYAXDSJDSk1W3y8/OTk5Ozs7PVj7rf0xGsw4cPi0QioVC4f//+F198EQCef/55fQ5GkZGRADBv3ry///3vADB79mwTG7pq1SoA6NOnz/Xr1+/cucPOFWJiYoKDg729ve3s7B7IGQv0zJkzGxsb9a+lqalJKpWOHDmysLAQAOzt7bsayGtXVVXFvgZisVihULSP0sRiMQCMGfPe0KGoUGCnPeDx4+jsjADYvz9mZ+tVnUqlSk9Pl8lkAGBlZWVpaenr61tZWWlEy81FW7CuXr3q5OQEAKtXr+74d9Wn3PLycpFIJJFITp8+LRKJrKysqqqqjG5lZmamUCgUiUSHDh1CxEOHDllZWbm7u8tkMrlcrlAo0tPTs7Ozf/7555SUlLVr186dO9fKykogEFy8eNGgio4fPw4AI0eOTE5OBoC//OUvRrdZrVZHREQIBAIAaM+9lZVVSEhIdraO/vvGDZwwAQHQyeluQkKXJxyIePny5YiICEdHR1a+nZ3djBkz+vXrBwDOzs7Hjx83uv0m6jJYzc3N48ePBwB/f/+MjIyOf1c9TZkyBQA+/vhjf39/ANi4caNxTSwvL2e/OIVCwd7Zvn17p0dDCwsLDw+PvXv3IqJcLgeAZQaeZa1du5adoyxatAgAPvroI+PazBw8eNDJyalXr14eHh4ODg7h4eH6f7vUaly5En18Alm/W1tb2/GnrAsMCAhgwQUAb2/vxMTEuro6RKyqqmK9F+svDTqOM3V1defPn9c5ptSiy2CxodWgQYOKi4vt7e0B4IMPPjCo6H379gGAh4dHZmYme2HEYaWxsdHb2xsAAgMDO/6COp05YyPuzMxMRDx9+jT7BtfX1+tf3YIF/y+VStPS0gYPHgwAOTk5hja4o4SEBAAIDQ0NCQkBgM2bNxtawr59+1hv5+npee7cOUSsrKxUKBQDBw5kebK2tg4ODs5+6JDZ0tISExMjFArHj98cFIS//qpvjZcuXYqMjHRwcPDw8LC3tzcul6glWHFxcTY2Nl988QUipqSkhISEGFpBS0sL+/yHDh1yc3MDgIMHDxravoULFwLA4MGDf9Xjd6NSqS5evNg+bTZ27FgASEpK0rMutRp79kRLy+b8/IaJEz8YPz7IxCHw8uXLAeDDDz+cNGmScR8fEQsLC5955hkA6NGjx7hx49goDQCGDh0aFxen/deyb19W376tAOjpiefPa6ulqQlTU/f4+vq2d/9sihsApk+fbsRMZJfBWrlyJQAsXLjQ0BI7WrNmDQBMmzZt3bp1APDyyy8btPu2bdvYlzI3N9eI2nfu3AkAzz33nJ7bnzqF7G+QkoIA6OdnRJ2/ERQUBAC7d+9mX7Ai42blERsbGxcuXNijRw9bW1uRSBQQEJCVlaXn9/zyZRw1CgFQIsFOv2LXr6NCgS4u+Mc/fgoANjY2crn89OnTiJiZmckOVkOGDDl79qxBbe4yWMXFxUKhUCKR3Llzx6ASO7px44aFhYW1tXVRUZGVlZVIJCovL9dz3/a5fv27nAc0NDSwwZmeR7QNGxAAX38dw8IQANevN67a/xo5ciQAnDp1SiQSiUQig6Z2H1ZUVHTw4MEbN24YumN9Pc6Z0zZhtmkTsqFBbi5mZuLUqSgUtv0oKKhqy5YtbLalXXl5+XPPPQcAEolkx44d+leq7ayQzS/ExcUZ+kk6SktLYyeSL730kkAgcHZ29vf3Dw8Pj4uLy8zMLCgo6HQ6oH2u/4033jCl9hUrVgDAokWL9Nl4xw4cMwZ37cIRIxAATZ16a22NmzAh+OmnlUolALi5uZlWnKm2bMHXXkO5HNeuRUScOxcFAgRAa2ucMwd//rnLHRsbG0NDQ9nxUS6X6/n10BasvXv3smO5ccO3jqqrq52dnVkP9ACBQODi4uLr67tgwYI1a9bs2rXr5MmT7ERy9OjRDUYvGEDEDv2u/ic41dUoEKBEgqb1L4iVlQiAvXvjDz9oeve+ExJiWnHmERGBCgVeuIDLluGCBbhxI96+rdeOycnJ7M/n7e1dVlamc3ttwVKr1Wyq/ciRI/o1u3MajcbPz48Nd5RK5TfffPPRRx+FhYW99NJLgwcPtrCweDhtNjY2vXr10ucD6MROvP/xj3/ouf2RIygW4wsvmFxxdjYCoI8PJiQgAMrlJpdoBhERqFJhWJgxV7vz8vLYYcTR0fHAgQPaN9Yx8/7+++8DQHBwsMGt6CA6Opq1ptMBVktLS2lp6eHDhxMTEyMjI1999dXBgweLRKJnnnkGEW/dumXQof1hX3/9NQAMGzZMn37322+xuhpra/Grr0ypExERk5MRAGfNwuXLEQA//NDkEs0gKgoR8cABfOcdY3a/d+/eK6+8wo4zkZGRWuaPdASrsrLSwsJCLBZXVFQY0xDErKwsdlFI/5Pt+vp6djKSk5PDrszk5eUZVzsiqtXq/v37A8DRo0e7rhGvXsXCQly8GN9+G1tbUdflUD3ExCAARkVhUBAC4O7dJpdoBhkZGBqK339vfAkajSY2NlYoFAoEAi0z+zqWDj/11FOBgYEtLS1JSUnat+zU1atXZ82apdFoVq9ezU4F9CGVSmfPng0ASUlJf/3rXwFg69atRtTOiMViNvaMjIyMi4t77733lixZMnPmzMDAOaNHw4ABIJVCjx7g6goBAdCjB3h6wrFjRtfWAVu97e7e9sLDwxyFmurYMdi+Hc6cMb4EoVAYHR0dHx8vFAo3bNjQ5XY6E5qVlQUAAwYMaGlpQUSVSpWfn6/PjJlKpWJrofz9/Q2dcy8oKGCLBHNyctiLe/fuGVQCIi5ZsoRNHGdnZ0ul0gcGc2KxNTstYnM8Li44YQJGRKBGg3K5OXqs/HxMSsKSEly0CH180PD28/DKKwiAWhc96SUtLQ20Tkzqvpli8uTJTz/99OXLl/fv3x8YGHjhwgV2jUXnDRTh4eFKpXLgwIHJycmG3lUxbNgwX1/fn376SalUTpw48ccff/zyyy+XLl2qfwlffPHF5s2bra2tAwICli5d2tDQMHLkSJlM5uDg4Ojo6Ojo6OTk5ODQ6ugodHQEqbRtr8REEAohLAx++cWg9nbG1hby8+HaNXB1hS4ubv7vlZYCALi7m1oOu5vGQ0s3rE88P/74YwCYMmUKIp44cWLEiBGdThwAQHR0NNvlyy+/BABra2ulUmncdyIlJQUARo0alZ6eDnqPvpmzZ89KpVIA2LFjB7sBZMiQIUb0eSZZsQLZZOO6dVha+j+tumu2tgjQ+XIdg7DRhZarn3rd/jV//vyoqKiDBw9Onz59+PDhK1euZPcS1tXVlZWVlZSUlJaWsn/ZNcFz586xxQUJCQmsezPCtGnT+vbte/bs2X79+jk7O1+8eDE7O/vPf/6zzh1ra2tnzJjR0NAQGhqqVqs///xziUSSlpbWq1cv41pipMZGYLdb2tm13dX6qFVVqZubNXZ21ibetw3m6rEQMSUlZeLEiQ/sa2lp+cCiKKVSefPmzaFDh4I5FvexRYJz5syJiooCgFmzZuncpbW1dfr06QDwhz/84Zdffmm/AcTElhjju+9w40bMz8d587rJQuOTJ08CwAsvmHwRFPH9oKApY8aUdX3104Dbv/Ly8nbu3BkdHR0SEvL888+zxccPY5fER40aZeKkOSJeuXKFLRLMz88XiUSWlpY3b97UvotCoQAAe3v7vLw81n0uWbLExGYY7/x5zMjA3159e4TY+GTGjBmmFqRSoUiEIpGWL4wBd0J7eXl5eXl1fKepqamioqL0t9iNU7NmzepqHKY/V1dXPz+/77///vDhwwEBAcXFxdevX2czW506evRoVFSUQCDYsWPHu+++W1ZW5uPj88knn5jYDOONGAEjRjyy2h+i+/ilp/Jy0GjAzQ06u2rSxtTwPuTzzz8HAC8vL7OU1r5IUOfFvsbGRjYR+u6777ILBg4ODqXdZtTcHcydOxcAtm3bZmpB+/cjAMpkWjYxf7BUKhVbKW/i8ktGo9EMGjQIAFJTU3VufOTIkddee+3QoUNsrv+HH34wvQGPE7bW3MQrv4iImzYhAGpdeGL+YKGZFgm2W7duXe/evQHg4RsolErlAyO59htAYmNjzVL742T16tWOjo6zZ89uNvFkQo+rn1yCVVRUxKbL602fMEGsr6/PyMhwcHDo9FAuFovd3NxY2tavX89W8cpkMnadgHT0448/svuN//SnPxl98RcR8cAB/Oc/saREyyYCRDR1KNeZpMWLZZmZrm+/bcbHvv7666+lD7ly5YpGo2nfxtPTU6VS5ebmtt8RRTpSKpXBwcHl5eVOTk67du2SGfHAuNhYGD4cEOHSJYiO7nIz42Or3d69CIBDh6LJiwS1a2pqKiws3L9/f0JCwvLlyzMzM3VOSTzhqqur2YIAkUgUExNj2GVcdiWV+d+PsRAR1Wp0cUEANH2oSMyt/eYwAAgMDNR9B1T7M8E++QRDQ9vebH/RGW7BQsT330cANH06jvDx3Xfftd+E0/GxTb9RWIgrVqCDQ9s6kLFj8auvMCoKo6JQ66OseAarshItLNDCAk0ZJxKerly54uPjAwDW1tbbt29vf7+5uXnPnj0ymazJ3b0tUj4+mJTU9sxCtVrnw5Z4BgsRFQr89lu8dOkxeejT46ixsZGtGACAOXPmFBUVRUdHOzs7s3f2yGQYGoqG39fJOVhlZSiXY2oqzp9v/AM6CX/bt29nDwNrXzk3fPjw+Ph4o9ca8ZpuaKNQwMyZ4OYGGRkgEoG/P8e6iGny8vLWr19///59e3t7uVw+efLk9ieOGIHzf3kiFEJrKwBAa6u2C5akG3j22Wf37NnT2tpqloeoc+6xrl2DtWvB1xeOHIHNm6GLB3eTxw+3YKnV8OqrsHQpTJgAlZXg6goiEZeKSLfELVhhYbB1K3h4wMWLdBB8AvH5L0l27YKtW8HKClJTKVVPJg7BOncOXn8dAGDTJhgzxvzlk98DMwerpqbms/feQ5EI5s9vixd5IpkzWIg4f/78N/bte2v8eNi82Ywlk98dcwZr48aN33zzjZ2d3VsJCWDynRTkd81sZ4U//fSTTCbTaDR79uyZNm2aWcokv19m67HS09NbWloiIyMpVQTM2GMhYlpaWnBwsIgmQgn3SzrkSdW9/s9m8tigYBEuKFiECwoW4YKCRbigYBEuKFiECwoW4YKCRbigYBEuKFiECwoW4YKCRbigYBEuKFiECwoW4YKCRbigYBEuKFiECwoW4YKCRbigYBEuKFiECwoW4YKCRbigYBEuKFiECwoW4YKCRbigYBEuKFiECwoW4YKCRbigYBEuKFiECwoW4YKCRbigYBEuKFiECwoW4YKCRbigYBEuKFiECwoW4YKCRbigYBEuKFiECwoW4YKCRbigYBEuKFiECwoW4YKCRbigYBEuKFiECwoW4YKCRbigYBEuKFiECwoW4YKCRbigYBEuKFiECwoW4YKCRbigYBEuKFiECwoW4YKCRbigYBEu/gOt0umYi3Y5+QAAAh16VFh0cmRraXRQS0wgcmRraXQgMjAyMi4wMy41AAB4nHu/b+09BiDgZYAARiCWBWIFIG5gZGNIAIkxczBoAGlmJjYHMM3C5pABopkZ8TJganHrgciwQ2hmOJ8BrIAJaD1EAGY9kgTIXUxMMJod7F5mdGEOsDATurCAAw7fcAO9z8ikwMScwcTMksDCmsHEypbAxp7BxM6hwMGZwcTJlcDFncHEzZPAw5vBxMunwMevwC+gwcQvqCAoxCAkzCAswiAiyiAqxiAmziAuwSAhycArlSAlnSAtAzSDKUGGI0GaO0ESqIiFjYmdjZWFmY2Ti1tahoOVh1taipdNVExcQlJEPI0REg9gIKtS/+pA/PT4AyCOp+LZA13LhcFsnpD7Bxw8s/eD2GFF7AdXbjYHs3d0Cxx0WKhtD2KfusN40HPDWzD7i8aVA3VPL4PZht8OHlB902EHYk9MnXTgLnO7LYh9zqjhgLnVSrA5MS6KB5hYD4PZXoJn96dMXbMPxF6x9ObeZZ1pYPbD6no7zy1zwWZ+nHnRPqL+GZh9do+JwyX+JDA7/bq6g2apFNgclpNtDj8u7QSLvzuwxkFoOweY3a1902GGWi+YXar838Gt0hbstkMbfjiETl4G8WMIv2MSKx/Y70s7VR232l8Gi/87pOG466U62D2cx0Ud8784gM1pTmreXxXM6ABi67zjOiDT2gYWz+bPOvDcfwGYLQYABCGPDwWRu9wAAAKyelRYdE1PTCByZGtpdCAyMDIyLjAzLjUAAHicfVVbbhsxDPz3KXQBC3xT/EzioCiK2ECT9g797/1RUkayCiJ01yL2MUuKnCF9anX8vPz487d9HHQ5nVqD//wiov1mADi9tLpoj8/fvl/b09vD4/uTp9uv69tro2hM+U2en7EPb7eX9yfYntrZO9MAgnbmLsGG0qDDPI5vqd3a2bogMHI7U2dwBNwguXxaDw/A9Ak9MGDYBimFHF1MJWMm0tF16AaphYwOLIgV0xwkE/wKtLtLRBPghn2ohdAG6PddGkWVFLupiuzSGXcgGDKUIzIX8g0wCihdXUaMem8atEsmqzKRAEbp8oxZf4KxSwcnQdQVs5xeUCXWgB2UCpqJJJMx687s4LudJoHXAmBuwLmuiBR5RzsWR/leQsKyTMQEtgVq+szo7Jr5ZeEB3Hb1xKKI+iAB4nw/BoNuPXpKjpIhUqLapAGzblMfGVs6IQGPjC2aOtrGLo60cwyd75UFhHdqL4qs+zA1TY8I5LILTZihPcWe7VCk49Dc5Q5Y9Hh3R/VJJAOy7zZJ1UCjh47JI2VecXf+BSlZIUyixRB0kp/Rx07uVB2UUBU3sEm+cey9FkHRcw5AVCaunNntgN5eKyiQiUhSlcpz2iLHXcaYghye9QRN3ztp0uwizkQcA0twSsK7bT5fL59G2X24Pd6ul2O41UnHBMubxseYklrHLKpTj4GTN82OsSK5/BgekmscIwJzxTEIJBeu/S5lEJe2ljJIS/dKGeSlSaUMytKLOI0uTYfT2NJdVAZ9aSOcT8bSLjhNLH2BZWhtACxDuCgdyxAtkq7bFOwiXSxDskgUy5AuSsQyZIvgpPIiX5RVt6mbRUFShmJRimTVDz6ryvnwA8B4/+QoMs8N25JUiWiVTN2//5fm9ekfdCZplvKfFq8AAAFaelRYdFNNSUxFUyByZGtpdCAyMDIyLjAzLjUAAHicJZE9buwwDISv8spdwCb4TxFBKve7h3CfJm0O/4ZaN7Y+i6OZ0fW+5Z5Hzv2hP/fjdT2+38/Xdb3sut7XZc/fW2/59/c4i0wX63EaeVvK8XUmubDJcSoZ14d0NYMwtTSvBFvkGb5ZScUKsCY2FzmYsti19zaR9ENoRbZvrTQsM8I/S04xTGiWa4E4RXmDcEZr2EbMCY8Cs8ojqxTSa0ioxRBI8vyDH7PiGikmwVzZQNUQw4n48vZOeFBTRhRMWoWMR+YCUFrq6IRpLePwIYl5HZ1kM2R1UlGeYB6If3wFWa8IDIU5O2wn1coobBHWgkqhRuOFLbICMkOqJHYOYzF4XtSxJobiAFQNewjkuJhJiKkPCYfRyZfWBdSEu+NprcLKdh+siYoVby7dnQl6afjh4H0XBsWSIQiHvc+//7TDdUzcICkwAAAAAElFTkSuQmCC\" alt=\"Mol\"/></td>\n",
       "    </tr>\n",
       "    <tr>\n",
       "      <th>2</th>\n",
       "      <td>CHEMBL2347711</td>\n",
       "      <td>0.064</td>\n",
       "      <td>nM</td>\n",
       "      <td>10.193820</td>\n",
       "      <td style=\"text-align: center;\"><img data-content=\"rdkit/molecule\" src=\"data:image/png;base64,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\" alt=\"Mol\"/></td>\n",
       "    </tr>\n",
       "    <tr>\n",
       "      <th>3</th>\n",
       "      <td>CHEMBL2347723</td>\n",
       "      <td>0.064</td>\n",
       "      <td>nM</td>\n",
       "      <td>10.193820</td>\n",
       "      <td style=\"text-align: center;\"><img data-content=\"rdkit/molecule\" src=\"data:image/png;base64,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\" alt=\"Mol\"/></td>\n",
       "    </tr>\n",
       "    <tr>\n",
       "      <th>4</th>\n",
       "      <td>CHEMBL2347719</td>\n",
       "      <td>0.110</td>\n",
       "      <td>nM</td>\n",
       "      <td>9.958607</td>\n",
       "      <td style=\"text-align: center;\"><img data-content=\"rdkit/molecule\" src=\"data:image/png;base64,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\" alt=\"Mol\"/></td>\n",
       "    </tr>\n",
       "  </tbody>\n",
       "</table>\n",
       "</div>"
      ],
      "text/plain": [
       "  molecule_chembl_id   IC50 units      pIC50  \\\n",
       "0      CHEMBL2347725  0.015    nM  10.823909   \n",
       "1      CHEMBL2347722  0.021    nM  10.677781   \n",
       "2      CHEMBL2347711  0.064    nM  10.193820   \n",
       "3      CHEMBL2347723  0.064    nM  10.193820   \n",
       "4      CHEMBL2347719  0.110    nM   9.958607   \n",
       "\n",
       "                                               ROMol  \n",
       "0  <img data-content=\"rdkit/molecule\" src=\"data:i...  \n",
       "1  <img data-content=\"rdkit/molecule\" src=\"data:i...  \n",
       "2  <img data-content=\"rdkit/molecule\" src=\"data:i...  \n",
       "3  <img data-content=\"rdkit/molecule\" src=\"data:i...  \n",
       "4  <img data-content=\"rdkit/molecule\" src=\"data:i...  "
      ]
     },
     "execution_count": 45,
     "metadata": {},
     "output_type": "execute_result"
    }
   ],
   "source": [
    "# Look at 5 molecules with highest pIC50 values\n",
    "output_df.drop(\"smiles\", axis=1).head(5)"
   ]
  },
  {
   "cell_type": "code",
   "execution_count": 46,
   "id": "054204d7-a3d2-4eea-b933-e278dc2039b1",
   "metadata": {},
   "outputs": [
    {
     "name": "stdout",
     "output_type": "stream",
     "text": [
      "DataFrame shape: (1415, 5)\n"
     ]
    }
   ],
   "source": [
    "# Prepare saving the dataset: Drop the ROMol column\n",
    "output_df = output_df.drop(\"ROMol\", axis=1)\n",
    "print(f\"DataFrame shape: {output_df.shape}\")"
   ]
  },
  {
   "cell_type": "code",
   "execution_count": 47,
   "id": "afc5e9e9-c184-4147-9a2f-bdc28b30188f",
   "metadata": {},
   "outputs": [
    {
     "data": {
      "text/html": [
       "<div>\n",
       "<style scoped>\n",
       "    .dataframe tbody tr th:only-of-type {\n",
       "        vertical-align: middle;\n",
       "    }\n",
       "\n",
       "    .dataframe tbody tr th {\n",
       "        vertical-align: top;\n",
       "    }\n",
       "\n",
       "    .dataframe thead th {\n",
       "        text-align: right;\n",
       "    }\n",
       "</style>\n",
       "<table border=\"1\" class=\"dataframe\">\n",
       "  <thead>\n",
       "    <tr style=\"text-align: right;\">\n",
       "      <th></th>\n",
       "      <th>molecule_chembl_id</th>\n",
       "      <th>IC50</th>\n",
       "      <th>units</th>\n",
       "      <th>smiles</th>\n",
       "      <th>pIC50</th>\n",
       "    </tr>\n",
       "  </thead>\n",
       "  <tbody>\n",
       "    <tr>\n",
       "      <th>0</th>\n",
       "      <td>CHEMBL2347725</td>\n",
       "      <td>0.015</td>\n",
       "      <td>nM</td>\n",
       "      <td>COc1ccccc1-c1ccc2nc(NC(=O)NCCN3CCN(C)CC3)sc2c1</td>\n",
       "      <td>10.823909</td>\n",
       "    </tr>\n",
       "    <tr>\n",
       "      <th>1</th>\n",
       "      <td>CHEMBL2347722</td>\n",
       "      <td>0.021</td>\n",
       "      <td>nM</td>\n",
       "      <td>COc1ccccc1-c1ccc2nc(NC(=O)NCCN3CCOCC3)sc2c1</td>\n",
       "      <td>10.677781</td>\n",
       "    </tr>\n",
       "    <tr>\n",
       "      <th>2</th>\n",
       "      <td>CHEMBL2347711</td>\n",
       "      <td>0.064</td>\n",
       "      <td>nM</td>\n",
       "      <td>CCNC(=O)Nc1nc2ccc(-c3ccccc3OCC)cc2s1</td>\n",
       "      <td>10.193820</td>\n",
       "    </tr>\n",
       "    <tr>\n",
       "      <th>3</th>\n",
       "      <td>CHEMBL2347723</td>\n",
       "      <td>0.064</td>\n",
       "      <td>nM</td>\n",
       "      <td>COc1ccccc1-c1ccc2nc(NC(=O)NCCO)sc2c1</td>\n",
       "      <td>10.193820</td>\n",
       "    </tr>\n",
       "    <tr>\n",
       "      <th>4</th>\n",
       "      <td>CHEMBL2347719</td>\n",
       "      <td>0.110</td>\n",
       "      <td>nM</td>\n",
       "      <td>CCNC(=O)Nc1nc2ccc(-c3ccc(N)cc3OC)cc2s1</td>\n",
       "      <td>9.958607</td>\n",
       "    </tr>\n",
       "  </tbody>\n",
       "</table>\n",
       "</div>"
      ],
      "text/plain": [
       "  molecule_chembl_id   IC50 units  \\\n",
       "0      CHEMBL2347725  0.015    nM   \n",
       "1      CHEMBL2347722  0.021    nM   \n",
       "2      CHEMBL2347711  0.064    nM   \n",
       "3      CHEMBL2347723  0.064    nM   \n",
       "4      CHEMBL2347719  0.110    nM   \n",
       "\n",
       "                                           smiles      pIC50  \n",
       "0  COc1ccccc1-c1ccc2nc(NC(=O)NCCN3CCN(C)CC3)sc2c1  10.823909  \n",
       "1     COc1ccccc1-c1ccc2nc(NC(=O)NCCN3CCOCC3)sc2c1  10.677781  \n",
       "2            CCNC(=O)Nc1nc2ccc(-c3ccccc3OCC)cc2s1  10.193820  \n",
       "3            COc1ccccc1-c1ccc2nc(NC(=O)NCCO)sc2c1  10.193820  \n",
       "4          CCNC(=O)Nc1nc2ccc(-c3ccc(N)cc3OC)cc2s1   9.958607  "
      ]
     },
     "execution_count": 47,
     "metadata": {},
     "output_type": "execute_result"
    }
   ],
   "source": [
    "output_df.head()"
   ]
  },
  {
   "cell_type": "code",
   "execution_count": 49,
   "id": "bd1725ca-8146-49e9-bbc1-a31d03deb7b0",
   "metadata": {},
   "outputs": [
    {
     "data": {
      "text/html": [
       "<div>\n",
       "<style scoped>\n",
       "    .dataframe tbody tr th:only-of-type {\n",
       "        vertical-align: middle;\n",
       "    }\n",
       "\n",
       "    .dataframe tbody tr th {\n",
       "        vertical-align: top;\n",
       "    }\n",
       "\n",
       "    .dataframe thead th {\n",
       "        text-align: right;\n",
       "    }\n",
       "</style>\n",
       "<table border=\"1\" class=\"dataframe\">\n",
       "  <thead>\n",
       "    <tr style=\"text-align: right;\">\n",
       "      <th></th>\n",
       "      <th>molecule_chembl_id</th>\n",
       "      <th>IC50</th>\n",
       "      <th>units</th>\n",
       "      <th>smiles</th>\n",
       "      <th>pIC50</th>\n",
       "    </tr>\n",
       "  </thead>\n",
       "  <tbody>\n",
       "    <tr>\n",
       "      <th>713</th>\n",
       "      <td>CHEMBL941</td>\n",
       "      <td>38.0</td>\n",
       "      <td>nM</td>\n",
       "      <td>Cc1ccc(NC(=O)c2ccc(CN3CCN(C)CC3)cc2)cc1Nc1nccc...</td>\n",
       "      <td>7.420216</td>\n",
       "    </tr>\n",
       "  </tbody>\n",
       "</table>\n",
       "</div>"
      ],
      "text/plain": [
       "    molecule_chembl_id  IC50 units  \\\n",
       "713          CHEMBL941  38.0    nM   \n",
       "\n",
       "                                                smiles     pIC50  \n",
       "713  Cc1ccc(NC(=O)c2ccc(CN3CCN(C)CC3)cc2)cc1Nc1nccc...  7.420216  "
      ]
     },
     "execution_count": 49,
     "metadata": {},
     "output_type": "execute_result"
    }
   ],
   "source": [
    "# We already know that imatinib (CHEMBL941) binds to the target, so a good sanity\n",
    "# check is that is in our output data\n",
    "output_df[output_df['molecule_chembl_id'] == 'CHEMBL941']"
   ]
  },
  {
   "cell_type": "code",
   "execution_count": 50,
   "id": "1b1411a5-d428-4d8a-b79a-1e9f2a07cf54",
   "metadata": {},
   "outputs": [],
   "source": [
    "# Save in this directory as csv\n",
    "output_df.to_csv('ABL_compounds.csv')"
   ]
  },
  {
   "cell_type": "markdown",
   "id": "6934fb58-2686-4512-acb6-bbea3603704a",
   "metadata": {},
   "source": [
    "### At this point, I have an IC50 of 38 nM (0.038 $\\mu$M) for imatinib with the target having the same reference sequence as in PDB ID 2HYY. \n",
    "\n",
    "### [This reference](https://www.cancerrxgene.org/compound/Imatinib/34/by-tissue?tissue=PANCANCER&screening_set=GDSC1) gives a range from 0.0279 $\\mu$M to 140 $\\mu$M across all tissue types. \n",
    "\n",
    "### It can be seen that the IC50 values for chronic myelogenous leukemia (CML) and acute lymphoblastic leukemia (ALL) are especially low, are the cancer types targeted most effectively by imatinib, and are of the same order of magnitude as the number I presented here."
   ]
  }
 ],
 "metadata": {
  "kernelspec": {
   "display_name": "Python 3 (ipykernel)",
   "language": "python",
   "name": "python3"
  },
  "language_info": {
   "codemirror_mode": {
    "name": "ipython",
    "version": 3
   },
   "file_extension": ".py",
   "mimetype": "text/x-python",
   "name": "python",
   "nbconvert_exporter": "python",
   "pygments_lexer": "ipython3",
   "version": "3.10.6"
  }
 },
 "nbformat": 4,
 "nbformat_minor": 5
}
