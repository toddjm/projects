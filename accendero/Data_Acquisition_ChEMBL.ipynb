{
 "cells": [
  {
   "cell_type": "code",
   "execution_count": 1,
   "id": "24e88c93-a2b6-4662-9c8e-74b3e54fabcd",
   "metadata": {},
   "outputs": [],
   "source": [
    "import math\n",
    "from pathlib import Path\n",
    "from zipfile import ZipFile\n",
    "from tempfile import TemporaryDirectory\n",
    "\n",
    "import numpy as np\n",
    "import pandas as pd\n",
    "from rdkit.Chem import PandasTools\n",
    "from chembl_webresource_client.new_client import new_client\n",
    "from tqdm.auto import tqdm"
   ]
  },
  {
   "cell_type": "code",
   "execution_count": 2,
   "id": "c79f2edf-77f1-439d-8fc1-343214a787c7",
   "metadata": {},
   "outputs": [],
   "source": [
    "# Instantiate handles for interacting with ChEMBL\n",
    "targets_api = new_client.target\n",
    "compounds_api = new_client.molecule\n",
    "bioactivities_api = new_client.activity"
   ]
  },
  {
   "cell_type": "code",
   "execution_count": 3,
   "id": "bc90e650-018d-48c6-ae75-a233071a599a",
   "metadata": {},
   "outputs": [],
   "source": [
    "# After looking at RCSB for imatinib crystallized with a tyrosine kinase inhibitor,\n",
    "# I chose a target from PDB ID 2HYY, which has a UniProt ID P00519\n",
    "uniprot_id = 'P00519'"
   ]
  },
  {
   "cell_type": "code",
   "execution_count": 4,
   "id": "82b3ae6c-c5bd-40df-844a-751ad2fef43b",
   "metadata": {},
   "outputs": [
    {
     "name": "stdout",
     "output_type": "stream",
     "text": [
      "The type of the targets is \"<class 'chembl_webresource_client.query_set.QuerySet'>\"\n"
     ]
    }
   ],
   "source": [
    "# Get target information from ChEMBL but restrict it to specified values only\n",
    "targets = targets_api.get(target_components__accession=uniprot_id).only(\n",
    "    \"target_chembl_id\", \"organism\", \"pref_name\", \"target_type\"\n",
    ")\n",
    "print(f'The type of the targets is \"{type(targets)}\"')"
   ]
  },
  {
   "cell_type": "code",
   "execution_count": 6,
   "id": "139e4d7b-3942-444c-a01e-736e6254d09b",
   "metadata": {},
   "outputs": [
    {
     "data": {
      "text/html": [
       "<div>\n",
       "<style scoped>\n",
       "    .dataframe tbody tr th:only-of-type {\n",
       "        vertical-align: middle;\n",
       "    }\n",
       "\n",
       "    .dataframe tbody tr th {\n",
       "        vertical-align: top;\n",
       "    }\n",
       "\n",
       "    .dataframe thead th {\n",
       "        text-align: right;\n",
       "    }\n",
       "</style>\n",
       "<table border=\"1\" class=\"dataframe\">\n",
       "  <thead>\n",
       "    <tr style=\"text-align: right;\">\n",
       "      <th></th>\n",
       "      <th>organism</th>\n",
       "      <th>pref_name</th>\n",
       "      <th>target_chembl_id</th>\n",
       "      <th>target_type</th>\n",
       "    </tr>\n",
       "  </thead>\n",
       "  <tbody>\n",
       "    <tr>\n",
       "      <th>0</th>\n",
       "      <td>Homo sapiens</td>\n",
       "      <td>Tyrosine-protein kinase ABL</td>\n",
       "      <td>CHEMBL1862</td>\n",
       "      <td>SINGLE PROTEIN</td>\n",
       "    </tr>\n",
       "    <tr>\n",
       "      <th>1</th>\n",
       "      <td>Homo sapiens</td>\n",
       "      <td>Tyrosine-protein kinase ABL</td>\n",
       "      <td>CHEMBL1862</td>\n",
       "      <td>SINGLE PROTEIN</td>\n",
       "    </tr>\n",
       "    <tr>\n",
       "      <th>2</th>\n",
       "      <td>Homo sapiens</td>\n",
       "      <td>Bcr/Abl fusion protein</td>\n",
       "      <td>CHEMBL2096618</td>\n",
       "      <td>CHIMERIC PROTEIN</td>\n",
       "    </tr>\n",
       "    <tr>\n",
       "      <th>3</th>\n",
       "      <td>Homo sapiens</td>\n",
       "      <td>Tyrosine-protein kinase ABL</td>\n",
       "      <td>CHEMBL2111414</td>\n",
       "      <td>PROTEIN FAMILY</td>\n",
       "    </tr>\n",
       "    <tr>\n",
       "      <th>4</th>\n",
       "      <td>Homo sapiens</td>\n",
       "      <td>Ras and Rab interactor 1/Tyrosine-protein kina...</td>\n",
       "      <td>CHEMBL3885630</td>\n",
       "      <td>PROTEIN-PROTEIN INTERACTION</td>\n",
       "    </tr>\n",
       "    <tr>\n",
       "      <th>5</th>\n",
       "      <td>Homo sapiens</td>\n",
       "      <td>Transcription factor ETV6/Tyrosine-protein kin...</td>\n",
       "      <td>CHEMBL3885645</td>\n",
       "      <td>CHIMERIC PROTEIN</td>\n",
       "    </tr>\n",
       "    <tr>\n",
       "      <th>6</th>\n",
       "      <td>Homo sapiens</td>\n",
       "      <td>Baculoviral IAP repeat-containing protein 2/BC...</td>\n",
       "      <td>CHEMBL4296119</td>\n",
       "      <td>PROTEIN-PROTEIN INTERACTION</td>\n",
       "    </tr>\n",
       "    <tr>\n",
       "      <th>7</th>\n",
       "      <td>Homo sapiens</td>\n",
       "      <td>E3 ubiquitin-protein ligase XIAP/BCR/ABL</td>\n",
       "      <td>CHEMBL4296120</td>\n",
       "      <td>PROTEIN-PROTEIN INTERACTION</td>\n",
       "    </tr>\n",
       "    <tr>\n",
       "      <th>8</th>\n",
       "      <td>Homo sapiens</td>\n",
       "      <td>Cereblon/BCR/ABL</td>\n",
       "      <td>CHEMBL4296137</td>\n",
       "      <td>PROTEIN-PROTEIN INTERACTION</td>\n",
       "    </tr>\n",
       "    <tr>\n",
       "      <th>9</th>\n",
       "      <td>Homo sapiens</td>\n",
       "      <td>VHL/ABL1</td>\n",
       "      <td>CHEMBL4523725</td>\n",
       "      <td>PROTEIN-PROTEIN INTERACTION</td>\n",
       "    </tr>\n",
       "    <tr>\n",
       "      <th>10</th>\n",
       "      <td>Homo sapiens</td>\n",
       "      <td>Protein cereblon/Tyrosine-protein kinase ABL1</td>\n",
       "      <td>CHEMBL4523750</td>\n",
       "      <td>PROTEIN-PROTEIN INTERACTION</td>\n",
       "    </tr>\n",
       "    <tr>\n",
       "      <th>11</th>\n",
       "      <td>Homo sapiens</td>\n",
       "      <td>VHL/BCR-ABL1</td>\n",
       "      <td>CHEMBL4523751</td>\n",
       "      <td>PROTEIN-PROTEIN INTERACTION</td>\n",
       "    </tr>\n",
       "  </tbody>\n",
       "</table>\n",
       "</div>"
      ],
      "text/plain": [
       "        organism                                          pref_name  \\\n",
       "0   Homo sapiens                        Tyrosine-protein kinase ABL   \n",
       "1   Homo sapiens                        Tyrosine-protein kinase ABL   \n",
       "2   Homo sapiens                             Bcr/Abl fusion protein   \n",
       "3   Homo sapiens                        Tyrosine-protein kinase ABL   \n",
       "4   Homo sapiens  Ras and Rab interactor 1/Tyrosine-protein kina...   \n",
       "5   Homo sapiens  Transcription factor ETV6/Tyrosine-protein kin...   \n",
       "6   Homo sapiens  Baculoviral IAP repeat-containing protein 2/BC...   \n",
       "7   Homo sapiens           E3 ubiquitin-protein ligase XIAP/BCR/ABL   \n",
       "8   Homo sapiens                                   Cereblon/BCR/ABL   \n",
       "9   Homo sapiens                                           VHL/ABL1   \n",
       "10  Homo sapiens      Protein cereblon/Tyrosine-protein kinase ABL1   \n",
       "11  Homo sapiens                                       VHL/BCR-ABL1   \n",
       "\n",
       "   target_chembl_id                  target_type  \n",
       "0        CHEMBL1862               SINGLE PROTEIN  \n",
       "1        CHEMBL1862               SINGLE PROTEIN  \n",
       "2     CHEMBL2096618             CHIMERIC PROTEIN  \n",
       "3     CHEMBL2111414               PROTEIN FAMILY  \n",
       "4     CHEMBL3885630  PROTEIN-PROTEIN INTERACTION  \n",
       "5     CHEMBL3885645             CHIMERIC PROTEIN  \n",
       "6     CHEMBL4296119  PROTEIN-PROTEIN INTERACTION  \n",
       "7     CHEMBL4296120  PROTEIN-PROTEIN INTERACTION  \n",
       "8     CHEMBL4296137  PROTEIN-PROTEIN INTERACTION  \n",
       "9     CHEMBL4523725  PROTEIN-PROTEIN INTERACTION  \n",
       "10    CHEMBL4523750  PROTEIN-PROTEIN INTERACTION  \n",
       "11    CHEMBL4523751  PROTEIN-PROTEIN INTERACTION  "
      ]
     },
     "execution_count": 6,
     "metadata": {},
     "output_type": "execute_result"
    }
   ],
   "source": [
    "# Get targets from ChEMBL\n",
    "targets = pd.DataFrame.from_records(targets)\n",
    "targets"
   ]
  },
  {
   "cell_type": "code",
   "execution_count": 8,
   "id": "9e757ed7-b9fe-4313-8290-30c4d71eee08",
   "metadata": {},
   "outputs": [
    {
     "data": {
      "text/plain": [
       "organism                           Homo sapiens\n",
       "pref_name           Tyrosine-protein kinase ABL\n",
       "target_chembl_id                     CHEMBL1862\n",
       "target_type                      SINGLE PROTEIN\n",
       "Name: 0, dtype: object"
      ]
     },
     "execution_count": 8,
     "metadata": {},
     "output_type": "execute_result"
    }
   ],
   "source": [
    "# I'm choosing CHEMBL1862, it's single protein and representative of the TKI ABL\n",
    "target = targets.iloc[0]\n",
    "target"
   ]
  },
  {
   "cell_type": "code",
   "execution_count": 9,
   "id": "c380ee12-2c53-4711-8cb3-a8cc3b4fd7a9",
   "metadata": {},
   "outputs": [
    {
     "name": "stdout",
     "output_type": "stream",
     "text": [
      "The target ChEMBL ID is CHEMBL1862\n"
     ]
    }
   ],
   "source": [
    "chembl_id = target.target_chembl_id\n",
    "print(f\"The target ChEMBL ID is {chembl_id}\")"
   ]
  },
  {
   "cell_type": "code",
   "execution_count": 10,
   "id": "dfaf6b04-bdc3-4455-ba06-70c05c3ded70",
   "metadata": {},
   "outputs": [
    {
     "name": "stdout",
     "output_type": "stream",
     "text": [
      "Length and type of bioactivities object: 2197, <class 'chembl_webresource_client.query_set.QuerySet'>\n"
     ]
    }
   ],
   "source": [
    "# Get binding assay data\n",
    "bioactivities = bioactivities_api.filter(\n",
    "    target_chembl_id=chembl_id, type=\"IC50\", relation=\"=\", assay_type=\"B\"\n",
    ").only(\n",
    "    \"activity_id\",\n",
    "    \"assay_chembl_id\",\n",
    "    \"assay_description\",\n",
    "    \"assay_type\",\n",
    "    \"molecule_chembl_id\",\n",
    "    \"type\",\n",
    "    \"standard_units\",\n",
    "    \"relation\",\n",
    "    \"standard_value\",\n",
    "    \"target_chembl_id\",\n",
    "    \"target_organism\",\n",
    ")\n",
    "\n",
    "print(f\"Length and type of bioactivities object: {len(bioactivities)}, {type(bioactivities)}\")"
   ]
  },
  {
   "cell_type": "code",
   "execution_count": 12,
   "id": "a9898523-b69e-4ecb-b18a-61017d99f550",
   "metadata": {},
   "outputs": [
    {
     "name": "stdout",
     "output_type": "stream",
     "text": [
      "Length and type of first element: 13, <class 'dict'>\n"
     ]
    },
    {
     "data": {
      "text/plain": [
       "{'activity_id': 146141,\n",
       " 'assay_chembl_id': 'CHEMBL806527',\n",
       " 'assay_description': 'Radioligand displacement assay for the binding of [125I]Glu-Pro-Gln-pTyr-Glu-Glu-Ile-Pro-Ile-Tyr-Leu to ABL SH2 domain',\n",
       " 'assay_type': 'B',\n",
       " 'molecule_chembl_id': 'CHEMBL13462',\n",
       " 'relation': '=',\n",
       " 'standard_units': 'nM',\n",
       " 'standard_value': '4000.0',\n",
       " 'target_chembl_id': 'CHEMBL1862',\n",
       " 'target_organism': 'Homo sapiens',\n",
       " 'type': 'IC50',\n",
       " 'units': 'uM',\n",
       " 'value': '4.0'}"
      ]
     },
     "execution_count": 12,
     "metadata": {},
     "output_type": "execute_result"
    }
   ],
   "source": [
    "# Look at an entry in bioactivities\n",
    "print(f\"Length and type of first element: {len(bioactivities[0])}, {type(bioactivities[0])}\")\n",
    "bioactivities[0]"
   ]
  },
  {
   "cell_type": "code",
   "execution_count": 13,
   "id": "b37c709f-2b00-46f5-836b-5591ac4b0379",
   "metadata": {},
   "outputs": [
    {
     "name": "stdout",
     "output_type": "stream",
     "text": [
      "DataFrame shape: (2198, 13)\n"
     ]
    },
    {
     "data": {
      "text/html": [
       "<div>\n",
       "<style scoped>\n",
       "    .dataframe tbody tr th:only-of-type {\n",
       "        vertical-align: middle;\n",
       "    }\n",
       "\n",
       "    .dataframe tbody tr th {\n",
       "        vertical-align: top;\n",
       "    }\n",
       "\n",
       "    .dataframe thead th {\n",
       "        text-align: right;\n",
       "    }\n",
       "</style>\n",
       "<table border=\"1\" class=\"dataframe\">\n",
       "  <thead>\n",
       "    <tr style=\"text-align: right;\">\n",
       "      <th></th>\n",
       "      <th>activity_id</th>\n",
       "      <th>assay_chembl_id</th>\n",
       "      <th>assay_description</th>\n",
       "      <th>assay_type</th>\n",
       "      <th>molecule_chembl_id</th>\n",
       "      <th>relation</th>\n",
       "      <th>standard_units</th>\n",
       "      <th>standard_value</th>\n",
       "      <th>target_chembl_id</th>\n",
       "      <th>target_organism</th>\n",
       "      <th>type</th>\n",
       "      <th>units</th>\n",
       "      <th>value</th>\n",
       "    </tr>\n",
       "  </thead>\n",
       "  <tbody>\n",
       "    <tr>\n",
       "      <th>0</th>\n",
       "      <td>146141</td>\n",
       "      <td>CHEMBL806527</td>\n",
       "      <td>Radioligand displacement assay for the binding...</td>\n",
       "      <td>B</td>\n",
       "      <td>CHEMBL13462</td>\n",
       "      <td>=</td>\n",
       "      <td>nM</td>\n",
       "      <td>4000.0</td>\n",
       "      <td>CHEMBL1862</td>\n",
       "      <td>Homo sapiens</td>\n",
       "      <td>IC50</td>\n",
       "      <td>uM</td>\n",
       "      <td>4.0</td>\n",
       "    </tr>\n",
       "    <tr>\n",
       "      <th>1</th>\n",
       "      <td>146141</td>\n",
       "      <td>CHEMBL806527</td>\n",
       "      <td>Radioligand displacement assay for the binding...</td>\n",
       "      <td>B</td>\n",
       "      <td>CHEMBL13462</td>\n",
       "      <td>=</td>\n",
       "      <td>nM</td>\n",
       "      <td>4000.0</td>\n",
       "      <td>CHEMBL1862</td>\n",
       "      <td>Homo sapiens</td>\n",
       "      <td>IC50</td>\n",
       "      <td>uM</td>\n",
       "      <td>4.0</td>\n",
       "    </tr>\n",
       "    <tr>\n",
       "      <th>2</th>\n",
       "      <td>146143</td>\n",
       "      <td>CHEMBL762575</td>\n",
       "      <td>Inhibition of [35S]-labeled SH2-GST Abl bindin...</td>\n",
       "      <td>B</td>\n",
       "      <td>CHEMBL13462</td>\n",
       "      <td>=</td>\n",
       "      <td>nM</td>\n",
       "      <td>16000.0</td>\n",
       "      <td>CHEMBL1862</td>\n",
       "      <td>Homo sapiens</td>\n",
       "      <td>IC50</td>\n",
       "      <td>uM</td>\n",
       "      <td>16.0</td>\n",
       "    </tr>\n",
       "    <tr>\n",
       "      <th>3</th>\n",
       "      <td>148569</td>\n",
       "      <td>CHEMBL806527</td>\n",
       "      <td>Radioligand displacement assay for the binding...</td>\n",
       "      <td>B</td>\n",
       "      <td>CHEMBL414123</td>\n",
       "      <td>=</td>\n",
       "      <td>nM</td>\n",
       "      <td>15000.0</td>\n",
       "      <td>CHEMBL1862</td>\n",
       "      <td>Homo sapiens</td>\n",
       "      <td>IC50</td>\n",
       "      <td>uM</td>\n",
       "      <td>15.0</td>\n",
       "    </tr>\n",
       "    <tr>\n",
       "      <th>4</th>\n",
       "      <td>148571</td>\n",
       "      <td>CHEMBL762575</td>\n",
       "      <td>Inhibition of [35S]-labeled SH2-GST Abl bindin...</td>\n",
       "      <td>B</td>\n",
       "      <td>CHEMBL414123</td>\n",
       "      <td>=</td>\n",
       "      <td>nM</td>\n",
       "      <td>2900.0</td>\n",
       "      <td>CHEMBL1862</td>\n",
       "      <td>Homo sapiens</td>\n",
       "      <td>IC50</td>\n",
       "      <td>uM</td>\n",
       "      <td>2.9</td>\n",
       "    </tr>\n",
       "  </tbody>\n",
       "</table>\n",
       "</div>"
      ],
      "text/plain": [
       "   activity_id assay_chembl_id  \\\n",
       "0       146141    CHEMBL806527   \n",
       "1       146141    CHEMBL806527   \n",
       "2       146143    CHEMBL762575   \n",
       "3       148569    CHEMBL806527   \n",
       "4       148571    CHEMBL762575   \n",
       "\n",
       "                                   assay_description assay_type  \\\n",
       "0  Radioligand displacement assay for the binding...          B   \n",
       "1  Radioligand displacement assay for the binding...          B   \n",
       "2  Inhibition of [35S]-labeled SH2-GST Abl bindin...          B   \n",
       "3  Radioligand displacement assay for the binding...          B   \n",
       "4  Inhibition of [35S]-labeled SH2-GST Abl bindin...          B   \n",
       "\n",
       "  molecule_chembl_id relation standard_units standard_value target_chembl_id  \\\n",
       "0        CHEMBL13462        =             nM         4000.0       CHEMBL1862   \n",
       "1        CHEMBL13462        =             nM         4000.0       CHEMBL1862   \n",
       "2        CHEMBL13462        =             nM        16000.0       CHEMBL1862   \n",
       "3       CHEMBL414123        =             nM        15000.0       CHEMBL1862   \n",
       "4       CHEMBL414123        =             nM         2900.0       CHEMBL1862   \n",
       "\n",
       "  target_organism  type units value  \n",
       "0    Homo sapiens  IC50    uM   4.0  \n",
       "1    Homo sapiens  IC50    uM   4.0  \n",
       "2    Homo sapiens  IC50    uM  16.0  \n",
       "3    Homo sapiens  IC50    uM  15.0  \n",
       "4    Homo sapiens  IC50    uM   2.9  "
      ]
     },
     "execution_count": 13,
     "metadata": {},
     "output_type": "execute_result"
    }
   ],
   "source": [
    "# Get the query set from ChEMBL\n",
    "bioactivities_df = pd.DataFrame.from_records(bioactivities)\n",
    "print(f\"DataFrame shape: {bioactivities_df.shape}\")\n",
    "bioactivities_df.head()"
   ]
  },
  {
   "cell_type": "code",
   "execution_count": 16,
   "id": "82eabf66-0797-4b7d-b49b-eac9b60611f1",
   "metadata": {},
   "outputs": [
    {
     "ename": "KeyError",
     "evalue": "'units'",
     "output_type": "error",
     "traceback": [
      "\u001b[0;31m---------------------------------------------------------------------------\u001b[0m",
      "\u001b[0;31mKeyError\u001b[0m                                  Traceback (most recent call last)",
      "File \u001b[0;32m~/opt/anaconda3/envs/rdkit_env/lib/python3.10/site-packages/pandas/core/indexes/base.py:3800\u001b[0m, in \u001b[0;36mIndex.get_loc\u001b[0;34m(self, key, method, tolerance)\u001b[0m\n\u001b[1;32m   3799\u001b[0m \u001b[38;5;28;01mtry\u001b[39;00m:\n\u001b[0;32m-> 3800\u001b[0m     \u001b[38;5;28;01mreturn\u001b[39;00m \u001b[38;5;28;43mself\u001b[39;49m\u001b[38;5;241;43m.\u001b[39;49m\u001b[43m_engine\u001b[49m\u001b[38;5;241;43m.\u001b[39;49m\u001b[43mget_loc\u001b[49m\u001b[43m(\u001b[49m\u001b[43mcasted_key\u001b[49m\u001b[43m)\u001b[49m\n\u001b[1;32m   3801\u001b[0m \u001b[38;5;28;01mexcept\u001b[39;00m \u001b[38;5;167;01mKeyError\u001b[39;00m \u001b[38;5;28;01mas\u001b[39;00m err:\n",
      "File \u001b[0;32m~/opt/anaconda3/envs/rdkit_env/lib/python3.10/site-packages/pandas/_libs/index.pyx:138\u001b[0m, in \u001b[0;36mpandas._libs.index.IndexEngine.get_loc\u001b[0;34m()\u001b[0m\n",
      "File \u001b[0;32m~/opt/anaconda3/envs/rdkit_env/lib/python3.10/site-packages/pandas/_libs/index.pyx:165\u001b[0m, in \u001b[0;36mpandas._libs.index.IndexEngine.get_loc\u001b[0;34m()\u001b[0m\n",
      "File \u001b[0;32mpandas/_libs/hashtable_class_helper.pxi:5745\u001b[0m, in \u001b[0;36mpandas._libs.hashtable.PyObjectHashTable.get_item\u001b[0;34m()\u001b[0m\n",
      "File \u001b[0;32mpandas/_libs/hashtable_class_helper.pxi:5753\u001b[0m, in \u001b[0;36mpandas._libs.hashtable.PyObjectHashTable.get_item\u001b[0;34m()\u001b[0m\n",
      "\u001b[0;31mKeyError\u001b[0m: 'units'",
      "\nThe above exception was the direct cause of the following exception:\n",
      "\u001b[0;31mKeyError\u001b[0m                                  Traceback (most recent call last)",
      "Input \u001b[0;32mIn [16]\u001b[0m, in \u001b[0;36m<cell line: 2>\u001b[0;34m()\u001b[0m\n\u001b[1;32m      1\u001b[0m \u001b[38;5;66;03m# We need to clean-up the bioactivites data and do some pandas calisthenics\u001b[39;00m\n\u001b[0;32m----> 2\u001b[0m \u001b[43mbioactivities_df\u001b[49m\u001b[43m[\u001b[49m\u001b[38;5;124;43m\"\u001b[39;49m\u001b[38;5;124;43munits\u001b[39;49m\u001b[38;5;124;43m\"\u001b[39;49m\u001b[43m]\u001b[49m\u001b[38;5;241m.\u001b[39munique()  \u001b[38;5;66;03m# Illustrated here, see output\u001b[39;00m\n\u001b[1;32m      4\u001b[0m bioactivities_df\u001b[38;5;241m.\u001b[39mdrop([\u001b[38;5;124m\"\u001b[39m\u001b[38;5;124munits\u001b[39m\u001b[38;5;124m\"\u001b[39m, \u001b[38;5;124m\"\u001b[39m\u001b[38;5;124mvalue\u001b[39m\u001b[38;5;124m\"\u001b[39m], axis\u001b[38;5;241m=\u001b[39m\u001b[38;5;241m1\u001b[39m, inplace\u001b[38;5;241m=\u001b[39m\u001b[38;5;28;01mTrue\u001b[39;00m)\n\u001b[1;32m      5\u001b[0m bioactivities_df\u001b[38;5;241m.\u001b[39mhead()\n",
      "File \u001b[0;32m~/opt/anaconda3/envs/rdkit_env/lib/python3.10/site-packages/pandas/core/frame.py:3805\u001b[0m, in \u001b[0;36mDataFrame.__getitem__\u001b[0;34m(self, key)\u001b[0m\n\u001b[1;32m   3803\u001b[0m \u001b[38;5;28;01mif\u001b[39;00m \u001b[38;5;28mself\u001b[39m\u001b[38;5;241m.\u001b[39mcolumns\u001b[38;5;241m.\u001b[39mnlevels \u001b[38;5;241m>\u001b[39m \u001b[38;5;241m1\u001b[39m:\n\u001b[1;32m   3804\u001b[0m     \u001b[38;5;28;01mreturn\u001b[39;00m \u001b[38;5;28mself\u001b[39m\u001b[38;5;241m.\u001b[39m_getitem_multilevel(key)\n\u001b[0;32m-> 3805\u001b[0m indexer \u001b[38;5;241m=\u001b[39m \u001b[38;5;28;43mself\u001b[39;49m\u001b[38;5;241;43m.\u001b[39;49m\u001b[43mcolumns\u001b[49m\u001b[38;5;241;43m.\u001b[39;49m\u001b[43mget_loc\u001b[49m\u001b[43m(\u001b[49m\u001b[43mkey\u001b[49m\u001b[43m)\u001b[49m\n\u001b[1;32m   3806\u001b[0m \u001b[38;5;28;01mif\u001b[39;00m is_integer(indexer):\n\u001b[1;32m   3807\u001b[0m     indexer \u001b[38;5;241m=\u001b[39m [indexer]\n",
      "File \u001b[0;32m~/opt/anaconda3/envs/rdkit_env/lib/python3.10/site-packages/pandas/core/indexes/base.py:3802\u001b[0m, in \u001b[0;36mIndex.get_loc\u001b[0;34m(self, key, method, tolerance)\u001b[0m\n\u001b[1;32m   3800\u001b[0m     \u001b[38;5;28;01mreturn\u001b[39;00m \u001b[38;5;28mself\u001b[39m\u001b[38;5;241m.\u001b[39m_engine\u001b[38;5;241m.\u001b[39mget_loc(casted_key)\n\u001b[1;32m   3801\u001b[0m \u001b[38;5;28;01mexcept\u001b[39;00m \u001b[38;5;167;01mKeyError\u001b[39;00m \u001b[38;5;28;01mas\u001b[39;00m err:\n\u001b[0;32m-> 3802\u001b[0m     \u001b[38;5;28;01mraise\u001b[39;00m \u001b[38;5;167;01mKeyError\u001b[39;00m(key) \u001b[38;5;28;01mfrom\u001b[39;00m \u001b[38;5;21;01merr\u001b[39;00m\n\u001b[1;32m   3803\u001b[0m \u001b[38;5;28;01mexcept\u001b[39;00m \u001b[38;5;167;01mTypeError\u001b[39;00m:\n\u001b[1;32m   3804\u001b[0m     \u001b[38;5;66;03m# If we have a listlike key, _check_indexing_error will raise\u001b[39;00m\n\u001b[1;32m   3805\u001b[0m     \u001b[38;5;66;03m#  InvalidIndexError. Otherwise we fall through and re-raise\u001b[39;00m\n\u001b[1;32m   3806\u001b[0m     \u001b[38;5;66;03m#  the TypeError.\u001b[39;00m\n\u001b[1;32m   3807\u001b[0m     \u001b[38;5;28mself\u001b[39m\u001b[38;5;241m.\u001b[39m_check_indexing_error(key)\n",
      "\u001b[0;31mKeyError\u001b[0m: 'units'"
     ]
    }
   ],
   "source": [
    "# We need to clean-up the bioactivites data and do some pandas calisthenics\n",
    "bioactivities_df[\"units\"].unique()  # Illustrated here, see output\n",
    "\n",
    "bioactivities_df.drop([\"units\", \"value\"], axis=1, inplace=True)\n",
    "bioactivities_df.head()"
   ]
  },
  {
   "cell_type": "code",
   "execution_count": null,
   "id": "9d25d67f-1373-4368-a2ce-7f73490a37c7",
   "metadata": {},
   "outputs": [],
   "source": []
  }
 ],
 "metadata": {
  "kernelspec": {
   "display_name": "Python 3 (ipykernel)",
   "language": "python",
   "name": "python3"
  },
  "language_info": {
   "codemirror_mode": {
    "name": "ipython",
    "version": 3
   },
   "file_extension": ".py",
   "mimetype": "text/x-python",
   "name": "python",
   "nbconvert_exporter": "python",
   "pygments_lexer": "ipython3",
   "version": "3.10.6"
  }
 },
 "nbformat": 4,
 "nbformat_minor": 5
}
