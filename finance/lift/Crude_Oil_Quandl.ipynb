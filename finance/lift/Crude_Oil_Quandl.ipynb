{
 "cells": [
  {
   "cell_type": "code",
   "execution_count": 1,
   "metadata": {
    "collapsed": false
   },
   "outputs": [],
   "source": [
    "import configobj\n",
    "import matplotlib.pyplot as plt\n",
    "import numpy as np\n",
    "import pandas as pd\n",
    "import quandl\n",
    "%matplotlib inline"
   ]
  },
  {
   "cell_type": "code",
   "execution_count": 2,
   "metadata": {
    "collapsed": false
   },
   "outputs": [],
   "source": [
    "config = configobj.ConfigObj('/Users/tminehardt/.authtoken_Quandl')\n",
    "authtoken = config['authtoken']"
   ]
  },
  {
   "cell_type": "code",
   "execution_count": 37,
   "metadata": {
    "collapsed": false
   },
   "outputs": [],
   "source": [
    "CL_dict = {}\n",
    "for i in range(1, 50):\n",
    "    name = 'CL' + str(i)\n",
    "    contract = 'CHRIS/CME_CL' + str(i)\n",
    "    try:\n",
    "        CL_dict[name] = quandl.get(contract, authtoken=authtoken)\n",
    "    except:\n",
    "        pass"
   ]
  },
  {
   "cell_type": "code",
   "execution_count": 38,
   "metadata": {
    "collapsed": false
   },
   "outputs": [],
   "source": [
    "for i in CL_dict.keys():\n",
    "    CL_dict[i].to_csv(i +'.csv')"
   ]
  },
  {
   "cell_type": "code",
   "execution_count": 35,
   "metadata": {
    "collapsed": false
   },
   "outputs": [],
   "source": [
    "CL_Indiv_dict = {}\n",
    "for i in range(1983, 2025):\n",
    "    for j in ['F', 'G', 'H', 'J', 'K', 'M', 'N', 'Q', 'U', 'V', 'X', 'Z']:\n",
    "        name = 'CL' + j + str(i)\n",
    "        contract = 'CME/CL' + j + str(i)\n",
    "        try:\n",
    "            CL_Indiv_dict[name] = quandl.get(contract, authtoken=authtoken)\n",
    "        except:\n",
    "            pass"
   ]
  },
  {
   "cell_type": "code",
   "execution_count": 36,
   "metadata": {
    "collapsed": true
   },
   "outputs": [],
   "source": [
    "for i in CL_Indiv_dict.keys():\n",
    "    CL_Indiv_dict[i].to_csv(i +'.csv')"
   ]
  }
 ],
 "metadata": {
  "anaconda-cloud": {},
  "kernelspec": {
   "display_name": "Python [default]",
   "language": "python",
   "name": "python3"
  },
  "language_info": {
   "codemirror_mode": {
    "name": "ipython",
    "version": 3
   },
   "file_extension": ".py",
   "mimetype": "text/x-python",
   "name": "python",
   "nbconvert_exporter": "python",
   "pygments_lexer": "ipython3",
   "version": "3.5.2"
  }
 },
 "nbformat": 4,
 "nbformat_minor": 0
}
