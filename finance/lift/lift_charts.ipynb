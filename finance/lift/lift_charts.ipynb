{
 "metadata": {
  "name": ""
 },
 "nbformat": 3,
 "nbformat_minor": 0,
 "worksheets": [
  {
   "cells": [
    {
     "cell_type": "code",
     "collapsed": false,
     "input": [
      "import numpy as np\n",
      "import pandas as pd\n",
      "import Quandl\n",
      "%matplotlib inline\n",
      "import matplotlib.pyplot as plt\n",
      "import signal_statistics as ss"
     ],
     "language": "python",
     "metadata": {},
     "outputs": [],
     "prompt_number": 1
    },
    {
     "cell_type": "code",
     "collapsed": false,
     "input": [
      "EXPE = Quandl.get(\"WIKI/EXPE\", authtoken='bppLHh83NpXyCTYQFuXs')  # Daily stock prices for Expedia.\n",
      "AWAY = Quandl.get(\"WIKI/AWAY\", authtoken='bppLHh83NpXyCTYQFuXs')  # Daily stock prices for HomeAway.\n",
      "SPY = Quandl.get(\"YAHOO/INDEX_SPY\", authtoken='bppLHh83NpXyCTYQFuXs')  # Daily stock prices for SPY.\n",
      "VIX = Quandl.get(\"CBOE/VIX\", authtoken='bppLHh83NpXyCTYQFuXs')  # Daily stock prices for VIX."
     ],
     "language": "python",
     "metadata": {},
     "outputs": [],
     "prompt_number": 173
    },
    {
     "cell_type": "code",
     "collapsed": false,
     "input": [
      "VIX.columns = ['Open', 'High', 'Low', 'Close']  # Properly name the columns for this case."
     ],
     "language": "python",
     "metadata": {},
     "outputs": [],
     "prompt_number": 174
    },
    {
     "cell_type": "code",
     "collapsed": false,
     "input": [
      "len(SPY), len(VIX)  # Will need both arrays to be the same size."
     ],
     "language": "python",
     "metadata": {},
     "outputs": [
      {
       "metadata": {},
       "output_type": "pyout",
       "prompt_number": 175,
       "text": [
        "(5752, 2999)"
       ]
      }
     ],
     "prompt_number": 175
    },
    {
     "cell_type": "code",
     "collapsed": false,
     "input": [
      "x = pd.merge(VIX, SPY, left_index=True, right_index=True, suffixes=('_VIX', '_SPY'))"
     ],
     "language": "python",
     "metadata": {},
     "outputs": [],
     "prompt_number": 176
    },
    {
     "cell_type": "code",
     "collapsed": false,
     "input": [
      "predictor = x.Open_VIX - x.Close_VIX.shift(periods=1)  # Today's open - yesterday's close."
     ],
     "language": "python",
     "metadata": {},
     "outputs": [],
     "prompt_number": 177
    },
    {
     "cell_type": "code",
     "collapsed": false,
     "input": [
      "predictor.dropna(inplace=True)  # Drop NaNs from the shift operation. Will truncate array by 1 at start of array."
     ],
     "language": "python",
     "metadata": {},
     "outputs": [],
     "prompt_number": 178
    },
    {
     "cell_type": "code",
     "collapsed": false,
     "input": [
      "predictor = np.asarray(predictor)  # Make this a numpy array."
     ],
     "language": "python",
     "metadata": {},
     "outputs": [],
     "prompt_number": 179
    },
    {
     "cell_type": "code",
     "collapsed": false,
     "input": [
      "target = x.Close_SPY - x.Open_SPY  # Today's close - today's open."
     ],
     "language": "python",
     "metadata": {},
     "outputs": [],
     "prompt_number": 180
    },
    {
     "cell_type": "code",
     "collapsed": false,
     "input": [
      "target = np.asarray(target)[1:]  # Make this a numpy array, slice to match length of predictor (from start)."
     ],
     "language": "python",
     "metadata": {},
     "outputs": [],
     "prompt_number": 181
    },
    {
     "cell_type": "code",
     "collapsed": false,
     "input": [
      "plt.plot(np.sort(predictor), 'r-', np.sort(target), 'b-'); plt.show()  # A quick look at the distributions."
     ],
     "language": "python",
     "metadata": {},
     "outputs": [
      {
       "metadata": {},
       "output_type": "display_data",
       "png": "[encoded data removed]",
       "text": [
        "<matplotlib.figure.Figure at 0x7f82fd76a410>"
       ]
      }
     ],
     "prompt_number": 182
    },
    {
     "cell_type": "code",
     "collapsed": false,
     "input": [
      "ss.lift(predictor, target)"
     ],
     "language": "python",
     "metadata": {},
     "outputs": [
      {
       "output_type": "stream",
       "stream": "stdout",
       "text": [
        "buy:\n",
        "2.00 0.396 -12.925  53\n",
        "4.00 0.477 -2.700 107\n",
        "5.00 0.466 -2.564 161\n",
        "7.00 0.465 -1.851 215\n",
        "9.00 0.468 -1.371 269\n",
        "11.00 0.477 -0.980 323\n",
        "13.00 0.485 -0.705 377\n",
        "14.00 0.499 -0.475 431\n",
        "16.00 0.505 -0.342 485\n",
        "18.00 0.499 -0.367 539\n",
        "20.00 0.508 -0.250 593\n",
        "22.00 0.510 -0.207 647\n",
        "23.00 0.515 -0.158 701\n",
        "25.00 0.513 -0.163 755\n",
        "27.00 0.512 -0.157 809\n",
        "29.00 0.519 -0.098 863\n",
        "31.00 0.517 -0.105 917\n",
        "32.00 0.512 -0.132 971\n",
        "34.00 0.514 -0.111 1025\n",
        "36.00 0.514 -0.104 1079\n",
        "38.00 0.519 -0.076 1133\n",
        "40.00 0.520 -0.068 1187\n",
        "41.00 0.523 -0.052 1241\n",
        "43.00 0.526 -0.037 1295\n",
        "45.00 0.527 -0.030 1349\n",
        "47.00 0.528 -0.025 1403\n",
        "49.00 0.528 -0.022 1457\n",
        "50.00 0.528 -0.023 1511\n",
        "52.00 0.528 -0.024 1565\n",
        "54.00 0.527 -0.024 1619\n",
        "56.00 0.524 -0.034 1673\n",
        "58.00 0.526 -0.028 1727\n",
        "59.00 0.524 -0.032 1781\n",
        "61.00 0.524 -0.031 1835\n",
        "63.00 0.521 -0.040 1889\n",
        "65.00 0.518 -0.048 1943\n",
        "67.00 0.519 -0.042 1997\n",
        "68.00 0.521 -0.038 2051\n",
        "70.00 0.524 -0.029 2105\n",
        "72.00 0.526 -0.021 2159\n",
        "74.00 0.525 -0.023 2213\n",
        "76.00 0.525 -0.023 2267\n",
        "77.00 0.527 -0.018 2321\n",
        "79.00 0.528 -0.016 2375\n",
        "81.00 0.529 -0.011 2429\n",
        "83.00 0.528 -0.013 2483\n",
        "85.00 0.529 -0.011 2537\n",
        "86.00 0.530 -0.011 2591\n",
        "88.00 0.531 -0.008 2645\n",
        "90.00 0.531 -0.008 2699\n",
        "92.00 0.531 -0.007 2753\n",
        "94.00 0.531 -0.007 2807\n",
        "95.00 0.532 -0.005 2861\n",
        "97.00 0.531 -0.006 2915\n",
        "99.00 0.533 -0.004 2969\n",
        "\n",
        "sell:\n",
        "2.00 -0.358 -10.804  53\n",
        "4.00 -0.393 -3.541 107\n",
        "5.00 -0.398 -2.615 161\n",
        "7.00 -0.405 -1.645 215\n",
        "9.00 -0.435 -0.543 269\n",
        "11.00 -0.424 -0.659 323\n",
        "13.00 -0.427 -0.509 377\n",
        "14.00 -0.429 -0.438 431\n",
        "16.00 -0.425 -0.445 485\n",
        "18.00 -0.429 -0.349 539\n",
        "20.00 -0.432 -0.280 593\n",
        "22.00 -0.427 -0.305 647\n",
        "23.00 -0.429 -0.265 701\n",
        "25.00 -0.428 -0.258 755\n",
        "27.00 -0.431 -0.210 809\n",
        "29.00 -0.431 -0.198 863\n",
        "31.00 -0.427 -0.210 917\n",
        "32.00 -0.424 -0.226 971\n",
        "34.00 -0.420 -0.237 1025\n",
        "36.00 -0.428 -0.177 1079\n",
        "38.00 -0.438 -0.112 1133\n",
        "40.00 -0.440 -0.096 1187\n",
        "41.00 -0.443 -0.075 1241\n",
        "43.00 -0.445 -0.064 1295\n",
        "45.00 -0.443 -0.068 1349\n",
        "47.00 -0.447 -0.048 1403\n",
        "49.00 -0.445 -0.053 1457\n",
        "50.00 -0.447 -0.043 1511\n",
        "52.00 -0.449 -0.037 1565\n",
        "54.00 -0.448 -0.036 1619\n",
        "56.00 -0.449 -0.031 1673\n",
        "58.00 -0.449 -0.030 1727\n",
        "59.00 -0.447 -0.038 1781\n",
        "61.00 -0.447 -0.037 1835\n",
        "63.00 -0.444 -0.047 1889\n",
        "65.00 -0.443 -0.048 1943\n",
        "67.00 -0.445 -0.040 1997\n",
        "68.00 -0.446 -0.036 2051\n",
        "70.00 -0.448 -0.031 2105\n",
        "72.00 -0.447 -0.030 2159\n",
        "74.00 -0.447 -0.029 2213\n",
        "76.00 -0.449 -0.022 2267\n",
        "77.00 -0.449 -0.025 2321\n",
        "79.00 -0.449 -0.023 2375\n",
        "81.00 -0.448 -0.025 2429\n",
        "83.00 -0.449 -0.022 2483\n",
        "85.00 -0.450 -0.019 2537\n",
        "86.00 -0.450 -0.020 2591\n",
        "88.00 -0.450 -0.018 2645\n",
        "90.00 -0.448 -0.023 2699\n",
        "92.00 -0.451 -0.016 2753\n",
        "94.00 -0.452 -0.013 2807\n",
        "95.00 -0.454 -0.008 2861\n",
        "97.00 -0.455 -0.005 2915\n",
        "99.00 -0.456 -0.002 2969\n"
       ]
      },
      {
       "metadata": {},
       "output_type": "display_data",
       "png": "[encoded data removed]",
       "text": [
        "<matplotlib.figure.Figure at 0x7f82fdfc3a90>"
       ]
      }
     ],
     "prompt_number": 183
    },
    {
     "cell_type": "code",
     "collapsed": false,
     "input": [
      "np.median(target)"
     ],
     "language": "python",
     "metadata": {},
     "outputs": [
      {
       "metadata": {},
       "output_type": "pyout",
       "prompt_number": 185,
       "text": [
        "0.089995999999985088"
       ]
      }
     ],
     "prompt_number": 185
    },
    {
     "cell_type": "code",
     "collapsed": false,
     "input": [
      "ss.roc(predictor, target)"
     ],
     "language": "python",
     "metadata": {},
     "outputs": [
      {
       "output_type": "stream",
       "stream": "stdout",
       "text": [
        "threshold: 0.0000\n",
        "\n",
        "Classification probabilities on [0, 1]\n",
        "FPF: 0.610 TPF: 0.574 tau: 0.590\n",
        "\n",
        "Predictive values on [0, 1]\n",
        "PPV: 0.528 NPV: 0.528 rho: 0.543\n",
        "\n",
        "Diagnostic likelihood ratios on [0, +oo)\n",
        "DLR+: 0.941 DLR-: 1.092\n"
       ]
      }
     ],
     "prompt_number": 186
    },
    {
     "cell_type": "code",
     "collapsed": false,
     "input": [
      "VIX[-3:]"
     ],
     "language": "python",
     "metadata": {},
     "outputs": [
      {
       "html": [
        "<div style=\"max-height:1000px;max-width:1500px;overflow:auto;\">\n",
        "<table border=\"1\" class=\"dataframe\">\n",
        "  <thead>\n",
        "    <tr style=\"text-align: right;\">\n",
        "      <th></th>\n",
        "      <th>Open</th>\n",
        "      <th>High</th>\n",
        "      <th>Low</th>\n",
        "      <th>Close</th>\n",
        "    </tr>\n",
        "    <tr>\n",
        "      <th>Date</th>\n",
        "      <th></th>\n",
        "      <th></th>\n",
        "      <th></th>\n",
        "      <th></th>\n",
        "    </tr>\n",
        "  </thead>\n",
        "  <tbody>\n",
        "    <tr>\n",
        "      <th>2015-11-25</th>\n",
        "      <td> 15.55</td>\n",
        "      <td> 15.89</td>\n",
        "      <td> 15.05</td>\n",
        "      <td> 15.19</td>\n",
        "    </tr>\n",
        "    <tr>\n",
        "      <th>2015-11-27</th>\n",
        "      <td> 15.31</td>\n",
        "      <td> 16.09</td>\n",
        "      <td> 15.12</td>\n",
        "      <td> 15.12</td>\n",
        "    </tr>\n",
        "    <tr>\n",
        "      <th>2015-11-30</th>\n",
        "      <td> 15.55</td>\n",
        "      <td> 16.57</td>\n",
        "      <td> 15.52</td>\n",
        "      <td> 16.13</td>\n",
        "    </tr>\n",
        "  </tbody>\n",
        "</table>\n",
        "<p>3 rows \u00d7 4 columns</p>\n",
        "</div>"
       ],
       "metadata": {},
       "output_type": "pyout",
       "prompt_number": 187,
       "text": [
        "             Open   High    Low  Close\n",
        "Date                                  \n",
        "2015-11-25  15.55  15.89  15.05  15.19\n",
        "2015-11-27  15.31  16.09  15.12  15.12\n",
        "2015-11-30  15.55  16.57  15.52  16.13\n",
        "\n",
        "[3 rows x 4 columns]"
       ]
      }
     ],
     "prompt_number": 187
    },
    {
     "cell_type": "code",
     "collapsed": false,
     "input": [
      "predictor[-3:]"
     ],
     "language": "python",
     "metadata": {},
     "outputs": [
      {
       "metadata": {},
       "output_type": "pyout",
       "prompt_number": 188,
       "text": [
        "array([-0.38,  0.12,  0.43])"
       ]
      }
     ],
     "prompt_number": 188
    },
    {
     "cell_type": "code",
     "collapsed": false,
     "input": [
      "SPY[-3:]"
     ],
     "language": "python",
     "metadata": {},
     "outputs": [
      {
       "html": [
        "<div style=\"max-height:1000px;max-width:1500px;overflow:auto;\">\n",
        "<table border=\"1\" class=\"dataframe\">\n",
        "  <thead>\n",
        "    <tr style=\"text-align: right;\">\n",
        "      <th></th>\n",
        "      <th>Open</th>\n",
        "      <th>High</th>\n",
        "      <th>Low</th>\n",
        "      <th>Close</th>\n",
        "      <th>Volume</th>\n",
        "      <th>Adjusted Close</th>\n",
        "    </tr>\n",
        "    <tr>\n",
        "      <th>Date</th>\n",
        "      <th></th>\n",
        "      <th></th>\n",
        "      <th></th>\n",
        "      <th></th>\n",
        "      <th></th>\n",
        "      <th></th>\n",
        "    </tr>\n",
        "  </thead>\n",
        "  <tbody>\n",
        "    <tr>\n",
        "      <th>2015-11-25</th>\n",
        "      <td> 209.500000</td>\n",
        "      <td> 209.740005</td>\n",
        "      <td> 209.009995</td>\n",
        "      <td> 209.320007</td>\n",
        "      <td>  51980100</td>\n",
        "      <td> 209.320007</td>\n",
        "    </tr>\n",
        "    <tr>\n",
        "      <th>2015-11-27</th>\n",
        "      <td> 209.429993</td>\n",
        "      <td> 209.800003</td>\n",
        "      <td> 208.860001</td>\n",
        "      <td> 209.559998</td>\n",
        "      <td>  37298600</td>\n",
        "      <td> 209.559998</td>\n",
        "    </tr>\n",
        "    <tr>\n",
        "      <th>2015-11-30</th>\n",
        "      <td> 209.750000</td>\n",
        "      <td> 209.889999</td>\n",
        "      <td> 208.559998</td>\n",
        "      <td> 208.690002</td>\n",
        "      <td> 104282700</td>\n",
        "      <td> 208.690002</td>\n",
        "    </tr>\n",
        "  </tbody>\n",
        "</table>\n",
        "<p>3 rows \u00d7 6 columns</p>\n",
        "</div>"
       ],
       "metadata": {},
       "output_type": "pyout",
       "prompt_number": 189,
       "text": [
        "                  Open        High         Low       Close     Volume  \\\n",
        "Date                                                                    \n",
        "2015-11-25  209.500000  209.740005  209.009995  209.320007   51980100   \n",
        "2015-11-27  209.429993  209.800003  208.860001  209.559998   37298600   \n",
        "2015-11-30  209.750000  209.889999  208.559998  208.690002  104282700   \n",
        "\n",
        "            Adjusted Close  \n",
        "Date                        \n",
        "2015-11-25      209.320007  \n",
        "2015-11-27      209.559998  \n",
        "2015-11-30      208.690002  \n",
        "\n",
        "[3 rows x 6 columns]"
       ]
      }
     ],
     "prompt_number": 189
    },
    {
     "cell_type": "code",
     "collapsed": false,
     "input": [
      "target[-3:]"
     ],
     "language": "python",
     "metadata": {},
     "outputs": [
      {
       "metadata": {},
       "output_type": "pyout",
       "prompt_number": 190,
       "text": [
        "array([-0.179993,  0.130005, -1.059998])"
       ]
      }
     ],
     "prompt_number": 190
    },
    {
     "cell_type": "code",
     "collapsed": false,
     "input": [],
     "language": "python",
     "metadata": {},
     "outputs": []
    }
   ],
   "metadata": {}
  }
 ]
}