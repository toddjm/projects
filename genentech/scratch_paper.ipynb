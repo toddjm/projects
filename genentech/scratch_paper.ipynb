{
 "cells": [
  {
   "cell_type": "code",
   "execution_count": 215,
   "id": "356cd1c5-a9ac-4582-8498-1aac53ee1fa3",
   "metadata": {},
   "outputs": [],
   "source": [
    "import pandas as pd\n",
    "import os\n",
    "from matplotlib import pyplot as plt\n",
    "import numpy as np\n",
    "%matplotlib inline"
   ]
  },
  {
   "cell_type": "code",
   "execution_count": 216,
   "id": "6332c95e-8284-42a7-9590-38127e82b02a",
   "metadata": {},
   "outputs": [],
   "source": [
    "# Make sure we are in the right directory and that our input files exist\n",
    "os.chdir('C:/Users/toddm/code/data-science-take-home-mrjxzx/')  # Genentech, you'll need to change this path\n",
    "data_dir = './data/'\n",
    "required_files = ['test', 'train']  # Minimum required files for this code to work\n",
    "for file in required_files:\n",
    "    if not os.path.exists(data_dir + file + '.csv'):\n",
    "        raise FileExistsError('{} does not exit, exiting'.format(file))\n",
    "    globals()['%s' % file] = pd.read_csv(data_dir + file + '.csv')"
   ]
  },
  {
   "cell_type": "code",
   "execution_count": 217,
   "id": "89d6faf4-0ec4-4a36-b7cb-948acfe45d0a",
   "metadata": {},
   "outputs": [],
   "source": [
    "# To be safe, make deep copies of dataframes to work with\n",
    "train_df = train.copy(deep=True)\n",
    "test_df = test.copy(deep=True)"
   ]
  },
  {
   "cell_type": "code",
   "execution_count": 218,
   "id": "0c2874c9-422e-4db6-bb6a-dac8914d84f9",
   "metadata": {},
   "outputs": [],
   "source": [
    "# Drop columns we know we don't need\n",
    "columns_to_drop = ['customer_id', 'Name', 'security_no', 'referral_id']\n",
    "train_df.drop(columns_to_drop, axis=1, inplace=True)\n",
    "test_df.drop(columns_to_drop, axis=1, inplace=True)"
   ]
  },
  {
   "cell_type": "code",
   "execution_count": 219,
   "id": "47c4ee1e-1c0c-489b-a45e-d836f80e1827",
   "metadata": {},
   "outputs": [],
   "source": [
    "# Drop duplicate rows\n",
    "train_df.drop_duplicates(inplace=True)\n",
    "test_df.drop_duplicates(inplace=True)"
   ]
  },
  {
   "cell_type": "code",
   "execution_count": 220,
   "id": "8a2baa73-575a-4dd3-9960-76d306288e67",
   "metadata": {},
   "outputs": [],
   "source": [
    "# Drop rows with any NaN value\n",
    "train_df.dropna(inplace=True)\n",
    "test_df.dropna(inplace=True)"
   ]
  },
  {
   "cell_type": "code",
   "execution_count": 223,
   "id": "01792235-66d8-438e-9ea6-dd5bc50cef5b",
   "metadata": {},
   "outputs": [],
   "source": [
    "# Drop age, almost uniformly distruibuted\n",
    "train_df.drop(['age'], axis=1, inplace=True)\n",
    "test_df.drop(['age'], axis=1, inplace=True)"
   ]
  },
  {
   "cell_type": "code",
   "execution_count": null,
   "id": "30d668da-2699-4cc3-a99d-7b8ca2ba2970",
   "metadata": {},
   "outputs": [],
   "source": []
  },
  {
   "cell_type": "code",
   "execution_count": 211,
   "id": "16c41ee1-7748-45f5-a607-e42ccd0e3d11",
   "metadata": {},
   "outputs": [],
   "source": [
    "train_df['gender'].replace(['F', 'M'], [0, 1], inplace=True)"
   ]
  },
  {
   "cell_type": "code",
   "execution_count": 212,
   "id": "0484e8d7-42ab-4a36-b118-2c955cf5099a",
   "metadata": {},
   "outputs": [
    {
     "data": {
      "text/plain": [
       "age                             False\n",
       "gender                          False\n",
       "region_category                  True\n",
       "membership_category             False\n",
       "joining_date                    False\n",
       "joined_through_referral         False\n",
       "preferred_offer_types            True\n",
       "medium_of_operation             False\n",
       "internet_option                 False\n",
       "last_visit_time                 False\n",
       "days_since_last_login           False\n",
       "avg_time_spent                  False\n",
       "avg_transaction_value           False\n",
       "avg_frequency_login_days        False\n",
       "points_in_wallet                 True\n",
       "used_special_discount           False\n",
       "offer_application_preference    False\n",
       "past_complaint                  False\n",
       "complaint_status                False\n",
       "feedback                        False\n",
       "churn_risk_score                False\n",
       "dtype: bool"
      ]
     },
     "execution_count": 212,
     "metadata": {},
     "output_type": "execute_result"
    }
   ],
   "source": [
    "train_df.isna().any()"
   ]
  },
  {
   "cell_type": "code",
   "execution_count": 238,
   "id": "ef4a431f-f78b-4cce-af60-a893081d749a",
   "metadata": {},
   "outputs": [
    {
     "data": {
      "text/plain": [
       "{0: 3,\n",
       " 1: 3,\n",
       " 2: 6,\n",
       " 3: 1096,\n",
       " 4: 3,\n",
       " 5: 3,\n",
       " 6: 4,\n",
       " 7: 3,\n",
       " 8: 24196,\n",
       " 9: 27,\n",
       " 10: 21050,\n",
       " 11: 28312,\n",
       " 12: 1266,\n",
       " 13: 20977,\n",
       " 14: 2,\n",
       " 15: 2,\n",
       " 16: 2,\n",
       " 17: 5,\n",
       " 18: 9,\n",
       " 19: 6}"
      ]
     },
     "execution_count": 238,
     "metadata": {},
     "output_type": "execute_result"
    }
   ],
   "source": [
    "# Drop columns with small numbers of unique values\n",
    "unique_counts = {}\n",
    "for i, column in enumerate(train_df.columns):\n",
    "    unique_counts[i] = train_df[column].nunique()\n",
    "unique_counts"
   ]
  },
  {
   "cell_type": "code",
   "execution_count": 224,
   "id": "1eec5d7a-eef1-4591-a8ec-c2e047017b1d",
   "metadata": {},
   "outputs": [
    {
     "data": {
      "text/plain": [
       "Index(['gender', 'region_category', 'membership_category', 'joining_date',\n",
       "       'joined_through_referral', 'preferred_offer_types',\n",
       "       'medium_of_operation', 'internet_option', 'last_visit_time',\n",
       "       'days_since_last_login', 'avg_time_spent', 'avg_transaction_value',\n",
       "       'avg_frequency_login_days', 'points_in_wallet', 'used_special_discount',\n",
       "       'offer_application_preference', 'past_complaint', 'complaint_status',\n",
       "       'feedback', 'churn_risk_score'],\n",
       "      dtype='object')"
      ]
     },
     "execution_count": 224,
     "metadata": {},
     "output_type": "execute_result"
    }
   ],
   "source": [
    "train_df.columns"
   ]
  },
  {
   "cell_type": "code",
   "execution_count": null,
   "id": "bdb18e0b-8b9f-42f5-b46f-e0aa54c0fbfd",
   "metadata": {},
   "outputs": [],
   "source": [
    "# 36992 rows and 25 columns; null values for 'region_category', 'preferred_offer_types', and 'points_in_wallet'"
   ]
  },
  {
   "cell_type": "code",
   "execution_count": null,
   "id": "c5532fe7-0f1d-48be-99e0-5fc18fb1f463",
   "metadata": {},
   "outputs": [],
   "source": [
    "# Drop columns that will not be needed\n",
    "columns_to_drop = ['customer_id', 'Name', 'security_no', 'referral_id']"
   ]
  },
  {
   "cell_type": "code",
   "execution_count": 225,
   "id": "8f35ce51-7fe6-4db6-9da2-aaab47035fb6",
   "metadata": {},
   "outputs": [
    {
     "data": {
      "image/png": "[encoded data removed]",
      "text/plain": [
       "<Figure size 432x288 with 1 Axes>"
      ]
     },
     "metadata": {
      "needs_background": "light"
     },
     "output_type": "display_data"
    },
    {
     "data": {
      "image/png": "[encoded data removed]",
      "text/plain": [
       "<Figure size 432x288 with 1 Axes>"
      ]
     },
     "metadata": {
      "needs_background": "light"
     },
     "output_type": "display_data"
    },
    {
     "data": {
      "image/png": "[encoded data removed]",
      "text/plain": [
       "<Figure size 432x288 with 1 Axes>"
      ]
     },
     "metadata": {
      "needs_background": "light"
     },
     "output_type": "display_data"
    },
    {
     "data": {
      "image/png": "[encoded data removed]",
      "text/plain": [
       "<Figure size 432x288 with 1 Axes>"
      ]
     },
     "metadata": {
      "needs_background": "light"
     },
     "output_type": "display_data"
    },
    {
     "data": {
      "image/png": "[encoded data removed]",
      "text/plain": [
       "<Figure size 432x288 with 1 Axes>"
      ]
     },
     "metadata": {
      "needs_background": "light"
     },
     "output_type": "display_data"
    }
   ],
   "source": [
    "# Have a look at the data to see where we need to deal with outliers\n",
    "for column in train_df.describe().columns:\n",
    "    plt.title(column)\n",
    "    plt.hist(train_df[column])\n",
    "    plt.show()"
   ]
  },
  {
   "cell_type": "code",
   "execution_count": 229,
   "id": "139e6d70-1078-47cf-9b34-97e5c7ba0dff",
   "metadata": {},
   "outputs": [
    {
     "data": {
      "text/plain": [
       "array(['Platinum Membership', 'No Membership', 'Gold Membership',\n",
       "       'Basic Membership', 'Silver Membership', 'Premium Membership'],\n",
       "      dtype=object)"
      ]
     },
     "execution_count": 229,
     "metadata": {},
     "output_type": "execute_result"
    }
   ],
   "source": [
    "train_df.membership_category.unique()"
   ]
  },
  {
   "cell_type": "code",
   "execution_count": 237,
   "id": "d1afe237-2dc0-40ac-8af1-2ea2b3e54bcb",
   "metadata": {},
   "outputs": [
    {
     "name": "stdout",
     "output_type": "stream",
     "text": [
      "0 Village\n",
      "1 Town\n",
      "2 City\n"
     ]
    }
   ],
   "source": [
    "for idx, val in enumerate(train_df.region_category.unique()):\n",
    "    print(idx, val)\n",
    "    train_df.region_category"
   ]
  },
  {
   "cell_type": "code",
   "execution_count": null,
   "id": "5a5f2491-255f-4cd7-a6fa-86163d7673eb",
   "metadata": {},
   "outputs": [],
   "source": []
  }
 ],
 "metadata": {
  "kernelspec": {
   "display_name": "Python 3",
   "language": "python",
   "name": "python3"
  },
  "language_info": {
   "codemirror_mode": {
    "name": "ipython",
    "version": 3
   },
   "file_extension": ".py",
   "mimetype": "text/x-python",
   "name": "python",
   "nbconvert_exporter": "python",
   "pygments_lexer": "ipython3",
   "version": "3.8.8"
  }
 },
 "nbformat": 4,
 "nbformat_minor": 5
}
